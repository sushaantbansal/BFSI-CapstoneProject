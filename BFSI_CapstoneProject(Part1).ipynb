{
 "cells": [
  {
   "cell_type": "markdown",
   "metadata": {},
   "source": [
    "# BFSI Capstone Project(Part1)"
   ]
  },
  {
   "cell_type": "code",
   "execution_count": 190,
   "metadata": {},
   "outputs": [],
   "source": [
    "import warnings\n",
    "warnings.filterwarnings('ignore')\n",
    "\n",
    "import numpy as np\n",
    "import pandas as pd\n",
    "import matplotlib.pyplot as plt\n",
    "import seaborn as sns"
   ]
  },
  {
   "cell_type": "code",
   "execution_count": 191,
   "metadata": {
    "scrolled": true
   },
   "outputs": [
    {
     "name": "stdout",
     "output_type": "stream",
     "text": [
      "<class 'pandas.core.frame.DataFrame'>\n",
      "RangeIndex: 71295 entries, 0 to 71294\n",
      "Data columns (total 12 columns):\n",
      "Application ID                                 71295 non-null int64\n",
      "Age                                            71295 non-null int64\n",
      "Gender                                         71293 non-null object\n",
      "Marital Status (at the time of application)    71289 non-null object\n",
      "No of dependents                               71292 non-null float64\n",
      "Income                                         71295 non-null float64\n",
      "Education                                      71176 non-null object\n",
      "Profession                                     71281 non-null object\n",
      "Type of residence                              71287 non-null object\n",
      "No of months in current residence              71295 non-null int64\n",
      "No of months in current company                71295 non-null int64\n",
      "Performance Tag                                69870 non-null float64\n",
      "dtypes: float64(3), int64(4), object(5)\n",
      "memory usage: 6.5+ MB\n",
      "<class 'pandas.core.frame.DataFrame'>\n",
      "RangeIndex: 71295 entries, 0 to 71294\n",
      "Data columns (total 19 columns):\n",
      "Application ID                                                     71295 non-null int64\n",
      "No of times 90 DPD or worse in last 6 months                       71295 non-null int64\n",
      "No of times 60 DPD or worse in last 6 months                       71295 non-null int64\n",
      "No of times 30 DPD or worse in last 6 months                       71295 non-null int64\n",
      "No of times 90 DPD or worse in last 12 months                      71295 non-null int64\n",
      "No of times 60 DPD or worse in last 12 months                      71295 non-null int64\n",
      "No of times 30 DPD or worse in last 12 months                      71295 non-null int64\n",
      "Avgas CC Utilization in last 12 months                             70237 non-null float64\n",
      "No of trades opened in last 6 months                               71294 non-null float64\n",
      "No of trades opened in last 12 months                              71295 non-null int64\n",
      "No of PL trades opened in last 6 months                            71295 non-null int64\n",
      "No of PL trades opened in last 12 months                           71295 non-null int64\n",
      "No of Inquiries in last 6 months (excluding home & auto loans)     71295 non-null int64\n",
      "No of Inquiries in last 12 months (excluding home & auto loans)    71295 non-null int64\n",
      "Presence of open home loan                                         71023 non-null float64\n",
      "Outstanding Balance                                                71023 non-null float64\n",
      "Total No of Trades                                                 71295 non-null int64\n",
      "Presence of open auto loan                                         71295 non-null int64\n",
      "Performance Tag                                                    69870 non-null float64\n",
      "dtypes: float64(5), int64(14)\n",
      "memory usage: 10.3 MB\n"
     ]
    }
   ],
   "source": [
    "demog_df = pd.read_csv(\"Demographic data.csv\", sep=\",\")\n",
    "credbur_df = pd.read_csv(\"Credit Bureau data.csv\", sep=\",\")\n",
    "\n",
    "demog_df.info()\n",
    "\n",
    "credbur_df.info()"
   ]
  },
  {
   "cell_type": "code",
   "execution_count": 192,
   "metadata": {
    "scrolled": false
   },
   "outputs": [
    {
     "data": {
      "text/plain": [
       "Application ID                                    0\n",
       "Age                                               0\n",
       "Gender                                            2\n",
       "Marital Status (at the time of application)       6\n",
       "No of dependents                                  3\n",
       "Income                                            0\n",
       "Education                                       119\n",
       "Profession                                       14\n",
       "Type of residence                                 8\n",
       "No of months in current residence                 0\n",
       "No of months in current company                   0\n",
       "Performance Tag                                1425\n",
       "dtype: int64"
      ]
     },
     "execution_count": 192,
     "metadata": {},
     "output_type": "execute_result"
    }
   ],
   "source": [
    "demog_df.isnull().sum()"
   ]
  },
  {
   "cell_type": "code",
   "execution_count": 193,
   "metadata": {},
   "outputs": [
    {
     "data": {
      "text/plain": [
       " 0.0    66922\n",
       " 1.0     2948\n",
       "NaN      1425\n",
       "Name: Performance Tag, dtype: int64"
      ]
     },
     "execution_count": 193,
     "metadata": {},
     "output_type": "execute_result"
    }
   ],
   "source": [
    "demog_df['Performance Tag'].value_counts(dropna=False)"
   ]
  },
  {
   "cell_type": "code",
   "execution_count": 194,
   "metadata": {
    "scrolled": true
   },
   "outputs": [
    {
     "data": {
      "text/plain": [
       "Application ID                                                        0\n",
       "No of times 90 DPD or worse in last 6 months                          0\n",
       "No of times 60 DPD or worse in last 6 months                          0\n",
       "No of times 30 DPD or worse in last 6 months                          0\n",
       "No of times 90 DPD or worse in last 12 months                         0\n",
       "No of times 60 DPD or worse in last 12 months                         0\n",
       "No of times 30 DPD or worse in last 12 months                         0\n",
       "Avgas CC Utilization in last 12 months                             1058\n",
       "No of trades opened in last 6 months                                  1\n",
       "No of trades opened in last 12 months                                 0\n",
       "No of PL trades opened in last 6 months                               0\n",
       "No of PL trades opened in last 12 months                              0\n",
       "No of Inquiries in last 6 months (excluding home & auto loans)        0\n",
       "No of Inquiries in last 12 months (excluding home & auto loans)       0\n",
       "Presence of open home loan                                          272\n",
       "Outstanding Balance                                                 272\n",
       "Total No of Trades                                                    0\n",
       "Presence of open auto loan                                            0\n",
       "Performance Tag                                                    1425\n",
       "dtype: int64"
      ]
     },
     "execution_count": 194,
     "metadata": {},
     "output_type": "execute_result"
    }
   ],
   "source": [
    "credbur_df.isnull().sum()"
   ]
  },
  {
   "cell_type": "code",
   "execution_count": 195,
   "metadata": {},
   "outputs": [
    {
     "data": {
      "text/plain": [
       " 0.0    66922\n",
       " 1.0     2948\n",
       "NaN      1425\n",
       "Name: Performance Tag, dtype: int64"
      ]
     },
     "execution_count": 195,
     "metadata": {},
     "output_type": "execute_result"
    }
   ],
   "source": [
    "credbur_df['Performance Tag'].value_counts(dropna=False)"
   ]
  },
  {
   "cell_type": "code",
   "execution_count": 196,
   "metadata": {},
   "outputs": [
    {
     "data": {
      "text/plain": [
       "4.22"
      ]
     },
     "execution_count": 196,
     "metadata": {},
     "output_type": "execute_result"
    }
   ],
   "source": [
    "100*(credbur_df['Performance Tag'].sum()/credbur_df['Performance Tag'].count()).round(4)"
   ]
  },
  {
   "cell_type": "markdown",
   "metadata": {},
   "source": [
    "Clearly, as we can see above we have `4.22%` customers who ultimately defaulted."
   ]
  },
  {
   "cell_type": "markdown",
   "metadata": {},
   "source": [
    "## EDA"
   ]
  },
  {
   "cell_type": "markdown",
   "metadata": {},
   "source": [
    "### Demographic data\n",
    "\n",
    "#### Age"
   ]
  },
  {
   "cell_type": "code",
   "execution_count": 197,
   "metadata": {
    "scrolled": false
   },
   "outputs": [
    {
     "data": {
      "image/png": "[encoded data removed]",
      "text/plain": [
       "<Figure size 432x288 with 1 Axes>"
      ]
     },
     "metadata": {
      "needs_background": "light"
     },
     "output_type": "display_data"
    }
   ],
   "source": [
    "sns.boxplot(x='Age', data=demog_df)\n",
    "plt.show()"
   ]
  },
  {
   "cell_type": "code",
   "execution_count": 198,
   "metadata": {},
   "outputs": [],
   "source": [
    "# removing the outliers less than 18 by replacing them with the assumed minimum value of 18 \n",
    "# as age less than 18 is effectively wrong entry\n",
    "demog_df['Age'][demog_df['Age']<18] = 18"
   ]
  },
  {
   "cell_type": "code",
   "execution_count": 199,
   "metadata": {},
   "outputs": [
    {
     "data": {
      "image/png": "[encoded data removed]",
      "text/plain": [
       "<Figure size 432x288 with 1 Axes>"
      ]
     },
     "metadata": {
      "needs_background": "light"
     },
     "output_type": "display_data"
    }
   ],
   "source": [
    "sns.boxplot(x='Age', data=demog_df)\n",
    "plt.show()"
   ]
  },
  {
   "cell_type": "code",
   "execution_count": 200,
   "metadata": {},
   "outputs": [],
   "source": [
    "# bucketing the data based on the age to study the default rate\n",
    "bins = np.arange(10,demog_df['Age'].max() + 10, 10) \n",
    "demog_df['Age_bin'] = pd.cut(demog_df['Age'], bins, include_lowest=True)"
   ]
  },
  {
   "cell_type": "code",
   "execution_count": 201,
   "metadata": {},
   "outputs": [],
   "source": [
    "No_of_prospect = demog_df.groupby('Age_bin')['Performance Tag'].count().reset_index(name = 'noof_prospect')\n",
    "count_prospects = demog_df[demog_df['Performance Tag']==1].groupby('Age_bin')['Performance Tag'].count().reset_index(name = 'count_prospect')\n",
    "\n",
    "agg_age = No_of_prospect.merge(count_prospects, on='Age_bin')\n",
    "agg_age['default_rate'] = 100*(agg_age['count_prospect']/agg_age['noof_prospect']).round(2)"
   ]
  },
  {
   "cell_type": "code",
   "execution_count": 202,
   "metadata": {},
   "outputs": [
    {
     "data": {
      "text/html": [
       "<div>\n",
       "<style scoped>\n",
       "    .dataframe tbody tr th:only-of-type {\n",
       "        vertical-align: middle;\n",
       "    }\n",
       "\n",
       "    .dataframe tbody tr th {\n",
       "        vertical-align: top;\n",
       "    }\n",
       "\n",
       "    .dataframe thead th {\n",
       "        text-align: right;\n",
       "    }\n",
       "</style>\n",
       "<table border=\"1\" class=\"dataframe\">\n",
       "  <thead>\n",
       "    <tr style=\"text-align: right;\">\n",
       "      <th></th>\n",
       "      <th>Age_bin</th>\n",
       "      <th>noof_prospect</th>\n",
       "      <th>count_prospect</th>\n",
       "      <th>default_rate</th>\n",
       "    </tr>\n",
       "  </thead>\n",
       "  <tbody>\n",
       "    <tr>\n",
       "      <th>0</th>\n",
       "      <td>(9.999, 20.0]</td>\n",
       "      <td>141</td>\n",
       "      <td>3</td>\n",
       "      <td>2.0</td>\n",
       "    </tr>\n",
       "    <tr>\n",
       "      <th>1</th>\n",
       "      <td>(20.0, 30.0]</td>\n",
       "      <td>5807</td>\n",
       "      <td>238</td>\n",
       "      <td>4.0</td>\n",
       "    </tr>\n",
       "    <tr>\n",
       "      <th>2</th>\n",
       "      <td>(30.0, 40.0]</td>\n",
       "      <td>18690</td>\n",
       "      <td>831</td>\n",
       "      <td>4.0</td>\n",
       "    </tr>\n",
       "    <tr>\n",
       "      <th>3</th>\n",
       "      <td>(40.0, 50.0]</td>\n",
       "      <td>22872</td>\n",
       "      <td>958</td>\n",
       "      <td>4.0</td>\n",
       "    </tr>\n",
       "    <tr>\n",
       "      <th>4</th>\n",
       "      <td>(50.0, 60.0]</td>\n",
       "      <td>17535</td>\n",
       "      <td>718</td>\n",
       "      <td>4.0</td>\n",
       "    </tr>\n",
       "    <tr>\n",
       "      <th>5</th>\n",
       "      <td>(60.0, 70.0]</td>\n",
       "      <td>4825</td>\n",
       "      <td>200</td>\n",
       "      <td>4.0</td>\n",
       "    </tr>\n",
       "  </tbody>\n",
       "</table>\n",
       "</div>"
      ],
      "text/plain": [
       "         Age_bin  noof_prospect  count_prospect  default_rate\n",
       "0  (9.999, 20.0]            141               3           2.0\n",
       "1   (20.0, 30.0]           5807             238           4.0\n",
       "2   (30.0, 40.0]          18690             831           4.0\n",
       "3   (40.0, 50.0]          22872             958           4.0\n",
       "4   (50.0, 60.0]          17535             718           4.0\n",
       "5   (60.0, 70.0]           4825             200           4.0"
      ]
     },
     "execution_count": 202,
     "metadata": {},
     "output_type": "execute_result"
    }
   ],
   "source": [
    "agg_age"
   ]
  },
  {
   "cell_type": "markdown",
   "metadata": {},
   "source": [
    "The default rate for all the bins is same except for the first age bin which has unmatchable difference in the data proportion."
   ]
  },
  {
   "cell_type": "markdown",
   "metadata": {},
   "source": [
    "#### Gender"
   ]
  },
  {
   "cell_type": "code",
   "execution_count": 203,
   "metadata": {
    "scrolled": true
   },
   "outputs": [
    {
     "data": {
      "text/plain": [
       "M      54456\n",
       "F      16837\n",
       "NaN        2\n",
       "Name: Gender, dtype: int64"
      ]
     },
     "execution_count": 203,
     "metadata": {},
     "output_type": "execute_result"
    }
   ],
   "source": [
    "demog_df['Gender'].value_counts(dropna=False)"
   ]
  },
  {
   "cell_type": "code",
   "execution_count": 204,
   "metadata": {},
   "outputs": [
    {
     "data": {
      "text/plain": [
       "M    54458\n",
       "F    16837\n",
       "Name: Gender, dtype: int64"
      ]
     },
     "execution_count": 204,
     "metadata": {},
     "output_type": "execute_result"
    }
   ],
   "source": [
    "# replacing the two missing values with the Mode \"M\"\n",
    "demog_df['Gender'].fillna('M', inplace=True)\n",
    "\n",
    "demog_df['Gender'].value_counts(dropna=False)"
   ]
  },
  {
   "cell_type": "code",
   "execution_count": 205,
   "metadata": {},
   "outputs": [],
   "source": [
    "count_prospects_gender = demog_df.groupby('Gender')['Performance Tag'].sum().reset_index(name = 'count_prospect')\n",
    "No_of_prospect_gender = demog_df.groupby('Gender')['Performance Tag'].count().reset_index(name = 'noof_prospect')\n",
    "\n",
    "agg_gender = count_prospects_gender.merge(No_of_prospect_gender, on = 'Gender')\n",
    "agg_gender['default_rate'] = 100*(agg_gender['count_prospect']/agg_gender['noof_prospect']).round(4)"
   ]
  },
  {
   "cell_type": "code",
   "execution_count": 206,
   "metadata": {},
   "outputs": [
    {
     "data": {
      "text/html": [
       "<div>\n",
       "<style scoped>\n",
       "    .dataframe tbody tr th:only-of-type {\n",
       "        vertical-align: middle;\n",
       "    }\n",
       "\n",
       "    .dataframe tbody tr th {\n",
       "        vertical-align: top;\n",
       "    }\n",
       "\n",
       "    .dataframe thead th {\n",
       "        text-align: right;\n",
       "    }\n",
       "</style>\n",
       "<table border=\"1\" class=\"dataframe\">\n",
       "  <thead>\n",
       "    <tr style=\"text-align: right;\">\n",
       "      <th></th>\n",
       "      <th>Gender</th>\n",
       "      <th>count_prospect</th>\n",
       "      <th>noof_prospect</th>\n",
       "      <th>default_rate</th>\n",
       "    </tr>\n",
       "  </thead>\n",
       "  <tbody>\n",
       "    <tr>\n",
       "      <th>0</th>\n",
       "      <td>F</td>\n",
       "      <td>718.0</td>\n",
       "      <td>16506</td>\n",
       "      <td>4.35</td>\n",
       "    </tr>\n",
       "    <tr>\n",
       "      <th>1</th>\n",
       "      <td>M</td>\n",
       "      <td>2230.0</td>\n",
       "      <td>53364</td>\n",
       "      <td>4.18</td>\n",
       "    </tr>\n",
       "  </tbody>\n",
       "</table>\n",
       "</div>"
      ],
      "text/plain": [
       "  Gender  count_prospect  noof_prospect  default_rate\n",
       "0      F           718.0          16506          4.35\n",
       "1      M          2230.0          53364          4.18"
      ]
     },
     "execution_count": 206,
     "metadata": {},
     "output_type": "execute_result"
    }
   ],
   "source": [
    "agg_gender"
   ]
  },
  {
   "cell_type": "markdown",
   "metadata": {},
   "source": [
    "Again the default rate is similar in terms of Gender as well."
   ]
  },
  {
   "cell_type": "markdown",
   "metadata": {},
   "source": [
    "#### Marital Status"
   ]
  },
  {
   "cell_type": "code",
   "execution_count": 207,
   "metadata": {
    "scrolled": true
   },
   "outputs": [
    {
     "data": {
      "text/plain": [
       "Married    60730\n",
       "Single     10559\n",
       "NaN            6\n",
       "Name: Marital Status (at the time of application), dtype: int64"
      ]
     },
     "execution_count": 207,
     "metadata": {},
     "output_type": "execute_result"
    }
   ],
   "source": [
    "demog_df['Marital Status (at the time of application)'].value_counts(dropna=False)"
   ]
  },
  {
   "cell_type": "code",
   "execution_count": 208,
   "metadata": {},
   "outputs": [
    {
     "data": {
      "text/plain": [
       "Married    60736\n",
       "Single     10559\n",
       "Name: Marital Status (at the time of application), dtype: int64"
      ]
     },
     "execution_count": 208,
     "metadata": {},
     "output_type": "execute_result"
    }
   ],
   "source": [
    "# replacing the six missing values with the Mode \"Married\"\n",
    "demog_df['Marital Status (at the time of application)'].fillna('Married', inplace=True)\n",
    "\n",
    "demog_df['Marital Status (at the time of application)'].value_counts(dropna=False)"
   ]
  },
  {
   "cell_type": "code",
   "execution_count": 209,
   "metadata": {},
   "outputs": [],
   "source": [
    "count_prospects_ms = demog_df.groupby('Marital Status (at the time of application)')['Performance Tag'].sum().reset_index(name = 'count_prospect')\n",
    "No_of_prospect_ms = demog_df.groupby('Marital Status (at the time of application)')['Performance Tag'].count().reset_index(name = 'noof_prospect')\n",
    "\n",
    "agg_ms = count_prospects_ms.merge(No_of_prospect_ms, on = 'Marital Status (at the time of application)')\n",
    "agg_ms['default_rate'] = 100*(agg_ms['count_prospect']/agg_ms['noof_prospect']).round(4)"
   ]
  },
  {
   "cell_type": "code",
   "execution_count": 210,
   "metadata": {},
   "outputs": [
    {
     "data": {
      "text/html": [
       "<div>\n",
       "<style scoped>\n",
       "    .dataframe tbody tr th:only-of-type {\n",
       "        vertical-align: middle;\n",
       "    }\n",
       "\n",
       "    .dataframe tbody tr th {\n",
       "        vertical-align: top;\n",
       "    }\n",
       "\n",
       "    .dataframe thead th {\n",
       "        text-align: right;\n",
       "    }\n",
       "</style>\n",
       "<table border=\"1\" class=\"dataframe\">\n",
       "  <thead>\n",
       "    <tr style=\"text-align: right;\">\n",
       "      <th></th>\n",
       "      <th>Marital Status (at the time of application)</th>\n",
       "      <th>count_prospect</th>\n",
       "      <th>noof_prospect</th>\n",
       "      <th>default_rate</th>\n",
       "    </tr>\n",
       "  </thead>\n",
       "  <tbody>\n",
       "    <tr>\n",
       "      <th>0</th>\n",
       "      <td>Married</td>\n",
       "      <td>2503.0</td>\n",
       "      <td>59553</td>\n",
       "      <td>4.20</td>\n",
       "    </tr>\n",
       "    <tr>\n",
       "      <th>1</th>\n",
       "      <td>Single</td>\n",
       "      <td>445.0</td>\n",
       "      <td>10317</td>\n",
       "      <td>4.31</td>\n",
       "    </tr>\n",
       "  </tbody>\n",
       "</table>\n",
       "</div>"
      ],
      "text/plain": [
       "  Marital Status (at the time of application)  count_prospect  noof_prospect  \\\n",
       "0                                     Married          2503.0          59553   \n",
       "1                                      Single           445.0          10317   \n",
       "\n",
       "   default_rate  \n",
       "0          4.20  \n",
       "1          4.31  "
      ]
     },
     "execution_count": 210,
     "metadata": {},
     "output_type": "execute_result"
    }
   ],
   "source": [
    "agg_ms"
   ]
  },
  {
   "cell_type": "markdown",
   "metadata": {},
   "source": [
    "And so is here. "
   ]
  },
  {
   "cell_type": "markdown",
   "metadata": {},
   "source": [
    "#### No of dependents"
   ]
  },
  {
   "cell_type": "code",
   "execution_count": 211,
   "metadata": {
    "scrolled": true
   },
   "outputs": [
    {
     "data": {
      "image/png": "[encoded data removed]",
      "text/plain": [
       "<Figure size 432x288 with 1 Axes>"
      ]
     },
     "metadata": {
      "needs_background": "light"
     },
     "output_type": "display_data"
    }
   ],
   "source": [
    "sns.boxplot(x='No of dependents', data=demog_df)\n",
    "plt.show()"
   ]
  },
  {
   "cell_type": "code",
   "execution_count": 212,
   "metadata": {},
   "outputs": [
    {
     "data": {
      "text/plain": [
       "0"
      ]
     },
     "execution_count": 212,
     "metadata": {},
     "output_type": "execute_result"
    }
   ],
   "source": [
    "# replacing the three missing values with the 50th percentile '3.0'\n",
    "demog_df['No of dependents'].fillna(3.0, inplace=True)\n",
    "\n",
    "demog_df['No of dependents'].isnull().sum()"
   ]
  },
  {
   "cell_type": "code",
   "execution_count": 213,
   "metadata": {},
   "outputs": [],
   "source": [
    "count_prospects_dependents = demog_df.groupby('No of dependents')['Performance Tag'].sum().reset_index(name = 'count_prospect')\n",
    "No_of_prospect_dependents = demog_df.groupby('No of dependents')['Performance Tag'].count().reset_index(name = 'noof_prospect')\n",
    "\n",
    "agg_dependents = count_prospects_dependents.merge(No_of_prospect_dependents, on = 'No of dependents')\n",
    "agg_dependents['default_rate'] = 100*(agg_dependents['count_prospect']/agg_dependents['noof_prospect']).round(4)"
   ]
  },
  {
   "cell_type": "code",
   "execution_count": 214,
   "metadata": {},
   "outputs": [
    {
     "data": {
      "text/html": [
       "<div>\n",
       "<style scoped>\n",
       "    .dataframe tbody tr th:only-of-type {\n",
       "        vertical-align: middle;\n",
       "    }\n",
       "\n",
       "    .dataframe tbody tr th {\n",
       "        vertical-align: top;\n",
       "    }\n",
       "\n",
       "    .dataframe thead th {\n",
       "        text-align: right;\n",
       "    }\n",
       "</style>\n",
       "<table border=\"1\" class=\"dataframe\">\n",
       "  <thead>\n",
       "    <tr style=\"text-align: right;\">\n",
       "      <th></th>\n",
       "      <th>No of dependents</th>\n",
       "      <th>count_prospect</th>\n",
       "      <th>noof_prospect</th>\n",
       "      <th>default_rate</th>\n",
       "    </tr>\n",
       "  </thead>\n",
       "  <tbody>\n",
       "    <tr>\n",
       "      <th>0</th>\n",
       "      <td>1.0</td>\n",
       "      <td>667.0</td>\n",
       "      <td>15218</td>\n",
       "      <td>4.38</td>\n",
       "    </tr>\n",
       "    <tr>\n",
       "      <th>1</th>\n",
       "      <td>2.0</td>\n",
       "      <td>588.0</td>\n",
       "      <td>15128</td>\n",
       "      <td>3.89</td>\n",
       "    </tr>\n",
       "    <tr>\n",
       "      <th>2</th>\n",
       "      <td>3.0</td>\n",
       "      <td>695.0</td>\n",
       "      <td>15648</td>\n",
       "      <td>4.44</td>\n",
       "    </tr>\n",
       "    <tr>\n",
       "      <th>3</th>\n",
       "      <td>4.0</td>\n",
       "      <td>494.0</td>\n",
       "      <td>12000</td>\n",
       "      <td>4.12</td>\n",
       "    </tr>\n",
       "    <tr>\n",
       "      <th>4</th>\n",
       "      <td>5.0</td>\n",
       "      <td>504.0</td>\n",
       "      <td>11876</td>\n",
       "      <td>4.24</td>\n",
       "    </tr>\n",
       "  </tbody>\n",
       "</table>\n",
       "</div>"
      ],
      "text/plain": [
       "   No of dependents  count_prospect  noof_prospect  default_rate\n",
       "0               1.0           667.0          15218          4.38\n",
       "1               2.0           588.0          15128          3.89\n",
       "2               3.0           695.0          15648          4.44\n",
       "3               4.0           494.0          12000          4.12\n",
       "4               5.0           504.0          11876          4.24"
      ]
     },
     "execution_count": 214,
     "metadata": {},
     "output_type": "execute_result"
    }
   ],
   "source": [
    "agg_dependents"
   ]
  },
  {
   "cell_type": "code",
   "execution_count": 215,
   "metadata": {},
   "outputs": [
    {
     "data": {
      "image/png": "[encoded data removed]",
      "text/plain": [
       "<Figure size 432x288 with 1 Axes>"
      ]
     },
     "metadata": {
      "needs_background": "light"
     },
     "output_type": "display_data"
    }
   ],
   "source": [
    "bp = sns.barplot(x='No of dependents', y='default_rate', data=agg_dependents)\n",
    "bp.set_xticklabels(bp.get_xticklabels(),rotation=90)\n",
    "plt.show()"
   ]
  },
  {
   "cell_type": "markdown",
   "metadata": {},
   "source": [
    "Although not much that could be discovered, but people with 1 or 3 dependents seems to default more than others where the data distribution is almost similar throughout the different categories."
   ]
  },
  {
   "cell_type": "markdown",
   "metadata": {},
   "source": [
    "#### Income"
   ]
  },
  {
   "cell_type": "code",
   "execution_count": 216,
   "metadata": {
    "scrolled": true
   },
   "outputs": [
    {
     "data": {
      "image/png": "[encoded data removed]",
      "text/plain": [
       "<Figure size 432x288 with 1 Axes>"
      ]
     },
     "metadata": {
      "needs_background": "light"
     },
     "output_type": "display_data"
    }
   ],
   "source": [
    "sns.boxplot(x='Income', data=demog_df)\n",
    "plt.show()"
   ]
  },
  {
   "cell_type": "code",
   "execution_count": 217,
   "metadata": {},
   "outputs": [],
   "source": [
    "# bucketing the data based on the income to study the default rate\n",
    "bins = np.arange(0,demog_df['Income'].max() + 10, 10) \n",
    "demog_df['Income_bin'] = pd.cut(demog_df['Income'], bins, include_lowest=True)"
   ]
  },
  {
   "cell_type": "code",
   "execution_count": 218,
   "metadata": {},
   "outputs": [],
   "source": [
    "No_of_prospect_income = demog_df.groupby('Income_bin')['Performance Tag'].count().reset_index(name = 'noof_prospect')\n",
    "count_prospects_income = demog_df[demog_df['Performance Tag']==1].groupby('Income_bin')['Performance Tag'].count().reset_index(name = 'count_prospect')\n",
    "\n",
    "agg_income = No_of_prospect_income.merge(count_prospects_income, on='Income_bin')\n",
    "agg_income['default_rate'] = 100*(agg_income['count_prospect']/agg_income['noof_prospect']).round(3)"
   ]
  },
  {
   "cell_type": "code",
   "execution_count": 219,
   "metadata": {
    "scrolled": true
   },
   "outputs": [
    {
     "data": {
      "text/html": [
       "<div>\n",
       "<style scoped>\n",
       "    .dataframe tbody tr th:only-of-type {\n",
       "        vertical-align: middle;\n",
       "    }\n",
       "\n",
       "    .dataframe tbody tr th {\n",
       "        vertical-align: top;\n",
       "    }\n",
       "\n",
       "    .dataframe thead th {\n",
       "        text-align: right;\n",
       "    }\n",
       "</style>\n",
       "<table border=\"1\" class=\"dataframe\">\n",
       "  <thead>\n",
       "    <tr style=\"text-align: right;\">\n",
       "      <th></th>\n",
       "      <th>Income_bin</th>\n",
       "      <th>noof_prospect</th>\n",
       "      <th>count_prospect</th>\n",
       "      <th>default_rate</th>\n",
       "    </tr>\n",
       "  </thead>\n",
       "  <tbody>\n",
       "    <tr>\n",
       "      <th>0</th>\n",
       "      <td>(-0.001, 10.0]</td>\n",
       "      <td>12761</td>\n",
       "      <td>711</td>\n",
       "      <td>5.6</td>\n",
       "    </tr>\n",
       "    <tr>\n",
       "      <th>1</th>\n",
       "      <td>(10.0, 20.0]</td>\n",
       "      <td>13349</td>\n",
       "      <td>604</td>\n",
       "      <td>4.5</td>\n",
       "    </tr>\n",
       "    <tr>\n",
       "      <th>2</th>\n",
       "      <td>(20.0, 30.0]</td>\n",
       "      <td>13587</td>\n",
       "      <td>601</td>\n",
       "      <td>4.4</td>\n",
       "    </tr>\n",
       "    <tr>\n",
       "      <th>3</th>\n",
       "      <td>(30.0, 40.0]</td>\n",
       "      <td>13636</td>\n",
       "      <td>485</td>\n",
       "      <td>3.6</td>\n",
       "    </tr>\n",
       "    <tr>\n",
       "      <th>4</th>\n",
       "      <td>(40.0, 50.0]</td>\n",
       "      <td>10844</td>\n",
       "      <td>384</td>\n",
       "      <td>3.5</td>\n",
       "    </tr>\n",
       "    <tr>\n",
       "      <th>5</th>\n",
       "      <td>(50.0, 60.0]</td>\n",
       "      <td>5612</td>\n",
       "      <td>161</td>\n",
       "      <td>2.9</td>\n",
       "    </tr>\n",
       "  </tbody>\n",
       "</table>\n",
       "</div>"
      ],
      "text/plain": [
       "       Income_bin  noof_prospect  count_prospect  default_rate\n",
       "0  (-0.001, 10.0]          12761             711           5.6\n",
       "1    (10.0, 20.0]          13349             604           4.5\n",
       "2    (20.0, 30.0]          13587             601           4.4\n",
       "3    (30.0, 40.0]          13636             485           3.6\n",
       "4    (40.0, 50.0]          10844             384           3.5\n",
       "5    (50.0, 60.0]           5612             161           2.9"
      ]
     },
     "execution_count": 219,
     "metadata": {},
     "output_type": "execute_result"
    }
   ],
   "source": [
    "agg_income"
   ]
  },
  {
   "cell_type": "code",
   "execution_count": 220,
   "metadata": {},
   "outputs": [
    {
     "data": {
      "image/png": "[encoded data removed]",
      "text/plain": [
       "<Figure size 432x288 with 1 Axes>"
      ]
     },
     "metadata": {
      "needs_background": "light"
     },
     "output_type": "display_data"
    }
   ],
   "source": [
    "bp = sns.barplot(x='Income_bin', y='default_rate', data=agg_income)\n",
    "bp.set_xticklabels(bp.get_xticklabels(),rotation=90)\n",
    "plt.show()"
   ]
  },
  {
   "cell_type": "markdown",
   "metadata": {},
   "source": [
    "So, this is very evident and obvious from the above plot that lesser the income of a person, higher the probability of default."
   ]
  },
  {
   "cell_type": "markdown",
   "metadata": {},
   "source": [
    "#### Education"
   ]
  },
  {
   "cell_type": "code",
   "execution_count": 221,
   "metadata": {},
   "outputs": [
    {
     "data": {
      "text/plain": [
       "Professional    24839\n",
       "Masters         23970\n",
       "Bachelor        17697\n",
       "Phd              4549\n",
       "Others            121\n",
       "NaN               119\n",
       "Name: Education, dtype: int64"
      ]
     },
     "execution_count": 221,
     "metadata": {},
     "output_type": "execute_result"
    }
   ],
   "source": [
    "demog_df['Education'].value_counts(dropna=False)"
   ]
  },
  {
   "cell_type": "code",
   "execution_count": 222,
   "metadata": {},
   "outputs": [],
   "source": [
    "count_prospects_education = demog_df.groupby('Education')['Performance Tag'].sum().reset_index(name = 'count_prospect')\n",
    "No_of_prospect_education = demog_df.groupby('Education')['Performance Tag'].count().reset_index(name = 'noof_prospect')\n",
    "\n",
    "agg_education = count_prospects_education.merge(No_of_prospect_education, on = 'Education')\n",
    "agg_education['default_rate'] = 100*(agg_education['count_prospect']/agg_education['noof_prospect']).round(3)"
   ]
  },
  {
   "cell_type": "code",
   "execution_count": 223,
   "metadata": {
    "scrolled": true
   },
   "outputs": [
    {
     "data": {
      "text/html": [
       "<div>\n",
       "<style scoped>\n",
       "    .dataframe tbody tr th:only-of-type {\n",
       "        vertical-align: middle;\n",
       "    }\n",
       "\n",
       "    .dataframe tbody tr th {\n",
       "        vertical-align: top;\n",
       "    }\n",
       "\n",
       "    .dataframe thead th {\n",
       "        text-align: right;\n",
       "    }\n",
       "</style>\n",
       "<table border=\"1\" class=\"dataframe\">\n",
       "  <thead>\n",
       "    <tr style=\"text-align: right;\">\n",
       "      <th></th>\n",
       "      <th>Education</th>\n",
       "      <th>count_prospect</th>\n",
       "      <th>noof_prospect</th>\n",
       "      <th>default_rate</th>\n",
       "    </tr>\n",
       "  </thead>\n",
       "  <tbody>\n",
       "    <tr>\n",
       "      <th>0</th>\n",
       "      <td>Bachelor</td>\n",
       "      <td>742.0</td>\n",
       "      <td>17302</td>\n",
       "      <td>4.3</td>\n",
       "    </tr>\n",
       "    <tr>\n",
       "      <th>1</th>\n",
       "      <td>Masters</td>\n",
       "      <td>998.0</td>\n",
       "      <td>23481</td>\n",
       "      <td>4.3</td>\n",
       "    </tr>\n",
       "    <tr>\n",
       "      <th>2</th>\n",
       "      <td>Others</td>\n",
       "      <td>8.0</td>\n",
       "      <td>119</td>\n",
       "      <td>6.7</td>\n",
       "    </tr>\n",
       "    <tr>\n",
       "      <th>3</th>\n",
       "      <td>Phd</td>\n",
       "      <td>184.0</td>\n",
       "      <td>4464</td>\n",
       "      <td>4.1</td>\n",
       "    </tr>\n",
       "    <tr>\n",
       "      <th>4</th>\n",
       "      <td>Professional</td>\n",
       "      <td>1011.0</td>\n",
       "      <td>24386</td>\n",
       "      <td>4.1</td>\n",
       "    </tr>\n",
       "  </tbody>\n",
       "</table>\n",
       "</div>"
      ],
      "text/plain": [
       "      Education  count_prospect  noof_prospect  default_rate\n",
       "0      Bachelor           742.0          17302           4.3\n",
       "1       Masters           998.0          23481           4.3\n",
       "2        Others             8.0            119           6.7\n",
       "3           Phd           184.0           4464           4.1\n",
       "4  Professional          1011.0          24386           4.1"
      ]
     },
     "execution_count": 223,
     "metadata": {},
     "output_type": "execute_result"
    }
   ],
   "source": [
    "agg_education"
   ]
  },
  {
   "cell_type": "code",
   "execution_count": 224,
   "metadata": {},
   "outputs": [
    {
     "data": {
      "image/png": "[encoded data removed]",
      "text/plain": [
       "<Figure size 432x288 with 1 Axes>"
      ]
     },
     "metadata": {
      "needs_background": "light"
     },
     "output_type": "display_data"
    }
   ],
   "source": [
    "bp = sns.barplot(x='Education', y='default_rate', data=agg_education)\n",
    "bp.set_xticklabels(bp.get_xticklabels(),rotation=90)\n",
    "plt.show()"
   ]
  },
  {
   "cell_type": "markdown",
   "metadata": {},
   "source": [
    "Assuming that the `Others` class stands for those who have below Graduate degree; people with below Graduate level education are most likely to default as compared to the Graduate and above."
   ]
  },
  {
   "cell_type": "markdown",
   "metadata": {},
   "source": [
    "#### Profession"
   ]
  },
  {
   "cell_type": "code",
   "execution_count": 225,
   "metadata": {},
   "outputs": [
    {
     "data": {
      "text/plain": [
       "SAL        40439\n",
       "SE_PROF    16535\n",
       "SE         14307\n",
       "NaN           14\n",
       "Name: Profession , dtype: int64"
      ]
     },
     "execution_count": 225,
     "metadata": {},
     "output_type": "execute_result"
    }
   ],
   "source": [
    "demog_df['Profession '].value_counts(dropna=False)"
   ]
  },
  {
   "cell_type": "code",
   "execution_count": 226,
   "metadata": {},
   "outputs": [
    {
     "data": {
      "text/plain": [
       "SAL        40453\n",
       "SE_PROF    16535\n",
       "SE         14307\n",
       "Name: Profession , dtype: int64"
      ]
     },
     "execution_count": 226,
     "metadata": {},
     "output_type": "execute_result"
    }
   ],
   "source": [
    "# replacing the fourteen missing values with the Mode \"SAL\"\n",
    "demog_df['Profession '].fillna('SAL', inplace=True)\n",
    "\n",
    "demog_df['Profession '].value_counts(dropna=False)"
   ]
  },
  {
   "cell_type": "code",
   "execution_count": 227,
   "metadata": {},
   "outputs": [],
   "source": [
    "count_prospects_profession = demog_df.groupby('Profession ')['Performance Tag'].sum().reset_index(name = 'count_prospect')\n",
    "No_of_prospect_profession = demog_df.groupby('Profession ')['Performance Tag'].count().reset_index(name = 'noof_prospect')\n",
    "\n",
    "agg_profession = count_prospects_profession.merge(No_of_prospect_profession, on = 'Profession ')\n",
    "agg_profession['default_rate'] = 100*(agg_profession['count_prospect']/agg_profession['noof_prospect']).round(3)"
   ]
  },
  {
   "cell_type": "code",
   "execution_count": 228,
   "metadata": {},
   "outputs": [
    {
     "data": {
      "text/html": [
       "<div>\n",
       "<style scoped>\n",
       "    .dataframe tbody tr th:only-of-type {\n",
       "        vertical-align: middle;\n",
       "    }\n",
       "\n",
       "    .dataframe tbody tr th {\n",
       "        vertical-align: top;\n",
       "    }\n",
       "\n",
       "    .dataframe thead th {\n",
       "        text-align: right;\n",
       "    }\n",
       "</style>\n",
       "<table border=\"1\" class=\"dataframe\">\n",
       "  <thead>\n",
       "    <tr style=\"text-align: right;\">\n",
       "      <th></th>\n",
       "      <th>Profession</th>\n",
       "      <th>count_prospect</th>\n",
       "      <th>noof_prospect</th>\n",
       "      <th>default_rate</th>\n",
       "    </tr>\n",
       "  </thead>\n",
       "  <tbody>\n",
       "    <tr>\n",
       "      <th>0</th>\n",
       "      <td>SAL</td>\n",
       "      <td>1629.0</td>\n",
       "      <td>39687</td>\n",
       "      <td>4.1</td>\n",
       "    </tr>\n",
       "    <tr>\n",
       "      <th>1</th>\n",
       "      <td>SE</td>\n",
       "      <td>642.0</td>\n",
       "      <td>13927</td>\n",
       "      <td>4.6</td>\n",
       "    </tr>\n",
       "    <tr>\n",
       "      <th>2</th>\n",
       "      <td>SE_PROF</td>\n",
       "      <td>677.0</td>\n",
       "      <td>16256</td>\n",
       "      <td>4.2</td>\n",
       "    </tr>\n",
       "  </tbody>\n",
       "</table>\n",
       "</div>"
      ],
      "text/plain": [
       "  Profession   count_prospect  noof_prospect  default_rate\n",
       "0         SAL          1629.0          39687           4.1\n",
       "1          SE           642.0          13927           4.6\n",
       "2     SE_PROF           677.0          16256           4.2"
      ]
     },
     "execution_count": 228,
     "metadata": {},
     "output_type": "execute_result"
    }
   ],
   "source": [
    "agg_profession"
   ]
  },
  {
   "cell_type": "markdown",
   "metadata": {},
   "source": [
    "Profession again doesn't seems to determine the default."
   ]
  },
  {
   "cell_type": "markdown",
   "metadata": {},
   "source": [
    "#### Type of residence"
   ]
  },
  {
   "cell_type": "code",
   "execution_count": 229,
   "metadata": {},
   "outputs": [
    {
     "data": {
      "text/plain": [
       "Rented                 53397\n",
       "Owned                  14243\n",
       "Living with Parents     1818\n",
       "Company provided        1630\n",
       "Others                   199\n",
       "NaN                        8\n",
       "Name: Type of residence, dtype: int64"
      ]
     },
     "execution_count": 229,
     "metadata": {},
     "output_type": "execute_result"
    }
   ],
   "source": [
    "demog_df['Type of residence'].value_counts(dropna=False)"
   ]
  },
  {
   "cell_type": "code",
   "execution_count": 230,
   "metadata": {},
   "outputs": [
    {
     "data": {
      "text/plain": [
       "Rented                 53405\n",
       "Owned                  14243\n",
       "Living with Parents     1818\n",
       "Company provided        1630\n",
       "Others                   199\n",
       "Name: Type of residence, dtype: int64"
      ]
     },
     "execution_count": 230,
     "metadata": {},
     "output_type": "execute_result"
    }
   ],
   "source": [
    "# replacing the eight missing values with the Mode \"Rented\"\n",
    "demog_df['Type of residence'].fillna('Rented', inplace=True)\n",
    "\n",
    "demog_df['Type of residence'].value_counts(dropna=False)"
   ]
  },
  {
   "cell_type": "code",
   "execution_count": 231,
   "metadata": {},
   "outputs": [],
   "source": [
    "count_prospects_residence = demog_df.groupby('Type of residence')['Performance Tag'].sum().reset_index(name = 'count_prospect')\n",
    "No_of_prospect_residence = demog_df.groupby('Type of residence')['Performance Tag'].count().reset_index(name = 'noof_prospect')\n",
    "\n",
    "agg_residence = count_prospects_residence.merge(No_of_prospect_residence, on = 'Type of residence')\n",
    "agg_residence['default_rate'] = 100*(agg_residence['count_prospect']/agg_residence['noof_prospect']).round(3)"
   ]
  },
  {
   "cell_type": "code",
   "execution_count": 232,
   "metadata": {},
   "outputs": [
    {
     "data": {
      "text/html": [
       "<div>\n",
       "<style scoped>\n",
       "    .dataframe tbody tr th:only-of-type {\n",
       "        vertical-align: middle;\n",
       "    }\n",
       "\n",
       "    .dataframe tbody tr th {\n",
       "        vertical-align: top;\n",
       "    }\n",
       "\n",
       "    .dataframe thead th {\n",
       "        text-align: right;\n",
       "    }\n",
       "</style>\n",
       "<table border=\"1\" class=\"dataframe\">\n",
       "  <thead>\n",
       "    <tr style=\"text-align: right;\">\n",
       "      <th></th>\n",
       "      <th>Type of residence</th>\n",
       "      <th>count_prospect</th>\n",
       "      <th>noof_prospect</th>\n",
       "      <th>default_rate</th>\n",
       "    </tr>\n",
       "  </thead>\n",
       "  <tbody>\n",
       "    <tr>\n",
       "      <th>0</th>\n",
       "      <td>Company provided</td>\n",
       "      <td>73.0</td>\n",
       "      <td>1603</td>\n",
       "      <td>4.6</td>\n",
       "    </tr>\n",
       "    <tr>\n",
       "      <th>1</th>\n",
       "      <td>Living with Parents</td>\n",
       "      <td>80.0</td>\n",
       "      <td>1778</td>\n",
       "      <td>4.5</td>\n",
       "    </tr>\n",
       "    <tr>\n",
       "      <th>2</th>\n",
       "      <td>Others</td>\n",
       "      <td>5.0</td>\n",
       "      <td>198</td>\n",
       "      <td>2.5</td>\n",
       "    </tr>\n",
       "    <tr>\n",
       "      <th>3</th>\n",
       "      <td>Owned</td>\n",
       "      <td>593.0</td>\n",
       "      <td>14003</td>\n",
       "      <td>4.2</td>\n",
       "    </tr>\n",
       "    <tr>\n",
       "      <th>4</th>\n",
       "      <td>Rented</td>\n",
       "      <td>2197.0</td>\n",
       "      <td>52288</td>\n",
       "      <td>4.2</td>\n",
       "    </tr>\n",
       "  </tbody>\n",
       "</table>\n",
       "</div>"
      ],
      "text/plain": [
       "     Type of residence  count_prospect  noof_prospect  default_rate\n",
       "0     Company provided            73.0           1603           4.6\n",
       "1  Living with Parents            80.0           1778           4.5\n",
       "2               Others             5.0            198           2.5\n",
       "3                Owned           593.0          14003           4.2\n",
       "4               Rented          2197.0          52288           4.2"
      ]
     },
     "execution_count": 232,
     "metadata": {},
     "output_type": "execute_result"
    }
   ],
   "source": [
    "agg_residence"
   ]
  },
  {
   "cell_type": "code",
   "execution_count": 233,
   "metadata": {},
   "outputs": [
    {
     "data": {
      "image/png": "[encoded data removed]",
      "text/plain": [
       "<Figure size 432x288 with 1 Axes>"
      ]
     },
     "metadata": {
      "needs_background": "light"
     },
     "output_type": "display_data"
    }
   ],
   "source": [
    "bp = sns.barplot(x='Type of residence', y='default_rate', data=agg_residence)\n",
    "bp.set_xticklabels(bp.get_xticklabels(),rotation=90)\n",
    "plt.show()"
   ]
  },
  {
   "cell_type": "markdown",
   "metadata": {},
   "source": [
    "#### No of months in current residence"
   ]
  },
  {
   "cell_type": "code",
   "execution_count": 234,
   "metadata": {},
   "outputs": [
    {
     "data": {
      "image/png": "[encoded data removed]",
      "text/plain": [
       "<Figure size 432x288 with 1 Axes>"
      ]
     },
     "metadata": {
      "needs_background": "light"
     },
     "output_type": "display_data"
    }
   ],
   "source": [
    "sns.boxplot(x='No of months in current residence', data=demog_df)\n",
    "plt.show()"
   ]
  },
  {
   "cell_type": "code",
   "execution_count": 235,
   "metadata": {},
   "outputs": [],
   "source": [
    "# bucketing the data based on the current residence duration to study the default rate\n",
    "bins = np.arange(0,demog_df['No of months in current residence'].max() + 10, 12) \n",
    "demog_df['Residence_bin'] = pd.cut(demog_df['No of months in current residence'], bins, include_lowest=True)"
   ]
  },
  {
   "cell_type": "code",
   "execution_count": 236,
   "metadata": {},
   "outputs": [],
   "source": [
    "No_of_prospect_resdur = demog_df.groupby('Residence_bin')['Performance Tag'].count().reset_index(name = 'noof_prospect')\n",
    "count_prospects_resdur = demog_df[demog_df['Performance Tag']==1].groupby('Residence_bin')['Performance Tag'].count().reset_index(name = 'count_prospect')\n",
    "\n",
    "agg_resdur = No_of_prospect_resdur.merge(count_prospects_resdur, on='Residence_bin')\n",
    "agg_resdur['default_rate'] = 100*(agg_resdur['count_prospect']/agg_resdur['noof_prospect']).round(3)"
   ]
  },
  {
   "cell_type": "code",
   "execution_count": 237,
   "metadata": {},
   "outputs": [
    {
     "data": {
      "text/html": [
       "<div>\n",
       "<style scoped>\n",
       "    .dataframe tbody tr th:only-of-type {\n",
       "        vertical-align: middle;\n",
       "    }\n",
       "\n",
       "    .dataframe tbody tr th {\n",
       "        vertical-align: top;\n",
       "    }\n",
       "\n",
       "    .dataframe thead th {\n",
       "        text-align: right;\n",
       "    }\n",
       "</style>\n",
       "<table border=\"1\" class=\"dataframe\">\n",
       "  <thead>\n",
       "    <tr style=\"text-align: right;\">\n",
       "      <th></th>\n",
       "      <th>Residence_bin</th>\n",
       "      <th>noof_prospect</th>\n",
       "      <th>count_prospect</th>\n",
       "      <th>default_rate</th>\n",
       "    </tr>\n",
       "  </thead>\n",
       "  <tbody>\n",
       "    <tr>\n",
       "      <th>0</th>\n",
       "      <td>(-0.001, 12.0]</td>\n",
       "      <td>35855</td>\n",
       "      <td>1217</td>\n",
       "      <td>3.4</td>\n",
       "    </tr>\n",
       "    <tr>\n",
       "      <th>1</th>\n",
       "      <td>(12.0, 24.0]</td>\n",
       "      <td>4399</td>\n",
       "      <td>283</td>\n",
       "      <td>6.4</td>\n",
       "    </tr>\n",
       "    <tr>\n",
       "      <th>2</th>\n",
       "      <td>(24.0, 36.0]</td>\n",
       "      <td>4183</td>\n",
       "      <td>263</td>\n",
       "      <td>6.3</td>\n",
       "    </tr>\n",
       "    <tr>\n",
       "      <th>3</th>\n",
       "      <td>(36.0, 48.0]</td>\n",
       "      <td>4074</td>\n",
       "      <td>216</td>\n",
       "      <td>5.3</td>\n",
       "    </tr>\n",
       "    <tr>\n",
       "      <th>4</th>\n",
       "      <td>(48.0, 60.0]</td>\n",
       "      <td>3823</td>\n",
       "      <td>210</td>\n",
       "      <td>5.5</td>\n",
       "    </tr>\n",
       "    <tr>\n",
       "      <th>5</th>\n",
       "      <td>(60.0, 72.0]</td>\n",
       "      <td>3483</td>\n",
       "      <td>146</td>\n",
       "      <td>4.2</td>\n",
       "    </tr>\n",
       "    <tr>\n",
       "      <th>6</th>\n",
       "      <td>(72.0, 84.0]</td>\n",
       "      <td>3401</td>\n",
       "      <td>173</td>\n",
       "      <td>5.1</td>\n",
       "    </tr>\n",
       "    <tr>\n",
       "      <th>7</th>\n",
       "      <td>(84.0, 96.0]</td>\n",
       "      <td>3272</td>\n",
       "      <td>145</td>\n",
       "      <td>4.4</td>\n",
       "    </tr>\n",
       "    <tr>\n",
       "      <th>8</th>\n",
       "      <td>(96.0, 108.0]</td>\n",
       "      <td>3412</td>\n",
       "      <td>133</td>\n",
       "      <td>3.9</td>\n",
       "    </tr>\n",
       "    <tr>\n",
       "      <th>9</th>\n",
       "      <td>(108.0, 120.0]</td>\n",
       "      <td>3049</td>\n",
       "      <td>112</td>\n",
       "      <td>3.7</td>\n",
       "    </tr>\n",
       "    <tr>\n",
       "      <th>10</th>\n",
       "      <td>(120.0, 132.0]</td>\n",
       "      <td>919</td>\n",
       "      <td>50</td>\n",
       "      <td>5.4</td>\n",
       "    </tr>\n",
       "  </tbody>\n",
       "</table>\n",
       "</div>"
      ],
      "text/plain": [
       "     Residence_bin  noof_prospect  count_prospect  default_rate\n",
       "0   (-0.001, 12.0]          35855            1217           3.4\n",
       "1     (12.0, 24.0]           4399             283           6.4\n",
       "2     (24.0, 36.0]           4183             263           6.3\n",
       "3     (36.0, 48.0]           4074             216           5.3\n",
       "4     (48.0, 60.0]           3823             210           5.5\n",
       "5     (60.0, 72.0]           3483             146           4.2\n",
       "6     (72.0, 84.0]           3401             173           5.1\n",
       "7     (84.0, 96.0]           3272             145           4.4\n",
       "8    (96.0, 108.0]           3412             133           3.9\n",
       "9   (108.0, 120.0]           3049             112           3.7\n",
       "10  (120.0, 132.0]            919              50           5.4"
      ]
     },
     "execution_count": 237,
     "metadata": {},
     "output_type": "execute_result"
    }
   ],
   "source": [
    "agg_resdur"
   ]
  },
  {
   "cell_type": "code",
   "execution_count": 238,
   "metadata": {},
   "outputs": [
    {
     "data": {
      "image/png": "[encoded data removed]",
      "text/plain": [
       "<Figure size 432x288 with 1 Axes>"
      ]
     },
     "metadata": {
      "needs_background": "light"
     },
     "output_type": "display_data"
    }
   ],
   "source": [
    "bp = sns.barplot(x='Residence_bin', y='default_rate', data=agg_resdur)\n",
    "bp.set_xticklabels(bp.get_xticklabels(),rotation=90)\n",
    "plt.show()"
   ]
  },
  {
   "cell_type": "markdown",
   "metadata": {},
   "source": [
    "People living in their current residence for more than 1 year and under 3 years are most likely to default as per the output above."
   ]
  },
  {
   "cell_type": "markdown",
   "metadata": {},
   "source": [
    "#### No of months in current company"
   ]
  },
  {
   "cell_type": "code",
   "execution_count": 239,
   "metadata": {},
   "outputs": [
    {
     "data": {
      "image/png": "[encoded data removed]",
      "text/plain": [
       "<Figure size 432x288 with 1 Axes>"
      ]
     },
     "metadata": {
      "needs_background": "light"
     },
     "output_type": "display_data"
    }
   ],
   "source": [
    "sns.boxplot(x='No of months in current company', data=demog_df)\n",
    "plt.show()"
   ]
  },
  {
   "cell_type": "code",
   "execution_count": 240,
   "metadata": {},
   "outputs": [
    {
     "data": {
      "image/png": "[encoded data removed]",
      "text/plain": [
       "<Figure size 432x288 with 1 Axes>"
      ]
     },
     "metadata": {
      "needs_background": "light"
     },
     "output_type": "display_data"
    }
   ],
   "source": [
    "# putting the people who are beyond 100 months old in their current company to 100 months, \n",
    "# as there shuld not be much difference in the behaviour of people who are employed for 100+ months with their current employer\n",
    "demog_df['No of months in current company'][demog_df['No of months in current company']>100] = 100\n",
    "\n",
    "sns.boxplot(x='No of months in current company', data=demog_df)\n",
    "plt.show()"
   ]
  },
  {
   "cell_type": "code",
   "execution_count": 241,
   "metadata": {},
   "outputs": [],
   "source": [
    "# bucketing the data based on the current employment duration to study the default rate\n",
    "bins = np.arange(0,demog_df['No of months in current company'].max() + 10, 12) \n",
    "demog_df['Employment_bin'] = pd.cut(demog_df['No of months in current company'], bins, include_lowest=True)"
   ]
  },
  {
   "cell_type": "code",
   "execution_count": 242,
   "metadata": {},
   "outputs": [],
   "source": [
    "No_of_prospect_empdur = demog_df.groupby('Employment_bin')['Performance Tag'].count().reset_index(name = 'noof_prospect')\n",
    "count_prospects_empdur = demog_df[demog_df['Performance Tag']==1].groupby('Employment_bin')['Performance Tag'].count().reset_index(name = 'count_prospect')\n",
    "\n",
    "agg_empdur = No_of_prospect_empdur.merge(count_prospects_empdur, on='Employment_bin')\n",
    "agg_empdur['default_rate'] = 100*(agg_empdur['count_prospect']/agg_empdur['noof_prospect']).round(3)"
   ]
  },
  {
   "cell_type": "code",
   "execution_count": 243,
   "metadata": {},
   "outputs": [
    {
     "data": {
      "text/html": [
       "<div>\n",
       "<style scoped>\n",
       "    .dataframe tbody tr th:only-of-type {\n",
       "        vertical-align: middle;\n",
       "    }\n",
       "\n",
       "    .dataframe tbody tr th {\n",
       "        vertical-align: top;\n",
       "    }\n",
       "\n",
       "    .dataframe thead th {\n",
       "        text-align: right;\n",
       "    }\n",
       "</style>\n",
       "<table border=\"1\" class=\"dataframe\">\n",
       "  <thead>\n",
       "    <tr style=\"text-align: right;\">\n",
       "      <th></th>\n",
       "      <th>Employment_bin</th>\n",
       "      <th>noof_prospect</th>\n",
       "      <th>count_prospect</th>\n",
       "      <th>default_rate</th>\n",
       "    </tr>\n",
       "  </thead>\n",
       "  <tbody>\n",
       "    <tr>\n",
       "      <th>0</th>\n",
       "      <td>(-0.001, 12.0]</td>\n",
       "      <td>13488</td>\n",
       "      <td>649</td>\n",
       "      <td>4.8</td>\n",
       "    </tr>\n",
       "    <tr>\n",
       "      <th>1</th>\n",
       "      <td>(12.0, 24.0]</td>\n",
       "      <td>11872</td>\n",
       "      <td>572</td>\n",
       "      <td>4.8</td>\n",
       "    </tr>\n",
       "    <tr>\n",
       "      <th>2</th>\n",
       "      <td>(24.0, 36.0]</td>\n",
       "      <td>12108</td>\n",
       "      <td>503</td>\n",
       "      <td>4.2</td>\n",
       "    </tr>\n",
       "    <tr>\n",
       "      <th>3</th>\n",
       "      <td>(36.0, 48.0]</td>\n",
       "      <td>12427</td>\n",
       "      <td>476</td>\n",
       "      <td>3.8</td>\n",
       "    </tr>\n",
       "    <tr>\n",
       "      <th>4</th>\n",
       "      <td>(48.0, 60.0]</td>\n",
       "      <td>12106</td>\n",
       "      <td>402</td>\n",
       "      <td>3.3</td>\n",
       "    </tr>\n",
       "    <tr>\n",
       "      <th>5</th>\n",
       "      <td>(60.0, 72.0]</td>\n",
       "      <td>6547</td>\n",
       "      <td>288</td>\n",
       "      <td>4.4</td>\n",
       "    </tr>\n",
       "    <tr>\n",
       "      <th>6</th>\n",
       "      <td>(72.0, 84.0]</td>\n",
       "      <td>1313</td>\n",
       "      <td>58</td>\n",
       "      <td>4.4</td>\n",
       "    </tr>\n",
       "    <tr>\n",
       "      <th>7</th>\n",
       "      <td>(84.0, 96.0]</td>\n",
       "      <td>2</td>\n",
       "      <td>0</td>\n",
       "      <td>0.0</td>\n",
       "    </tr>\n",
       "    <tr>\n",
       "      <th>8</th>\n",
       "      <td>(96.0, 108.0]</td>\n",
       "      <td>7</td>\n",
       "      <td>0</td>\n",
       "      <td>0.0</td>\n",
       "    </tr>\n",
       "  </tbody>\n",
       "</table>\n",
       "</div>"
      ],
      "text/plain": [
       "   Employment_bin  noof_prospect  count_prospect  default_rate\n",
       "0  (-0.001, 12.0]          13488             649           4.8\n",
       "1    (12.0, 24.0]          11872             572           4.8\n",
       "2    (24.0, 36.0]          12108             503           4.2\n",
       "3    (36.0, 48.0]          12427             476           3.8\n",
       "4    (48.0, 60.0]          12106             402           3.3\n",
       "5    (60.0, 72.0]           6547             288           4.4\n",
       "6    (72.0, 84.0]           1313              58           4.4\n",
       "7    (84.0, 96.0]              2               0           0.0\n",
       "8   (96.0, 108.0]              7               0           0.0"
      ]
     },
     "execution_count": 243,
     "metadata": {},
     "output_type": "execute_result"
    }
   ],
   "source": [
    "agg_empdur"
   ]
  },
  {
   "cell_type": "code",
   "execution_count": 244,
   "metadata": {},
   "outputs": [
    {
     "data": {
      "image/png": "[encoded data removed]",
      "text/plain": [
       "<Figure size 432x288 with 1 Axes>"
      ]
     },
     "metadata": {
      "needs_background": "light"
     },
     "output_type": "display_data"
    }
   ],
   "source": [
    "bp = sns.barplot(x='Employment_bin', y='default_rate', data=agg_empdur)\n",
    "bp.set_xticklabels(bp.get_xticklabels(),rotation=90)\n",
    "plt.show()"
   ]
  },
  {
   "cell_type": "markdown",
   "metadata": {},
   "source": [
    "Although the data distribution among the bins is not ideal, but one inference that could be drawn from the above plot is that `the people who are working in their current organisation for upto 2 years are most likely to default`."
   ]
  },
  {
   "cell_type": "markdown",
   "metadata": {},
   "source": [
    "### Credit bureau data\n",
    "\n",
    "#### No of times 90 DPD or worse in last 6 months"
   ]
  },
  {
   "cell_type": "code",
   "execution_count": 245,
   "metadata": {},
   "outputs": [
    {
     "data": {
      "image/png": "[encoded data removed]",
      "text/plain": [
       "<Figure size 432x288 with 1 Axes>"
      ]
     },
     "metadata": {
      "needs_background": "light"
     },
     "output_type": "display_data"
    }
   ],
   "source": [
    "sns.boxplot(x='No of times 90 DPD or worse in last 6 months', data=credbur_df)\n",
    "plt.show()"
   ]
  },
  {
   "cell_type": "code",
   "execution_count": 246,
   "metadata": {},
   "outputs": [
    {
     "data": {
      "text/plain": [
       "0    54869\n",
       "1    13874\n",
       "2     2258\n",
       "3      294\n",
       "Name: No of times 90 DPD or worse in last 6 months, dtype: int64"
      ]
     },
     "execution_count": 246,
     "metadata": {},
     "output_type": "execute_result"
    }
   ],
   "source": [
    "credbur_df['No of times 90 DPD or worse in last 6 months'].value_counts(dropna=False)"
   ]
  },
  {
   "cell_type": "code",
   "execution_count": 247,
   "metadata": {},
   "outputs": [],
   "source": [
    "count_prospects_90DPD6M = credbur_df.groupby('No of times 90 DPD or worse in last 6 months')['Performance Tag'].sum().reset_index(name = 'count_prospect')\n",
    "No_of_prospect_90DPD6M = credbur_df.groupby('No of times 90 DPD or worse in last 6 months')['Performance Tag'].count().reset_index(name = 'noof_prospect')\n",
    "\n",
    "agg_90DPD6M = count_prospects_90DPD6M.merge(No_of_prospect_90DPD6M, on = 'No of times 90 DPD or worse in last 6 months')\n",
    "agg_90DPD6M['default_rate'] = 100*(agg_90DPD6M['count_prospect']/agg_90DPD6M['noof_prospect']).round(3)"
   ]
  },
  {
   "cell_type": "code",
   "execution_count": 248,
   "metadata": {},
   "outputs": [
    {
     "data": {
      "text/html": [
       "<div>\n",
       "<style scoped>\n",
       "    .dataframe tbody tr th:only-of-type {\n",
       "        vertical-align: middle;\n",
       "    }\n",
       "\n",
       "    .dataframe tbody tr th {\n",
       "        vertical-align: top;\n",
       "    }\n",
       "\n",
       "    .dataframe thead th {\n",
       "        text-align: right;\n",
       "    }\n",
       "</style>\n",
       "<table border=\"1\" class=\"dataframe\">\n",
       "  <thead>\n",
       "    <tr style=\"text-align: right;\">\n",
       "      <th></th>\n",
       "      <th>No of times 90 DPD or worse in last 6 months</th>\n",
       "      <th>count_prospect</th>\n",
       "      <th>noof_prospect</th>\n",
       "      <th>default_rate</th>\n",
       "    </tr>\n",
       "  </thead>\n",
       "  <tbody>\n",
       "    <tr>\n",
       "      <th>0</th>\n",
       "      <td>0</td>\n",
       "      <td>1794.0</td>\n",
       "      <td>54666</td>\n",
       "      <td>3.3</td>\n",
       "    </tr>\n",
       "    <tr>\n",
       "      <th>1</th>\n",
       "      <td>1</td>\n",
       "      <td>971.0</td>\n",
       "      <td>13220</td>\n",
       "      <td>7.3</td>\n",
       "    </tr>\n",
       "    <tr>\n",
       "      <th>2</th>\n",
       "      <td>2</td>\n",
       "      <td>160.0</td>\n",
       "      <td>1776</td>\n",
       "      <td>9.0</td>\n",
       "    </tr>\n",
       "    <tr>\n",
       "      <th>3</th>\n",
       "      <td>3</td>\n",
       "      <td>23.0</td>\n",
       "      <td>208</td>\n",
       "      <td>11.1</td>\n",
       "    </tr>\n",
       "  </tbody>\n",
       "</table>\n",
       "</div>"
      ],
      "text/plain": [
       "   No of times 90 DPD or worse in last 6 months  count_prospect  \\\n",
       "0                                             0          1794.0   \n",
       "1                                             1           971.0   \n",
       "2                                             2           160.0   \n",
       "3                                             3            23.0   \n",
       "\n",
       "   noof_prospect  default_rate  \n",
       "0          54666           3.3  \n",
       "1          13220           7.3  \n",
       "2           1776           9.0  \n",
       "3            208          11.1  "
      ]
     },
     "execution_count": 248,
     "metadata": {},
     "output_type": "execute_result"
    }
   ],
   "source": [
    "agg_90DPD6M"
   ]
  },
  {
   "cell_type": "code",
   "execution_count": 249,
   "metadata": {},
   "outputs": [
    {
     "data": {
      "image/png": "[encoded data removed]",
      "text/plain": [
       "<Figure size 432x288 with 1 Axes>"
      ]
     },
     "metadata": {
      "needs_background": "light"
     },
     "output_type": "display_data"
    }
   ],
   "source": [
    "bp = sns.barplot(x='No of times 90 DPD or worse in last 6 months', y='default_rate', data=agg_90DPD6M)\n",
    "bp.set_xticklabels(bp.get_xticklabels(),rotation=90)\n",
    "plt.show()"
   ]
  },
  {
   "cell_type": "markdown",
   "metadata": {},
   "source": [
    "As expected, more the frequency of payments delay more likelihood of dafault.\n",
    "\n",
    "#### No of times 60 DPD or worse in last 6 months"
   ]
  },
  {
   "cell_type": "code",
   "execution_count": 250,
   "metadata": {},
   "outputs": [
    {
     "data": {
      "text/plain": [
       "0    51923\n",
       "1    11395\n",
       "2     5412\n",
       "3     1876\n",
       "4      597\n",
       "5       92\n",
       "Name: No of times 60 DPD or worse in last 6 months, dtype: int64"
      ]
     },
     "execution_count": 250,
     "metadata": {},
     "output_type": "execute_result"
    }
   ],
   "source": [
    "credbur_df['No of times 60 DPD or worse in last 6 months'].value_counts(dropna=False)"
   ]
  },
  {
   "cell_type": "code",
   "execution_count": 251,
   "metadata": {},
   "outputs": [],
   "source": [
    "count_prospects_60DPD6M = credbur_df.groupby('No of times 60 DPD or worse in last 6 months')['Performance Tag'].sum().reset_index(name = 'count_prospect')\n",
    "No_of_prospect_60DPD6M = credbur_df.groupby('No of times 60 DPD or worse in last 6 months')['Performance Tag'].count().reset_index(name = 'noof_prospect')\n",
    "\n",
    "agg_60DPD6M = count_prospects_60DPD6M.merge(No_of_prospect_60DPD6M, on = 'No of times 60 DPD or worse in last 6 months')\n",
    "agg_60DPD6M['default_rate'] = 100*(agg_60DPD6M['count_prospect']/agg_60DPD6M['noof_prospect']).round(3)"
   ]
  },
  {
   "cell_type": "code",
   "execution_count": 252,
   "metadata": {},
   "outputs": [
    {
     "data": {
      "text/html": [
       "<div>\n",
       "<style scoped>\n",
       "    .dataframe tbody tr th:only-of-type {\n",
       "        vertical-align: middle;\n",
       "    }\n",
       "\n",
       "    .dataframe tbody tr th {\n",
       "        vertical-align: top;\n",
       "    }\n",
       "\n",
       "    .dataframe thead th {\n",
       "        text-align: right;\n",
       "    }\n",
       "</style>\n",
       "<table border=\"1\" class=\"dataframe\">\n",
       "  <thead>\n",
       "    <tr style=\"text-align: right;\">\n",
       "      <th></th>\n",
       "      <th>No of times 60 DPD or worse in last 6 months</th>\n",
       "      <th>count_prospect</th>\n",
       "      <th>noof_prospect</th>\n",
       "      <th>default_rate</th>\n",
       "    </tr>\n",
       "  </thead>\n",
       "  <tbody>\n",
       "    <tr>\n",
       "      <th>0</th>\n",
       "      <td>0</td>\n",
       "      <td>1582.0</td>\n",
       "      <td>51871</td>\n",
       "      <td>3.0</td>\n",
       "    </tr>\n",
       "    <tr>\n",
       "      <th>1</th>\n",
       "      <td>1</td>\n",
       "      <td>784.0</td>\n",
       "      <td>11132</td>\n",
       "      <td>7.0</td>\n",
       "    </tr>\n",
       "    <tr>\n",
       "      <th>2</th>\n",
       "      <td>2</td>\n",
       "      <td>389.0</td>\n",
       "      <td>4917</td>\n",
       "      <td>7.9</td>\n",
       "    </tr>\n",
       "    <tr>\n",
       "      <th>3</th>\n",
       "      <td>3</td>\n",
       "      <td>148.0</td>\n",
       "      <td>1469</td>\n",
       "      <td>10.1</td>\n",
       "    </tr>\n",
       "    <tr>\n",
       "      <th>4</th>\n",
       "      <td>4</td>\n",
       "      <td>39.0</td>\n",
       "      <td>411</td>\n",
       "      <td>9.5</td>\n",
       "    </tr>\n",
       "    <tr>\n",
       "      <th>5</th>\n",
       "      <td>5</td>\n",
       "      <td>6.0</td>\n",
       "      <td>70</td>\n",
       "      <td>8.6</td>\n",
       "    </tr>\n",
       "  </tbody>\n",
       "</table>\n",
       "</div>"
      ],
      "text/plain": [
       "   No of times 60 DPD or worse in last 6 months  count_prospect  \\\n",
       "0                                             0          1582.0   \n",
       "1                                             1           784.0   \n",
       "2                                             2           389.0   \n",
       "3                                             3           148.0   \n",
       "4                                             4            39.0   \n",
       "5                                             5             6.0   \n",
       "\n",
       "   noof_prospect  default_rate  \n",
       "0          51871           3.0  \n",
       "1          11132           7.0  \n",
       "2           4917           7.9  \n",
       "3           1469          10.1  \n",
       "4            411           9.5  \n",
       "5             70           8.6  "
      ]
     },
     "execution_count": 252,
     "metadata": {},
     "output_type": "execute_result"
    }
   ],
   "source": [
    "agg_60DPD6M"
   ]
  },
  {
   "cell_type": "code",
   "execution_count": 253,
   "metadata": {},
   "outputs": [
    {
     "data": {
      "image/png": "[encoded data removed]",
      "text/plain": [
       "<Figure size 432x288 with 1 Axes>"
      ]
     },
     "metadata": {
      "needs_background": "light"
     },
     "output_type": "display_data"
    }
   ],
   "source": [
    "bp = sns.barplot(x='No of times 60 DPD or worse in last 6 months', y='default_rate', data=agg_60DPD6M)\n",
    "bp.set_xticklabels(bp.get_xticklabels(),rotation=90)\n",
    "plt.show()"
   ]
  },
  {
   "cell_type": "markdown",
   "metadata": {},
   "source": [
    "#### No of times 30 DPD or worse in last 6 months"
   ]
  },
  {
   "cell_type": "code",
   "execution_count": 254,
   "metadata": {},
   "outputs": [
    {
     "data": {
      "text/plain": [
       "0    50109\n",
       "1     9610\n",
       "2     6195\n",
       "3     3269\n",
       "4     1389\n",
       "5      565\n",
       "6      142\n",
       "7       16\n",
       "Name: No of times 30 DPD or worse in last 6 months, dtype: int64"
      ]
     },
     "execution_count": 254,
     "metadata": {},
     "output_type": "execute_result"
    }
   ],
   "source": [
    "credbur_df['No of times 30 DPD or worse in last 6 months'].value_counts(dropna=False)"
   ]
  },
  {
   "cell_type": "code",
   "execution_count": 255,
   "metadata": {},
   "outputs": [],
   "source": [
    "count_prospects_30DPD6M = credbur_df.groupby('No of times 30 DPD or worse in last 6 months')['Performance Tag'].sum().reset_index(name = 'count_prospect')\n",
    "No_of_prospect_30DPD6M = credbur_df.groupby('No of times 30 DPD or worse in last 6 months')['Performance Tag'].count().reset_index(name = 'noof_prospect')\n",
    "\n",
    "agg_30DPD6M = count_prospects_30DPD6M.merge(No_of_prospect_30DPD6M, on = 'No of times 30 DPD or worse in last 6 months')\n",
    "agg_30DPD6M['default_rate'] = 100*(agg_30DPD6M['count_prospect']/agg_30DPD6M['noof_prospect']).round(3)"
   ]
  },
  {
   "cell_type": "code",
   "execution_count": 256,
   "metadata": {},
   "outputs": [
    {
     "data": {
      "text/html": [
       "<div>\n",
       "<style scoped>\n",
       "    .dataframe tbody tr th:only-of-type {\n",
       "        vertical-align: middle;\n",
       "    }\n",
       "\n",
       "    .dataframe tbody tr th {\n",
       "        vertical-align: top;\n",
       "    }\n",
       "\n",
       "    .dataframe thead th {\n",
       "        text-align: right;\n",
       "    }\n",
       "</style>\n",
       "<table border=\"1\" class=\"dataframe\">\n",
       "  <thead>\n",
       "    <tr style=\"text-align: right;\">\n",
       "      <th></th>\n",
       "      <th>No of times 30 DPD or worse in last 6 months</th>\n",
       "      <th>count_prospect</th>\n",
       "      <th>noof_prospect</th>\n",
       "      <th>default_rate</th>\n",
       "    </tr>\n",
       "  </thead>\n",
       "  <tbody>\n",
       "    <tr>\n",
       "      <th>0</th>\n",
       "      <td>0</td>\n",
       "      <td>1455.0</td>\n",
       "      <td>50099</td>\n",
       "      <td>2.9</td>\n",
       "    </tr>\n",
       "    <tr>\n",
       "      <th>1</th>\n",
       "      <td>1</td>\n",
       "      <td>623.0</td>\n",
       "      <td>9501</td>\n",
       "      <td>6.6</td>\n",
       "    </tr>\n",
       "    <tr>\n",
       "      <th>2</th>\n",
       "      <td>2</td>\n",
       "      <td>466.0</td>\n",
       "      <td>5898</td>\n",
       "      <td>7.9</td>\n",
       "    </tr>\n",
       "    <tr>\n",
       "      <th>3</th>\n",
       "      <td>3</td>\n",
       "      <td>245.0</td>\n",
       "      <td>2830</td>\n",
       "      <td>8.7</td>\n",
       "    </tr>\n",
       "    <tr>\n",
       "      <th>4</th>\n",
       "      <td>4</td>\n",
       "      <td>107.0</td>\n",
       "      <td>1045</td>\n",
       "      <td>10.2</td>\n",
       "    </tr>\n",
       "    <tr>\n",
       "      <th>5</th>\n",
       "      <td>5</td>\n",
       "      <td>43.0</td>\n",
       "      <td>386</td>\n",
       "      <td>11.1</td>\n",
       "    </tr>\n",
       "    <tr>\n",
       "      <th>6</th>\n",
       "      <td>6</td>\n",
       "      <td>8.0</td>\n",
       "      <td>96</td>\n",
       "      <td>8.3</td>\n",
       "    </tr>\n",
       "    <tr>\n",
       "      <th>7</th>\n",
       "      <td>7</td>\n",
       "      <td>1.0</td>\n",
       "      <td>15</td>\n",
       "      <td>6.7</td>\n",
       "    </tr>\n",
       "  </tbody>\n",
       "</table>\n",
       "</div>"
      ],
      "text/plain": [
       "   No of times 30 DPD or worse in last 6 months  count_prospect  \\\n",
       "0                                             0          1455.0   \n",
       "1                                             1           623.0   \n",
       "2                                             2           466.0   \n",
       "3                                             3           245.0   \n",
       "4                                             4           107.0   \n",
       "5                                             5            43.0   \n",
       "6                                             6             8.0   \n",
       "7                                             7             1.0   \n",
       "\n",
       "   noof_prospect  default_rate  \n",
       "0          50099           2.9  \n",
       "1           9501           6.6  \n",
       "2           5898           7.9  \n",
       "3           2830           8.7  \n",
       "4           1045          10.2  \n",
       "5            386          11.1  \n",
       "6             96           8.3  \n",
       "7             15           6.7  "
      ]
     },
     "execution_count": 256,
     "metadata": {},
     "output_type": "execute_result"
    }
   ],
   "source": [
    "agg_30DPD6M"
   ]
  },
  {
   "cell_type": "code",
   "execution_count": 257,
   "metadata": {},
   "outputs": [
    {
     "data": {
      "image/png": "[encoded data removed]",
      "text/plain": [
       "<Figure size 432x288 with 1 Axes>"
      ]
     },
     "metadata": {
      "needs_background": "light"
     },
     "output_type": "display_data"
    }
   ],
   "source": [
    "bp = sns.barplot(x='No of times 30 DPD or worse in last 6 months', y='default_rate', data=agg_30DPD6M)\n",
    "bp.set_xticklabels(bp.get_xticklabels(),rotation=90)\n",
    "plt.show()"
   ]
  },
  {
   "cell_type": "markdown",
   "metadata": {},
   "source": [
    "#### No of times 90 DPD or worse in last 12 months"
   ]
  },
  {
   "cell_type": "code",
   "execution_count": 258,
   "metadata": {},
   "outputs": [
    {
     "data": {
      "text/plain": [
       "0    50541\n",
       "1    11991\n",
       "2     6655\n",
       "3     1672\n",
       "4      390\n",
       "5       46\n",
       "Name: No of times 90 DPD or worse in last 12 months, dtype: int64"
      ]
     },
     "execution_count": 258,
     "metadata": {},
     "output_type": "execute_result"
    }
   ],
   "source": [
    "credbur_df['No of times 90 DPD or worse in last 12 months'].value_counts(dropna=False)"
   ]
  },
  {
   "cell_type": "code",
   "execution_count": 259,
   "metadata": {},
   "outputs": [],
   "source": [
    "count_prospects_90DPD12M = credbur_df.groupby('No of times 90 DPD or worse in last 12 months')['Performance Tag'].sum().reset_index(name = 'count_prospect')\n",
    "No_of_prospect_90DPD12M = credbur_df.groupby('No of times 90 DPD or worse in last 12 months')['Performance Tag'].count().reset_index(name = 'noof_prospect')\n",
    "\n",
    "agg_90DPD12M = count_prospects_90DPD12M.merge(No_of_prospect_90DPD12M, on = 'No of times 90 DPD or worse in last 12 months')\n",
    "agg_90DPD12M['default_rate'] = 100*(agg_90DPD12M['count_prospect']/agg_90DPD12M['noof_prospect']).round(3)"
   ]
  },
  {
   "cell_type": "code",
   "execution_count": 260,
   "metadata": {},
   "outputs": [
    {
     "data": {
      "text/html": [
       "<div>\n",
       "<style scoped>\n",
       "    .dataframe tbody tr th:only-of-type {\n",
       "        vertical-align: middle;\n",
       "    }\n",
       "\n",
       "    .dataframe tbody tr th {\n",
       "        vertical-align: top;\n",
       "    }\n",
       "\n",
       "    .dataframe thead th {\n",
       "        text-align: right;\n",
       "    }\n",
       "</style>\n",
       "<table border=\"1\" class=\"dataframe\">\n",
       "  <thead>\n",
       "    <tr style=\"text-align: right;\">\n",
       "      <th></th>\n",
       "      <th>No of times 90 DPD or worse in last 12 months</th>\n",
       "      <th>count_prospect</th>\n",
       "      <th>noof_prospect</th>\n",
       "      <th>default_rate</th>\n",
       "    </tr>\n",
       "  </thead>\n",
       "  <tbody>\n",
       "    <tr>\n",
       "      <th>0</th>\n",
       "      <td>0</td>\n",
       "      <td>1510.0</td>\n",
       "      <td>50494</td>\n",
       "      <td>3.0</td>\n",
       "    </tr>\n",
       "    <tr>\n",
       "      <th>1</th>\n",
       "      <td>1</td>\n",
       "      <td>796.0</td>\n",
       "      <td>11663</td>\n",
       "      <td>6.8</td>\n",
       "    </tr>\n",
       "    <tr>\n",
       "      <th>2</th>\n",
       "      <td>2</td>\n",
       "      <td>489.0</td>\n",
       "      <td>6161</td>\n",
       "      <td>7.9</td>\n",
       "    </tr>\n",
       "    <tr>\n",
       "      <th>3</th>\n",
       "      <td>3</td>\n",
       "      <td>120.0</td>\n",
       "      <td>1244</td>\n",
       "      <td>9.6</td>\n",
       "    </tr>\n",
       "    <tr>\n",
       "      <th>4</th>\n",
       "      <td>4</td>\n",
       "      <td>28.0</td>\n",
       "      <td>272</td>\n",
       "      <td>10.3</td>\n",
       "    </tr>\n",
       "    <tr>\n",
       "      <th>5</th>\n",
       "      <td>5</td>\n",
       "      <td>5.0</td>\n",
       "      <td>36</td>\n",
       "      <td>13.9</td>\n",
       "    </tr>\n",
       "  </tbody>\n",
       "</table>\n",
       "</div>"
      ],
      "text/plain": [
       "   No of times 90 DPD or worse in last 12 months  count_prospect  \\\n",
       "0                                              0          1510.0   \n",
       "1                                              1           796.0   \n",
       "2                                              2           489.0   \n",
       "3                                              3           120.0   \n",
       "4                                              4            28.0   \n",
       "5                                              5             5.0   \n",
       "\n",
       "   noof_prospect  default_rate  \n",
       "0          50494           3.0  \n",
       "1          11663           6.8  \n",
       "2           6161           7.9  \n",
       "3           1244           9.6  \n",
       "4            272          10.3  \n",
       "5             36          13.9  "
      ]
     },
     "execution_count": 260,
     "metadata": {},
     "output_type": "execute_result"
    }
   ],
   "source": [
    "agg_90DPD12M"
   ]
  },
  {
   "cell_type": "code",
   "execution_count": 261,
   "metadata": {},
   "outputs": [
    {
     "data": {
      "image/png": "[encoded data removed]",
      "text/plain": [
       "<Figure size 432x288 with 1 Axes>"
      ]
     },
     "metadata": {
      "needs_background": "light"
     },
     "output_type": "display_data"
    }
   ],
   "source": [
    "bp = sns.barplot(x='No of times 90 DPD or worse in last 12 months', y='default_rate', data=agg_90DPD12M)\n",
    "bp.set_xticklabels(bp.get_xticklabels(),rotation=90)\n",
    "plt.show()"
   ]
  },
  {
   "cell_type": "markdown",
   "metadata": {},
   "source": [
    "#### No of times 60 DPD or worse in last 12 months"
   ]
  },
  {
   "cell_type": "code",
   "execution_count": 262,
   "metadata": {},
   "outputs": [
    {
     "data": {
      "text/plain": [
       "0    45881\n",
       "1    12927\n",
       "2     6697\n",
       "3     3643\n",
       "4     1420\n",
       "5      569\n",
       "6      148\n",
       "7       10\n",
       "Name: No of times 60 DPD or worse in last 12 months, dtype: int64"
      ]
     },
     "execution_count": 262,
     "metadata": {},
     "output_type": "execute_result"
    }
   ],
   "source": [
    "credbur_df['No of times 60 DPD or worse in last 12 months'].value_counts(dropna=False)"
   ]
  },
  {
   "cell_type": "code",
   "execution_count": 263,
   "metadata": {},
   "outputs": [],
   "source": [
    "count_prospects_60DPD12M = credbur_df.groupby('No of times 60 DPD or worse in last 12 months')['Performance Tag'].sum().reset_index(name = 'count_prospect')\n",
    "No_of_prospect_60DPD12M = credbur_df.groupby('No of times 60 DPD or worse in last 12 months')['Performance Tag'].count().reset_index(name = 'noof_prospect')\n",
    "\n",
    "agg_60DPD12M = count_prospects_60DPD12M.merge(No_of_prospect_60DPD12M, on = 'No of times 60 DPD or worse in last 12 months')\n",
    "agg_60DPD12M['default_rate'] = 100*(agg_60DPD12M['count_prospect']/agg_60DPD12M['noof_prospect']).round(3)"
   ]
  },
  {
   "cell_type": "code",
   "execution_count": 264,
   "metadata": {},
   "outputs": [
    {
     "data": {
      "text/html": [
       "<div>\n",
       "<style scoped>\n",
       "    .dataframe tbody tr th:only-of-type {\n",
       "        vertical-align: middle;\n",
       "    }\n",
       "\n",
       "    .dataframe tbody tr th {\n",
       "        vertical-align: top;\n",
       "    }\n",
       "\n",
       "    .dataframe thead th {\n",
       "        text-align: right;\n",
       "    }\n",
       "</style>\n",
       "<table border=\"1\" class=\"dataframe\">\n",
       "  <thead>\n",
       "    <tr style=\"text-align: right;\">\n",
       "      <th></th>\n",
       "      <th>No of times 60 DPD or worse in last 12 months</th>\n",
       "      <th>count_prospect</th>\n",
       "      <th>noof_prospect</th>\n",
       "      <th>default_rate</th>\n",
       "    </tr>\n",
       "  </thead>\n",
       "  <tbody>\n",
       "    <tr>\n",
       "      <th>0</th>\n",
       "      <td>0</td>\n",
       "      <td>1378.0</td>\n",
       "      <td>45869</td>\n",
       "      <td>3.0</td>\n",
       "    </tr>\n",
       "    <tr>\n",
       "      <th>1</th>\n",
       "      <td>1</td>\n",
       "      <td>663.0</td>\n",
       "      <td>12816</td>\n",
       "      <td>5.2</td>\n",
       "    </tr>\n",
       "    <tr>\n",
       "      <th>2</th>\n",
       "      <td>2</td>\n",
       "      <td>483.0</td>\n",
       "      <td>6416</td>\n",
       "      <td>7.5</td>\n",
       "    </tr>\n",
       "    <tr>\n",
       "      <th>3</th>\n",
       "      <td>3</td>\n",
       "      <td>274.0</td>\n",
       "      <td>3205</td>\n",
       "      <td>8.5</td>\n",
       "    </tr>\n",
       "    <tr>\n",
       "      <th>4</th>\n",
       "      <td>4</td>\n",
       "      <td>101.0</td>\n",
       "      <td>1048</td>\n",
       "      <td>9.6</td>\n",
       "    </tr>\n",
       "    <tr>\n",
       "      <th>5</th>\n",
       "      <td>5</td>\n",
       "      <td>36.0</td>\n",
       "      <td>398</td>\n",
       "      <td>9.0</td>\n",
       "    </tr>\n",
       "    <tr>\n",
       "      <th>6</th>\n",
       "      <td>6</td>\n",
       "      <td>13.0</td>\n",
       "      <td>111</td>\n",
       "      <td>11.7</td>\n",
       "    </tr>\n",
       "    <tr>\n",
       "      <th>7</th>\n",
       "      <td>7</td>\n",
       "      <td>0.0</td>\n",
       "      <td>7</td>\n",
       "      <td>0.0</td>\n",
       "    </tr>\n",
       "  </tbody>\n",
       "</table>\n",
       "</div>"
      ],
      "text/plain": [
       "   No of times 60 DPD or worse in last 12 months  count_prospect  \\\n",
       "0                                              0          1378.0   \n",
       "1                                              1           663.0   \n",
       "2                                              2           483.0   \n",
       "3                                              3           274.0   \n",
       "4                                              4           101.0   \n",
       "5                                              5            36.0   \n",
       "6                                              6            13.0   \n",
       "7                                              7             0.0   \n",
       "\n",
       "   noof_prospect  default_rate  \n",
       "0          45869           3.0  \n",
       "1          12816           5.2  \n",
       "2           6416           7.5  \n",
       "3           3205           8.5  \n",
       "4           1048           9.6  \n",
       "5            398           9.0  \n",
       "6            111          11.7  \n",
       "7              7           0.0  "
      ]
     },
     "execution_count": 264,
     "metadata": {},
     "output_type": "execute_result"
    }
   ],
   "source": [
    "agg_60DPD12M"
   ]
  },
  {
   "cell_type": "code",
   "execution_count": 265,
   "metadata": {},
   "outputs": [
    {
     "data": {
      "image/png": "[encoded data removed]",
      "text/plain": [
       "<Figure size 432x288 with 1 Axes>"
      ]
     },
     "metadata": {
      "needs_background": "light"
     },
     "output_type": "display_data"
    }
   ],
   "source": [
    "bp = sns.barplot(x='No of times 60 DPD or worse in last 12 months', y='default_rate', data=agg_60DPD12M)\n",
    "bp.set_xticklabels(bp.get_xticklabels(),rotation=90)\n",
    "plt.show()"
   ]
  },
  {
   "cell_type": "markdown",
   "metadata": {},
   "source": [
    "#### No of times 30 DPD or worse in last 12 months"
   ]
  },
  {
   "cell_type": "code",
   "execution_count": 266,
   "metadata": {},
   "outputs": [
    {
     "data": {
      "text/plain": [
       "0    44863\n",
       "1    11502\n",
       "2     6266\n",
       "3     4451\n",
       "4     2309\n",
       "5     1166\n",
       "6      549\n",
       "7      160\n",
       "8       27\n",
       "9        2\n",
       "Name: No of times 30 DPD or worse in last 12 months, dtype: int64"
      ]
     },
     "execution_count": 266,
     "metadata": {},
     "output_type": "execute_result"
    }
   ],
   "source": [
    "credbur_df['No of times 30 DPD or worse in last 12 months'].value_counts(dropna=False)"
   ]
  },
  {
   "cell_type": "code",
   "execution_count": 267,
   "metadata": {},
   "outputs": [],
   "source": [
    "count_prospects_30DPD12M = credbur_df.groupby('No of times 30 DPD or worse in last 12 months')['Performance Tag'].sum().reset_index(name = 'count_prospect')\n",
    "No_of_prospect_30DPD12M = credbur_df.groupby('No of times 30 DPD or worse in last 12 months')['Performance Tag'].count().reset_index(name = 'noof_prospect')\n",
    "\n",
    "agg_30DPD12M = count_prospects_30DPD12M.merge(No_of_prospect_30DPD12M, on = 'No of times 30 DPD or worse in last 12 months')\n",
    "agg_30DPD12M['default_rate'] = 100*(agg_30DPD12M['count_prospect']/agg_30DPD12M['noof_prospect']).round(3)"
   ]
  },
  {
   "cell_type": "code",
   "execution_count": 268,
   "metadata": {
    "scrolled": true
   },
   "outputs": [
    {
     "data": {
      "text/html": [
       "<div>\n",
       "<style scoped>\n",
       "    .dataframe tbody tr th:only-of-type {\n",
       "        vertical-align: middle;\n",
       "    }\n",
       "\n",
       "    .dataframe tbody tr th {\n",
       "        vertical-align: top;\n",
       "    }\n",
       "\n",
       "    .dataframe thead th {\n",
       "        text-align: right;\n",
       "    }\n",
       "</style>\n",
       "<table border=\"1\" class=\"dataframe\">\n",
       "  <thead>\n",
       "    <tr style=\"text-align: right;\">\n",
       "      <th></th>\n",
       "      <th>No of times 30 DPD or worse in last 12 months</th>\n",
       "      <th>count_prospect</th>\n",
       "      <th>noof_prospect</th>\n",
       "      <th>default_rate</th>\n",
       "    </tr>\n",
       "  </thead>\n",
       "  <tbody>\n",
       "    <tr>\n",
       "      <th>0</th>\n",
       "      <td>0</td>\n",
       "      <td>1316.0</td>\n",
       "      <td>44858</td>\n",
       "      <td>2.9</td>\n",
       "    </tr>\n",
       "    <tr>\n",
       "      <th>1</th>\n",
       "      <td>1</td>\n",
       "      <td>518.0</td>\n",
       "      <td>11474</td>\n",
       "      <td>4.5</td>\n",
       "    </tr>\n",
       "    <tr>\n",
       "      <th>2</th>\n",
       "      <td>2</td>\n",
       "      <td>452.0</td>\n",
       "      <td>6117</td>\n",
       "      <td>7.4</td>\n",
       "    </tr>\n",
       "    <tr>\n",
       "      <th>3</th>\n",
       "      <td>3</td>\n",
       "      <td>349.0</td>\n",
       "      <td>4137</td>\n",
       "      <td>8.4</td>\n",
       "    </tr>\n",
       "    <tr>\n",
       "      <th>4</th>\n",
       "      <td>4</td>\n",
       "      <td>173.0</td>\n",
       "      <td>1924</td>\n",
       "      <td>9.0</td>\n",
       "    </tr>\n",
       "    <tr>\n",
       "      <th>5</th>\n",
       "      <td>5</td>\n",
       "      <td>89.0</td>\n",
       "      <td>853</td>\n",
       "      <td>10.4</td>\n",
       "    </tr>\n",
       "    <tr>\n",
       "      <th>6</th>\n",
       "      <td>6</td>\n",
       "      <td>38.0</td>\n",
       "      <td>376</td>\n",
       "      <td>10.1</td>\n",
       "    </tr>\n",
       "    <tr>\n",
       "      <th>7</th>\n",
       "      <td>7</td>\n",
       "      <td>11.0</td>\n",
       "      <td>107</td>\n",
       "      <td>10.3</td>\n",
       "    </tr>\n",
       "    <tr>\n",
       "      <th>8</th>\n",
       "      <td>8</td>\n",
       "      <td>2.0</td>\n",
       "      <td>23</td>\n",
       "      <td>8.7</td>\n",
       "    </tr>\n",
       "    <tr>\n",
       "      <th>9</th>\n",
       "      <td>9</td>\n",
       "      <td>0.0</td>\n",
       "      <td>1</td>\n",
       "      <td>0.0</td>\n",
       "    </tr>\n",
       "  </tbody>\n",
       "</table>\n",
       "</div>"
      ],
      "text/plain": [
       "   No of times 30 DPD or worse in last 12 months  count_prospect  \\\n",
       "0                                              0          1316.0   \n",
       "1                                              1           518.0   \n",
       "2                                              2           452.0   \n",
       "3                                              3           349.0   \n",
       "4                                              4           173.0   \n",
       "5                                              5            89.0   \n",
       "6                                              6            38.0   \n",
       "7                                              7            11.0   \n",
       "8                                              8             2.0   \n",
       "9                                              9             0.0   \n",
       "\n",
       "   noof_prospect  default_rate  \n",
       "0          44858           2.9  \n",
       "1          11474           4.5  \n",
       "2           6117           7.4  \n",
       "3           4137           8.4  \n",
       "4           1924           9.0  \n",
       "5            853          10.4  \n",
       "6            376          10.1  \n",
       "7            107          10.3  \n",
       "8             23           8.7  \n",
       "9              1           0.0  "
      ]
     },
     "execution_count": 268,
     "metadata": {},
     "output_type": "execute_result"
    }
   ],
   "source": [
    "agg_30DPD12M"
   ]
  },
  {
   "cell_type": "code",
   "execution_count": 269,
   "metadata": {},
   "outputs": [
    {
     "data": {
      "image/png": "[encoded data removed]",
      "text/plain": [
       "<Figure size 432x288 with 1 Axes>"
      ]
     },
     "metadata": {
      "needs_background": "light"
     },
     "output_type": "display_data"
    }
   ],
   "source": [
    "bp = sns.barplot(x='No of times 30 DPD or worse in last 12 months', y='default_rate', data=agg_30DPD12M)\n",
    "bp.set_xticklabels(bp.get_xticklabels(),rotation=90)\n",
    "plt.show()"
   ]
  },
  {
   "cell_type": "markdown",
   "metadata": {},
   "source": [
    "#### Avgas CC Utilization in last 12 months"
   ]
  },
  {
   "cell_type": "code",
   "execution_count": 270,
   "metadata": {},
   "outputs": [
    {
     "data": {
      "image/png": "[encoded data removed]",
      "text/plain": [
       "<Figure size 432x288 with 1 Axes>"
      ]
     },
     "metadata": {
      "needs_background": "light"
     },
     "output_type": "display_data"
    }
   ],
   "source": [
    "sns.boxplot(x='Avgas CC Utilization in last 12 months', data=credbur_df)\n",
    "plt.show()"
   ]
  },
  {
   "cell_type": "code",
   "execution_count": 271,
   "metadata": {},
   "outputs": [],
   "source": [
    "# bucketing the data based on the card utilization in last 1 year to study the default rate\n",
    "bins = np.arange(0,credbur_df['Avgas CC Utilization in last 12 months'].max() + 10, 20) \n",
    "credbur_df['CCUtil_bin'] = pd.cut(credbur_df['Avgas CC Utilization in last 12 months'], bins, include_lowest=True)"
   ]
  },
  {
   "cell_type": "code",
   "execution_count": 272,
   "metadata": {},
   "outputs": [],
   "source": [
    "No_of_prospect_ccutil = credbur_df.groupby('CCUtil_bin')['Performance Tag'].count().reset_index(name = 'noof_prospect')\n",
    "count_prospects_ccutil = credbur_df[demog_df['Performance Tag']==1].groupby('CCUtil_bin')['Performance Tag'].count().reset_index(name = 'count_prospect')\n",
    "\n",
    "agg_ccutil = No_of_prospect_ccutil.merge(count_prospects_ccutil, on='CCUtil_bin')\n",
    "agg_ccutil['default_rate'] = 100*(agg_ccutil['count_prospect']/agg_ccutil['noof_prospect']).round(3)"
   ]
  },
  {
   "cell_type": "code",
   "execution_count": 273,
   "metadata": {},
   "outputs": [
    {
     "data": {
      "text/html": [
       "<div>\n",
       "<style scoped>\n",
       "    .dataframe tbody tr th:only-of-type {\n",
       "        vertical-align: middle;\n",
       "    }\n",
       "\n",
       "    .dataframe tbody tr th {\n",
       "        vertical-align: top;\n",
       "    }\n",
       "\n",
       "    .dataframe thead th {\n",
       "        text-align: right;\n",
       "    }\n",
       "</style>\n",
       "<table border=\"1\" class=\"dataframe\">\n",
       "  <thead>\n",
       "    <tr style=\"text-align: right;\">\n",
       "      <th></th>\n",
       "      <th>CCUtil_bin</th>\n",
       "      <th>noof_prospect</th>\n",
       "      <th>count_prospect</th>\n",
       "      <th>default_rate</th>\n",
       "    </tr>\n",
       "  </thead>\n",
       "  <tbody>\n",
       "    <tr>\n",
       "      <th>0</th>\n",
       "      <td>(-0.001, 20.0]</td>\n",
       "      <td>40232</td>\n",
       "      <td>977</td>\n",
       "      <td>2.4</td>\n",
       "    </tr>\n",
       "    <tr>\n",
       "      <th>1</th>\n",
       "      <td>(20.0, 40.0]</td>\n",
       "      <td>9173</td>\n",
       "      <td>589</td>\n",
       "      <td>6.4</td>\n",
       "    </tr>\n",
       "    <tr>\n",
       "      <th>2</th>\n",
       "      <td>(40.0, 60.0]</td>\n",
       "      <td>9033</td>\n",
       "      <td>664</td>\n",
       "      <td>7.4</td>\n",
       "    </tr>\n",
       "    <tr>\n",
       "      <th>3</th>\n",
       "      <td>(60.0, 80.0]</td>\n",
       "      <td>5131</td>\n",
       "      <td>385</td>\n",
       "      <td>7.5</td>\n",
       "    </tr>\n",
       "    <tr>\n",
       "      <th>4</th>\n",
       "      <td>(80.0, 100.0]</td>\n",
       "      <td>1653</td>\n",
       "      <td>107</td>\n",
       "      <td>6.5</td>\n",
       "    </tr>\n",
       "    <tr>\n",
       "      <th>5</th>\n",
       "      <td>(100.0, 120.0]</td>\n",
       "      <td>3625</td>\n",
       "      <td>178</td>\n",
       "      <td>4.9</td>\n",
       "    </tr>\n",
       "  </tbody>\n",
       "</table>\n",
       "</div>"
      ],
      "text/plain": [
       "       CCUtil_bin  noof_prospect  count_prospect  default_rate\n",
       "0  (-0.001, 20.0]          40232             977           2.4\n",
       "1    (20.0, 40.0]           9173             589           6.4\n",
       "2    (40.0, 60.0]           9033             664           7.4\n",
       "3    (60.0, 80.0]           5131             385           7.5\n",
       "4   (80.0, 100.0]           1653             107           6.5\n",
       "5  (100.0, 120.0]           3625             178           4.9"
      ]
     },
     "execution_count": 273,
     "metadata": {},
     "output_type": "execute_result"
    }
   ],
   "source": [
    "agg_ccutil"
   ]
  },
  {
   "cell_type": "code",
   "execution_count": 274,
   "metadata": {},
   "outputs": [
    {
     "data": {
      "image/png": "[encoded data removed]",
      "text/plain": [
       "<Figure size 432x288 with 1 Axes>"
      ]
     },
     "metadata": {
      "needs_background": "light"
     },
     "output_type": "display_data"
    }
   ],
   "source": [
    "bp = sns.barplot(x='CCUtil_bin', y='default_rate', data=agg_ccutil)\n",
    "bp.set_xticklabels(bp.get_xticklabels(),rotation=90)\n",
    "plt.show()"
   ]
  },
  {
   "cell_type": "markdown",
   "metadata": {},
   "source": [
    "People utilising more than 40% and upto 80% of their credit limit are most likely to default.\n",
    "\n",
    "#### No of trades opened in last 6 months"
   ]
  },
  {
   "cell_type": "code",
   "execution_count": 275,
   "metadata": {},
   "outputs": [
    {
     "data": {
      "text/plain": [
       " 1.0     20251\n",
       " 2.0     12462\n",
       " 0.0     12231\n",
       " 3.0      9851\n",
       " 4.0      6624\n",
       " 5.0      3791\n",
       " 6.0      2349\n",
       " 7.0      1649\n",
       " 8.0      1154\n",
       " 9.0       618\n",
       " 10.0      238\n",
       " 11.0       65\n",
       " 12.0       11\n",
       "NaN          1\n",
       "Name: No of trades opened in last 6 months, dtype: int64"
      ]
     },
     "execution_count": 275,
     "metadata": {},
     "output_type": "execute_result"
    }
   ],
   "source": [
    "credbur_df['No of trades opened in last 6 months'].value_counts(dropna=False)"
   ]
  },
  {
   "cell_type": "code",
   "execution_count": 276,
   "metadata": {
    "scrolled": true
   },
   "outputs": [
    {
     "data": {
      "text/plain": [
       "1.0     20252\n",
       "2.0     12462\n",
       "0.0     12231\n",
       "3.0      9851\n",
       "4.0      6624\n",
       "5.0      3791\n",
       "6.0      2349\n",
       "7.0      1649\n",
       "8.0      1154\n",
       "9.0       618\n",
       "10.0      238\n",
       "11.0       65\n",
       "12.0       11\n",
       "Name: No of trades opened in last 6 months, dtype: int64"
      ]
     },
     "execution_count": 276,
     "metadata": {},
     "output_type": "execute_result"
    }
   ],
   "source": [
    "# imputing the single NULL value with the Mode '1.0'\n",
    "credbur_df['No of trades opened in last 6 months'].fillna(1.0, inplace=True)\n",
    "\n",
    "credbur_df['No of trades opened in last 6 months'].value_counts(dropna=False)"
   ]
  },
  {
   "cell_type": "code",
   "execution_count": 277,
   "metadata": {},
   "outputs": [],
   "source": [
    "count_prospects_TRD6M = credbur_df.groupby('No of trades opened in last 6 months')['Performance Tag'].sum().reset_index(name = 'count_prospect')\n",
    "No_of_prospect_TRD6M = credbur_df.groupby('No of trades opened in last 6 months')['Performance Tag'].count().reset_index(name = 'noof_prospect')\n",
    "\n",
    "agg_TRD6M = count_prospects_TRD6M.merge(No_of_prospect_TRD6M, on = 'No of trades opened in last 6 months')\n",
    "agg_TRD6M['default_rate'] = 100*(agg_TRD6M['count_prospect']/agg_TRD6M['noof_prospect']).round(3)"
   ]
  },
  {
   "cell_type": "code",
   "execution_count": 278,
   "metadata": {
    "scrolled": true
   },
   "outputs": [
    {
     "data": {
      "text/html": [
       "<div>\n",
       "<style scoped>\n",
       "    .dataframe tbody tr th:only-of-type {\n",
       "        vertical-align: middle;\n",
       "    }\n",
       "\n",
       "    .dataframe tbody tr th {\n",
       "        vertical-align: top;\n",
       "    }\n",
       "\n",
       "    .dataframe thead th {\n",
       "        text-align: right;\n",
       "    }\n",
       "</style>\n",
       "<table border=\"1\" class=\"dataframe\">\n",
       "  <thead>\n",
       "    <tr style=\"text-align: right;\">\n",
       "      <th></th>\n",
       "      <th>No of trades opened in last 6 months</th>\n",
       "      <th>count_prospect</th>\n",
       "      <th>noof_prospect</th>\n",
       "      <th>default_rate</th>\n",
       "    </tr>\n",
       "  </thead>\n",
       "  <tbody>\n",
       "    <tr>\n",
       "      <th>0</th>\n",
       "      <td>0.0</td>\n",
       "      <td>272.0</td>\n",
       "      <td>12194</td>\n",
       "      <td>2.2</td>\n",
       "    </tr>\n",
       "    <tr>\n",
       "      <th>1</th>\n",
       "      <td>1.0</td>\n",
       "      <td>534.0</td>\n",
       "      <td>20123</td>\n",
       "      <td>2.7</td>\n",
       "    </tr>\n",
       "    <tr>\n",
       "      <th>2</th>\n",
       "      <td>2.0</td>\n",
       "      <td>639.0</td>\n",
       "      <td>12117</td>\n",
       "      <td>5.3</td>\n",
       "    </tr>\n",
       "    <tr>\n",
       "      <th>3</th>\n",
       "      <td>3.0</td>\n",
       "      <td>599.0</td>\n",
       "      <td>9403</td>\n",
       "      <td>6.4</td>\n",
       "    </tr>\n",
       "    <tr>\n",
       "      <th>4</th>\n",
       "      <td>4.0</td>\n",
       "      <td>436.0</td>\n",
       "      <td>6297</td>\n",
       "      <td>6.9</td>\n",
       "    </tr>\n",
       "    <tr>\n",
       "      <th>5</th>\n",
       "      <td>5.0</td>\n",
       "      <td>212.0</td>\n",
       "      <td>3665</td>\n",
       "      <td>5.8</td>\n",
       "    </tr>\n",
       "    <tr>\n",
       "      <th>6</th>\n",
       "      <td>6.0</td>\n",
       "      <td>109.0</td>\n",
       "      <td>2336</td>\n",
       "      <td>4.7</td>\n",
       "    </tr>\n",
       "    <tr>\n",
       "      <th>7</th>\n",
       "      <td>7.0</td>\n",
       "      <td>65.0</td>\n",
       "      <td>1649</td>\n",
       "      <td>3.9</td>\n",
       "    </tr>\n",
       "    <tr>\n",
       "      <th>8</th>\n",
       "      <td>8.0</td>\n",
       "      <td>52.0</td>\n",
       "      <td>1154</td>\n",
       "      <td>4.5</td>\n",
       "    </tr>\n",
       "    <tr>\n",
       "      <th>9</th>\n",
       "      <td>9.0</td>\n",
       "      <td>21.0</td>\n",
       "      <td>618</td>\n",
       "      <td>3.4</td>\n",
       "    </tr>\n",
       "    <tr>\n",
       "      <th>10</th>\n",
       "      <td>10.0</td>\n",
       "      <td>7.0</td>\n",
       "      <td>238</td>\n",
       "      <td>2.9</td>\n",
       "    </tr>\n",
       "    <tr>\n",
       "      <th>11</th>\n",
       "      <td>11.0</td>\n",
       "      <td>2.0</td>\n",
       "      <td>65</td>\n",
       "      <td>3.1</td>\n",
       "    </tr>\n",
       "    <tr>\n",
       "      <th>12</th>\n",
       "      <td>12.0</td>\n",
       "      <td>0.0</td>\n",
       "      <td>11</td>\n",
       "      <td>0.0</td>\n",
       "    </tr>\n",
       "  </tbody>\n",
       "</table>\n",
       "</div>"
      ],
      "text/plain": [
       "    No of trades opened in last 6 months  count_prospect  noof_prospect  \\\n",
       "0                                    0.0           272.0          12194   \n",
       "1                                    1.0           534.0          20123   \n",
       "2                                    2.0           639.0          12117   \n",
       "3                                    3.0           599.0           9403   \n",
       "4                                    4.0           436.0           6297   \n",
       "5                                    5.0           212.0           3665   \n",
       "6                                    6.0           109.0           2336   \n",
       "7                                    7.0            65.0           1649   \n",
       "8                                    8.0            52.0           1154   \n",
       "9                                    9.0            21.0            618   \n",
       "10                                  10.0             7.0            238   \n",
       "11                                  11.0             2.0             65   \n",
       "12                                  12.0             0.0             11   \n",
       "\n",
       "    default_rate  \n",
       "0            2.2  \n",
       "1            2.7  \n",
       "2            5.3  \n",
       "3            6.4  \n",
       "4            6.9  \n",
       "5            5.8  \n",
       "6            4.7  \n",
       "7            3.9  \n",
       "8            4.5  \n",
       "9            3.4  \n",
       "10           2.9  \n",
       "11           3.1  \n",
       "12           0.0  "
      ]
     },
     "execution_count": 278,
     "metadata": {},
     "output_type": "execute_result"
    }
   ],
   "source": [
    "agg_TRD6M"
   ]
  },
  {
   "cell_type": "code",
   "execution_count": 279,
   "metadata": {},
   "outputs": [
    {
     "data": {
      "image/png": "[encoded data removed]",
      "text/plain": [
       "<Figure size 432x288 with 1 Axes>"
      ]
     },
     "metadata": {
      "needs_background": "light"
     },
     "output_type": "display_data"
    }
   ],
   "source": [
    "bp = sns.barplot(x='No of trades opened in last 6 months', y='default_rate', data=agg_TRD6M)\n",
    "bp.set_xticklabels(bp.get_xticklabels(),rotation=90)\n",
    "plt.show()"
   ]
  },
  {
   "cell_type": "markdown",
   "metadata": {},
   "source": [
    "#### No of trades opened in last 12 months"
   ]
  },
  {
   "cell_type": "code",
   "execution_count": 280,
   "metadata": {
    "scrolled": true
   },
   "outputs": [
    {
     "data": {
      "text/plain": [
       "1     11380\n",
       "2      9342\n",
       "0      4957\n",
       "4      4925\n",
       "3      4713\n",
       "5      4658\n",
       "6      4391\n",
       "7      4303\n",
       "8      3995\n",
       "9      3573\n",
       "10     2994\n",
       "11     2293\n",
       "12     1762\n",
       "13     1406\n",
       "14     1124\n",
       "15     1068\n",
       "16      992\n",
       "17      860\n",
       "18      736\n",
       "19      612\n",
       "20      434\n",
       "21      308\n",
       "22      218\n",
       "23      121\n",
       "24       73\n",
       "25       34\n",
       "26       11\n",
       "27        9\n",
       "28        3\n",
       "Name: No of trades opened in last 12 months, dtype: int64"
      ]
     },
     "execution_count": 280,
     "metadata": {},
     "output_type": "execute_result"
    }
   ],
   "source": [
    "credbur_df['No of trades opened in last 12 months'].value_counts(dropna=False)"
   ]
  },
  {
   "cell_type": "code",
   "execution_count": 281,
   "metadata": {},
   "outputs": [],
   "source": [
    "count_prospects_TRD12M = credbur_df.groupby('No of trades opened in last 12 months')['Performance Tag'].sum().reset_index(name = 'count_prospect')\n",
    "No_of_prospect_TRD12M = credbur_df.groupby('No of trades opened in last 12 months')['Performance Tag'].count().reset_index(name = 'noof_prospect')\n",
    "\n",
    "agg_TRD12M = count_prospects_TRD12M.merge(No_of_prospect_TRD12M, on = 'No of trades opened in last 12 months')\n",
    "agg_TRD12M['default_rate'] = 100*(agg_TRD12M['count_prospect']/agg_TRD12M['noof_prospect']).round(3)"
   ]
  },
  {
   "cell_type": "code",
   "execution_count": 282,
   "metadata": {
    "scrolled": true
   },
   "outputs": [
    {
     "data": {
      "text/html": [
       "<div>\n",
       "<style scoped>\n",
       "    .dataframe tbody tr th:only-of-type {\n",
       "        vertical-align: middle;\n",
       "    }\n",
       "\n",
       "    .dataframe tbody tr th {\n",
       "        vertical-align: top;\n",
       "    }\n",
       "\n",
       "    .dataframe thead th {\n",
       "        text-align: right;\n",
       "    }\n",
       "</style>\n",
       "<table border=\"1\" class=\"dataframe\">\n",
       "  <thead>\n",
       "    <tr style=\"text-align: right;\">\n",
       "      <th></th>\n",
       "      <th>No of trades opened in last 12 months</th>\n",
       "      <th>count_prospect</th>\n",
       "      <th>noof_prospect</th>\n",
       "      <th>default_rate</th>\n",
       "    </tr>\n",
       "  </thead>\n",
       "  <tbody>\n",
       "    <tr>\n",
       "      <th>0</th>\n",
       "      <td>0</td>\n",
       "      <td>111.0</td>\n",
       "      <td>4956</td>\n",
       "      <td>2.2</td>\n",
       "    </tr>\n",
       "    <tr>\n",
       "      <th>1</th>\n",
       "      <td>1</td>\n",
       "      <td>178.0</td>\n",
       "      <td>11377</td>\n",
       "      <td>1.6</td>\n",
       "    </tr>\n",
       "    <tr>\n",
       "      <th>2</th>\n",
       "      <td>2</td>\n",
       "      <td>178.0</td>\n",
       "      <td>9323</td>\n",
       "      <td>1.9</td>\n",
       "    </tr>\n",
       "    <tr>\n",
       "      <th>3</th>\n",
       "      <td>3</td>\n",
       "      <td>198.0</td>\n",
       "      <td>4679</td>\n",
       "      <td>4.2</td>\n",
       "    </tr>\n",
       "    <tr>\n",
       "      <th>4</th>\n",
       "      <td>4</td>\n",
       "      <td>208.0</td>\n",
       "      <td>4850</td>\n",
       "      <td>4.3</td>\n",
       "    </tr>\n",
       "    <tr>\n",
       "      <th>5</th>\n",
       "      <td>5</td>\n",
       "      <td>233.0</td>\n",
       "      <td>4548</td>\n",
       "      <td>5.1</td>\n",
       "    </tr>\n",
       "    <tr>\n",
       "      <th>6</th>\n",
       "      <td>6</td>\n",
       "      <td>267.0</td>\n",
       "      <td>4207</td>\n",
       "      <td>6.3</td>\n",
       "    </tr>\n",
       "    <tr>\n",
       "      <th>7</th>\n",
       "      <td>7</td>\n",
       "      <td>268.0</td>\n",
       "      <td>4091</td>\n",
       "      <td>6.6</td>\n",
       "    </tr>\n",
       "    <tr>\n",
       "      <th>8</th>\n",
       "      <td>8</td>\n",
       "      <td>305.0</td>\n",
       "      <td>3799</td>\n",
       "      <td>8.0</td>\n",
       "    </tr>\n",
       "    <tr>\n",
       "      <th>9</th>\n",
       "      <td>9</td>\n",
       "      <td>214.0</td>\n",
       "      <td>3376</td>\n",
       "      <td>6.3</td>\n",
       "    </tr>\n",
       "    <tr>\n",
       "      <th>10</th>\n",
       "      <td>10</td>\n",
       "      <td>199.0</td>\n",
       "      <td>2816</td>\n",
       "      <td>7.1</td>\n",
       "    </tr>\n",
       "    <tr>\n",
       "      <th>11</th>\n",
       "      <td>11</td>\n",
       "      <td>136.0</td>\n",
       "      <td>2179</td>\n",
       "      <td>6.2</td>\n",
       "    </tr>\n",
       "    <tr>\n",
       "      <th>12</th>\n",
       "      <td>12</td>\n",
       "      <td>115.0</td>\n",
       "      <td>1704</td>\n",
       "      <td>6.7</td>\n",
       "    </tr>\n",
       "    <tr>\n",
       "      <th>13</th>\n",
       "      <td>13</td>\n",
       "      <td>74.0</td>\n",
       "      <td>1372</td>\n",
       "      <td>5.4</td>\n",
       "    </tr>\n",
       "    <tr>\n",
       "      <th>14</th>\n",
       "      <td>14</td>\n",
       "      <td>50.0</td>\n",
       "      <td>1114</td>\n",
       "      <td>4.5</td>\n",
       "    </tr>\n",
       "    <tr>\n",
       "      <th>15</th>\n",
       "      <td>15</td>\n",
       "      <td>40.0</td>\n",
       "      <td>1068</td>\n",
       "      <td>3.7</td>\n",
       "    </tr>\n",
       "    <tr>\n",
       "      <th>16</th>\n",
       "      <td>16</td>\n",
       "      <td>46.0</td>\n",
       "      <td>992</td>\n",
       "      <td>4.6</td>\n",
       "    </tr>\n",
       "    <tr>\n",
       "      <th>17</th>\n",
       "      <td>17</td>\n",
       "      <td>28.0</td>\n",
       "      <td>860</td>\n",
       "      <td>3.3</td>\n",
       "    </tr>\n",
       "    <tr>\n",
       "      <th>18</th>\n",
       "      <td>18</td>\n",
       "      <td>26.0</td>\n",
       "      <td>736</td>\n",
       "      <td>3.5</td>\n",
       "    </tr>\n",
       "    <tr>\n",
       "      <th>19</th>\n",
       "      <td>19</td>\n",
       "      <td>26.0</td>\n",
       "      <td>612</td>\n",
       "      <td>4.2</td>\n",
       "    </tr>\n",
       "    <tr>\n",
       "      <th>20</th>\n",
       "      <td>20</td>\n",
       "      <td>19.0</td>\n",
       "      <td>434</td>\n",
       "      <td>4.4</td>\n",
       "    </tr>\n",
       "    <tr>\n",
       "      <th>21</th>\n",
       "      <td>21</td>\n",
       "      <td>15.0</td>\n",
       "      <td>308</td>\n",
       "      <td>4.9</td>\n",
       "    </tr>\n",
       "    <tr>\n",
       "      <th>22</th>\n",
       "      <td>22</td>\n",
       "      <td>3.0</td>\n",
       "      <td>218</td>\n",
       "      <td>1.4</td>\n",
       "    </tr>\n",
       "    <tr>\n",
       "      <th>23</th>\n",
       "      <td>23</td>\n",
       "      <td>5.0</td>\n",
       "      <td>121</td>\n",
       "      <td>4.1</td>\n",
       "    </tr>\n",
       "    <tr>\n",
       "      <th>24</th>\n",
       "      <td>24</td>\n",
       "      <td>5.0</td>\n",
       "      <td>73</td>\n",
       "      <td>6.8</td>\n",
       "    </tr>\n",
       "    <tr>\n",
       "      <th>25</th>\n",
       "      <td>25</td>\n",
       "      <td>1.0</td>\n",
       "      <td>34</td>\n",
       "      <td>2.9</td>\n",
       "    </tr>\n",
       "    <tr>\n",
       "      <th>26</th>\n",
       "      <td>26</td>\n",
       "      <td>0.0</td>\n",
       "      <td>11</td>\n",
       "      <td>0.0</td>\n",
       "    </tr>\n",
       "    <tr>\n",
       "      <th>27</th>\n",
       "      <td>27</td>\n",
       "      <td>0.0</td>\n",
       "      <td>9</td>\n",
       "      <td>0.0</td>\n",
       "    </tr>\n",
       "    <tr>\n",
       "      <th>28</th>\n",
       "      <td>28</td>\n",
       "      <td>0.0</td>\n",
       "      <td>3</td>\n",
       "      <td>0.0</td>\n",
       "    </tr>\n",
       "  </tbody>\n",
       "</table>\n",
       "</div>"
      ],
      "text/plain": [
       "    No of trades opened in last 12 months  count_prospect  noof_prospect  \\\n",
       "0                                       0           111.0           4956   \n",
       "1                                       1           178.0          11377   \n",
       "2                                       2           178.0           9323   \n",
       "3                                       3           198.0           4679   \n",
       "4                                       4           208.0           4850   \n",
       "5                                       5           233.0           4548   \n",
       "6                                       6           267.0           4207   \n",
       "7                                       7           268.0           4091   \n",
       "8                                       8           305.0           3799   \n",
       "9                                       9           214.0           3376   \n",
       "10                                     10           199.0           2816   \n",
       "11                                     11           136.0           2179   \n",
       "12                                     12           115.0           1704   \n",
       "13                                     13            74.0           1372   \n",
       "14                                     14            50.0           1114   \n",
       "15                                     15            40.0           1068   \n",
       "16                                     16            46.0            992   \n",
       "17                                     17            28.0            860   \n",
       "18                                     18            26.0            736   \n",
       "19                                     19            26.0            612   \n",
       "20                                     20            19.0            434   \n",
       "21                                     21            15.0            308   \n",
       "22                                     22             3.0            218   \n",
       "23                                     23             5.0            121   \n",
       "24                                     24             5.0             73   \n",
       "25                                     25             1.0             34   \n",
       "26                                     26             0.0             11   \n",
       "27                                     27             0.0              9   \n",
       "28                                     28             0.0              3   \n",
       "\n",
       "    default_rate  \n",
       "0            2.2  \n",
       "1            1.6  \n",
       "2            1.9  \n",
       "3            4.2  \n",
       "4            4.3  \n",
       "5            5.1  \n",
       "6            6.3  \n",
       "7            6.6  \n",
       "8            8.0  \n",
       "9            6.3  \n",
       "10           7.1  \n",
       "11           6.2  \n",
       "12           6.7  \n",
       "13           5.4  \n",
       "14           4.5  \n",
       "15           3.7  \n",
       "16           4.6  \n",
       "17           3.3  \n",
       "18           3.5  \n",
       "19           4.2  \n",
       "20           4.4  \n",
       "21           4.9  \n",
       "22           1.4  \n",
       "23           4.1  \n",
       "24           6.8  \n",
       "25           2.9  \n",
       "26           0.0  \n",
       "27           0.0  \n",
       "28           0.0  "
      ]
     },
     "execution_count": 282,
     "metadata": {},
     "output_type": "execute_result"
    }
   ],
   "source": [
    "agg_TRD12M"
   ]
  },
  {
   "cell_type": "code",
   "execution_count": 283,
   "metadata": {},
   "outputs": [
    {
     "data": {
      "image/png": "[encoded data removed]",
      "text/plain": [
       "<Figure size 432x288 with 1 Axes>"
      ]
     },
     "metadata": {
      "needs_background": "light"
     },
     "output_type": "display_data"
    }
   ],
   "source": [
    "bp = sns.barplot(x='No of trades opened in last 12 months', y='default_rate', data=agg_TRD12M)\n",
    "bp.set_xticklabels(bp.get_xticklabels(),rotation=90)\n",
    "plt.show()"
   ]
  },
  {
   "cell_type": "markdown",
   "metadata": {},
   "source": [
    "#### No of PL trades opened in last 6 months"
   ]
  },
  {
   "cell_type": "code",
   "execution_count": 284,
   "metadata": {},
   "outputs": [
    {
     "data": {
      "text/plain": [
       "0    31194\n",
       "1    13854\n",
       "2    13079\n",
       "3     8320\n",
       "4     3462\n",
       "5     1090\n",
       "6      296\n",
       "Name: No of PL trades opened in last 6 months, dtype: int64"
      ]
     },
     "execution_count": 284,
     "metadata": {},
     "output_type": "execute_result"
    }
   ],
   "source": [
    "credbur_df['No of PL trades opened in last 6 months'].value_counts(dropna=False)"
   ]
  },
  {
   "cell_type": "code",
   "execution_count": 285,
   "metadata": {},
   "outputs": [],
   "source": [
    "count_prospects_PLTRD6M = credbur_df.groupby('No of PL trades opened in last 6 months')['Performance Tag'].sum().reset_index(name = 'count_prospect')\n",
    "No_of_prospect_PLTRD6M = credbur_df.groupby('No of PL trades opened in last 6 months')['Performance Tag'].count().reset_index(name = 'noof_prospect')\n",
    "\n",
    "agg_PLTRD6M = count_prospects_PLTRD6M.merge(No_of_prospect_PLTRD6M, on = 'No of PL trades opened in last 6 months')\n",
    "agg_PLTRD6M['default_rate'] = 100*(agg_PLTRD6M['count_prospect']/agg_PLTRD6M['noof_prospect']).round(3)"
   ]
  },
  {
   "cell_type": "code",
   "execution_count": 286,
   "metadata": {
    "scrolled": false
   },
   "outputs": [
    {
     "data": {
      "text/html": [
       "<div>\n",
       "<style scoped>\n",
       "    .dataframe tbody tr th:only-of-type {\n",
       "        vertical-align: middle;\n",
       "    }\n",
       "\n",
       "    .dataframe tbody tr th {\n",
       "        vertical-align: top;\n",
       "    }\n",
       "\n",
       "    .dataframe thead th {\n",
       "        text-align: right;\n",
       "    }\n",
       "</style>\n",
       "<table border=\"1\" class=\"dataframe\">\n",
       "  <thead>\n",
       "    <tr style=\"text-align: right;\">\n",
       "      <th></th>\n",
       "      <th>No of PL trades opened in last 6 months</th>\n",
       "      <th>count_prospect</th>\n",
       "      <th>noof_prospect</th>\n",
       "      <th>default_rate</th>\n",
       "    </tr>\n",
       "  </thead>\n",
       "  <tbody>\n",
       "    <tr>\n",
       "      <th>0</th>\n",
       "      <td>0</td>\n",
       "      <td>699.0</td>\n",
       "      <td>31081</td>\n",
       "      <td>2.2</td>\n",
       "    </tr>\n",
       "    <tr>\n",
       "      <th>1</th>\n",
       "      <td>1</td>\n",
       "      <td>692.0</td>\n",
       "      <td>13548</td>\n",
       "      <td>5.1</td>\n",
       "    </tr>\n",
       "    <tr>\n",
       "      <th>2</th>\n",
       "      <td>2</td>\n",
       "      <td>803.0</td>\n",
       "      <td>12565</td>\n",
       "      <td>6.4</td>\n",
       "    </tr>\n",
       "    <tr>\n",
       "      <th>3</th>\n",
       "      <td>3</td>\n",
       "      <td>501.0</td>\n",
       "      <td>7949</td>\n",
       "      <td>6.3</td>\n",
       "    </tr>\n",
       "    <tr>\n",
       "      <th>4</th>\n",
       "      <td>4</td>\n",
       "      <td>197.0</td>\n",
       "      <td>3341</td>\n",
       "      <td>5.9</td>\n",
       "    </tr>\n",
       "    <tr>\n",
       "      <th>5</th>\n",
       "      <td>5</td>\n",
       "      <td>48.0</td>\n",
       "      <td>1090</td>\n",
       "      <td>4.4</td>\n",
       "    </tr>\n",
       "    <tr>\n",
       "      <th>6</th>\n",
       "      <td>6</td>\n",
       "      <td>8.0</td>\n",
       "      <td>296</td>\n",
       "      <td>2.7</td>\n",
       "    </tr>\n",
       "  </tbody>\n",
       "</table>\n",
       "</div>"
      ],
      "text/plain": [
       "   No of PL trades opened in last 6 months  count_prospect  noof_prospect  \\\n",
       "0                                        0           699.0          31081   \n",
       "1                                        1           692.0          13548   \n",
       "2                                        2           803.0          12565   \n",
       "3                                        3           501.0           7949   \n",
       "4                                        4           197.0           3341   \n",
       "5                                        5            48.0           1090   \n",
       "6                                        6             8.0            296   \n",
       "\n",
       "   default_rate  \n",
       "0           2.2  \n",
       "1           5.1  \n",
       "2           6.4  \n",
       "3           6.3  \n",
       "4           5.9  \n",
       "5           4.4  \n",
       "6           2.7  "
      ]
     },
     "execution_count": 286,
     "metadata": {},
     "output_type": "execute_result"
    }
   ],
   "source": [
    "agg_PLTRD6M"
   ]
  },
  {
   "cell_type": "code",
   "execution_count": 287,
   "metadata": {},
   "outputs": [
    {
     "data": {
      "image/png": "[encoded data removed]",
      "text/plain": [
       "<Figure size 432x288 with 1 Axes>"
      ]
     },
     "metadata": {
      "needs_background": "light"
     },
     "output_type": "display_data"
    }
   ],
   "source": [
    "bp = sns.barplot(x='No of PL trades opened in last 6 months', y='default_rate', data=agg_PLTRD6M)\n",
    "bp.set_xticklabels(bp.get_xticklabels(),rotation=90)\n",
    "plt.show()"
   ]
  },
  {
   "cell_type": "markdown",
   "metadata": {},
   "source": [
    "#### No of PL trades opened in last 12 months"
   ]
  },
  {
   "cell_type": "code",
   "execution_count": 288,
   "metadata": {
    "scrolled": true
   },
   "outputs": [
    {
     "data": {
      "text/plain": [
       "0     25829\n",
       "3      8433\n",
       "4      8273\n",
       "2      6982\n",
       "1      6693\n",
       "5      6485\n",
       "6      4206\n",
       "7      2284\n",
       "8      1178\n",
       "9       601\n",
       "10      255\n",
       "11       66\n",
       "12       10\n",
       "Name: No of PL trades opened in last 12 months, dtype: int64"
      ]
     },
     "execution_count": 288,
     "metadata": {},
     "output_type": "execute_result"
    }
   ],
   "source": [
    "credbur_df['No of PL trades opened in last 12 months'].value_counts(dropna=False)"
   ]
  },
  {
   "cell_type": "code",
   "execution_count": 289,
   "metadata": {},
   "outputs": [],
   "source": [
    "count_prospects_PLTRD12M = credbur_df.groupby('No of PL trades opened in last 12 months')['Performance Tag'].sum().reset_index(name = 'count_prospect')\n",
    "No_of_prospect_PLTRD12M = credbur_df.groupby('No of PL trades opened in last 12 months')['Performance Tag'].count().reset_index(name = 'noof_prospect')\n",
    "\n",
    "agg_PLTRD12M = count_prospects_PLTRD12M.merge(No_of_prospect_PLTRD12M, on = 'No of PL trades opened in last 12 months')\n",
    "agg_PLTRD12M['default_rate'] = 100*(agg_PLTRD12M['count_prospect']/agg_PLTRD12M['noof_prospect']).round(3)"
   ]
  },
  {
   "cell_type": "code",
   "execution_count": 290,
   "metadata": {},
   "outputs": [
    {
     "data": {
      "text/html": [
       "<div>\n",
       "<style scoped>\n",
       "    .dataframe tbody tr th:only-of-type {\n",
       "        vertical-align: middle;\n",
       "    }\n",
       "\n",
       "    .dataframe tbody tr th {\n",
       "        vertical-align: top;\n",
       "    }\n",
       "\n",
       "    .dataframe thead th {\n",
       "        text-align: right;\n",
       "    }\n",
       "</style>\n",
       "<table border=\"1\" class=\"dataframe\">\n",
       "  <thead>\n",
       "    <tr style=\"text-align: right;\">\n",
       "      <th></th>\n",
       "      <th>No of PL trades opened in last 12 months</th>\n",
       "      <th>count_prospect</th>\n",
       "      <th>noof_prospect</th>\n",
       "      <th>default_rate</th>\n",
       "    </tr>\n",
       "  </thead>\n",
       "  <tbody>\n",
       "    <tr>\n",
       "      <th>0</th>\n",
       "      <td>0</td>\n",
       "      <td>457.0</td>\n",
       "      <td>25825</td>\n",
       "      <td>1.8</td>\n",
       "    </tr>\n",
       "    <tr>\n",
       "      <th>1</th>\n",
       "      <td>1</td>\n",
       "      <td>247.0</td>\n",
       "      <td>6641</td>\n",
       "      <td>3.7</td>\n",
       "    </tr>\n",
       "    <tr>\n",
       "      <th>2</th>\n",
       "      <td>2</td>\n",
       "      <td>366.0</td>\n",
       "      <td>6830</td>\n",
       "      <td>5.4</td>\n",
       "    </tr>\n",
       "    <tr>\n",
       "      <th>3</th>\n",
       "      <td>3</td>\n",
       "      <td>508.0</td>\n",
       "      <td>8131</td>\n",
       "      <td>6.2</td>\n",
       "    </tr>\n",
       "    <tr>\n",
       "      <th>4</th>\n",
       "      <td>4</td>\n",
       "      <td>535.0</td>\n",
       "      <td>7904</td>\n",
       "      <td>6.8</td>\n",
       "    </tr>\n",
       "    <tr>\n",
       "      <th>5</th>\n",
       "      <td>5</td>\n",
       "      <td>391.0</td>\n",
       "      <td>6189</td>\n",
       "      <td>6.3</td>\n",
       "    </tr>\n",
       "    <tr>\n",
       "      <th>6</th>\n",
       "      <td>6</td>\n",
       "      <td>243.0</td>\n",
       "      <td>4023</td>\n",
       "      <td>6.0</td>\n",
       "    </tr>\n",
       "    <tr>\n",
       "      <th>7</th>\n",
       "      <td>7</td>\n",
       "      <td>109.0</td>\n",
       "      <td>2223</td>\n",
       "      <td>4.9</td>\n",
       "    </tr>\n",
       "    <tr>\n",
       "      <th>8</th>\n",
       "      <td>8</td>\n",
       "      <td>50.0</td>\n",
       "      <td>1172</td>\n",
       "      <td>4.3</td>\n",
       "    </tr>\n",
       "    <tr>\n",
       "      <th>9</th>\n",
       "      <td>9</td>\n",
       "      <td>28.0</td>\n",
       "      <td>601</td>\n",
       "      <td>4.7</td>\n",
       "    </tr>\n",
       "    <tr>\n",
       "      <th>10</th>\n",
       "      <td>10</td>\n",
       "      <td>10.0</td>\n",
       "      <td>255</td>\n",
       "      <td>3.9</td>\n",
       "    </tr>\n",
       "    <tr>\n",
       "      <th>11</th>\n",
       "      <td>11</td>\n",
       "      <td>3.0</td>\n",
       "      <td>66</td>\n",
       "      <td>4.5</td>\n",
       "    </tr>\n",
       "    <tr>\n",
       "      <th>12</th>\n",
       "      <td>12</td>\n",
       "      <td>1.0</td>\n",
       "      <td>10</td>\n",
       "      <td>10.0</td>\n",
       "    </tr>\n",
       "  </tbody>\n",
       "</table>\n",
       "</div>"
      ],
      "text/plain": [
       "    No of PL trades opened in last 12 months  count_prospect  noof_prospect  \\\n",
       "0                                          0           457.0          25825   \n",
       "1                                          1           247.0           6641   \n",
       "2                                          2           366.0           6830   \n",
       "3                                          3           508.0           8131   \n",
       "4                                          4           535.0           7904   \n",
       "5                                          5           391.0           6189   \n",
       "6                                          6           243.0           4023   \n",
       "7                                          7           109.0           2223   \n",
       "8                                          8            50.0           1172   \n",
       "9                                          9            28.0            601   \n",
       "10                                        10            10.0            255   \n",
       "11                                        11             3.0             66   \n",
       "12                                        12             1.0             10   \n",
       "\n",
       "    default_rate  \n",
       "0            1.8  \n",
       "1            3.7  \n",
       "2            5.4  \n",
       "3            6.2  \n",
       "4            6.8  \n",
       "5            6.3  \n",
       "6            6.0  \n",
       "7            4.9  \n",
       "8            4.3  \n",
       "9            4.7  \n",
       "10           3.9  \n",
       "11           4.5  \n",
       "12          10.0  "
      ]
     },
     "execution_count": 290,
     "metadata": {},
     "output_type": "execute_result"
    }
   ],
   "source": [
    "agg_PLTRD12M"
   ]
  },
  {
   "cell_type": "code",
   "execution_count": 291,
   "metadata": {},
   "outputs": [
    {
     "data": {
      "image/png": "[encoded data removed]",
      "text/plain": [
       "<Figure size 432x288 with 1 Axes>"
      ]
     },
     "metadata": {
      "needs_background": "light"
     },
     "output_type": "display_data"
    }
   ],
   "source": [
    "bp = sns.barplot(x='No of PL trades opened in last 12 months', y='default_rate', data=agg_PLTRD12M)\n",
    "bp.set_xticklabels(bp.get_xticklabels(),rotation=90)\n",
    "plt.show()"
   ]
  },
  {
   "cell_type": "markdown",
   "metadata": {},
   "source": [
    "Therefore, customers who have done `12` PL trades in last 1 year are extremely likely to default.\n",
    "\n",
    "#### No of Inquiries in last 6 months (excluding home & auto loans)"
   ]
  },
  {
   "cell_type": "code",
   "execution_count": 292,
   "metadata": {},
   "outputs": [
    {
     "data": {
      "text/plain": [
       "0     25176\n",
       "1     13513\n",
       "2     13350\n",
       "3      7585\n",
       "4      4385\n",
       "5      3019\n",
       "6      1750\n",
       "7      1149\n",
       "8       835\n",
       "9       425\n",
       "10      108\n",
       "Name: No of Inquiries in last 6 months (excluding home & auto loans), dtype: int64"
      ]
     },
     "execution_count": 292,
     "metadata": {},
     "output_type": "execute_result"
    }
   ],
   "source": [
    "credbur_df['No of Inquiries in last 6 months (excluding home & auto loans)'].value_counts(dropna=False)"
   ]
  },
  {
   "cell_type": "code",
   "execution_count": 293,
   "metadata": {},
   "outputs": [
    {
     "data": {
      "image/png": "[encoded data removed]",
      "text/plain": [
       "<Figure size 432x288 with 1 Axes>"
      ]
     },
     "metadata": {
      "needs_background": "light"
     },
     "output_type": "display_data"
    }
   ],
   "source": [
    "sns.boxplot(x='No of Inquiries in last 6 months (excluding home & auto loans)', data=credbur_df)\n",
    "plt.show()"
   ]
  },
  {
   "cell_type": "code",
   "execution_count": 294,
   "metadata": {},
   "outputs": [],
   "source": [
    "count_prospects_INQ6M = credbur_df.groupby('No of Inquiries in last 6 months (excluding home & auto loans)')['Performance Tag'].sum().reset_index(name = 'count_prospect')\n",
    "No_of_prospect_INQ6M = credbur_df.groupby('No of Inquiries in last 6 months (excluding home & auto loans)')['Performance Tag'].count().reset_index(name = 'noof_prospect')\n",
    "\n",
    "agg_INQ6M = count_prospects_INQ6M.merge(No_of_prospect_INQ6M, on = 'No of Inquiries in last 6 months (excluding home & auto loans)')\n",
    "agg_INQ6M['default_rate'] = 100*(agg_INQ6M['count_prospect']/agg_INQ6M['noof_prospect']).round(3)"
   ]
  },
  {
   "cell_type": "code",
   "execution_count": 295,
   "metadata": {},
   "outputs": [
    {
     "data": {
      "text/html": [
       "<div>\n",
       "<style scoped>\n",
       "    .dataframe tbody tr th:only-of-type {\n",
       "        vertical-align: middle;\n",
       "    }\n",
       "\n",
       "    .dataframe tbody tr th {\n",
       "        vertical-align: top;\n",
       "    }\n",
       "\n",
       "    .dataframe thead th {\n",
       "        text-align: right;\n",
       "    }\n",
       "</style>\n",
       "<table border=\"1\" class=\"dataframe\">\n",
       "  <thead>\n",
       "    <tr style=\"text-align: right;\">\n",
       "      <th></th>\n",
       "      <th>No of Inquiries in last 6 months (excluding home &amp; auto loans)</th>\n",
       "      <th>count_prospect</th>\n",
       "      <th>noof_prospect</th>\n",
       "      <th>default_rate</th>\n",
       "    </tr>\n",
       "  </thead>\n",
       "  <tbody>\n",
       "    <tr>\n",
       "      <th>0</th>\n",
       "      <td>0</td>\n",
       "      <td>527.0</td>\n",
       "      <td>25069</td>\n",
       "      <td>2.1</td>\n",
       "    </tr>\n",
       "    <tr>\n",
       "      <th>1</th>\n",
       "      <td>1</td>\n",
       "      <td>659.0</td>\n",
       "      <td>13177</td>\n",
       "      <td>5.0</td>\n",
       "    </tr>\n",
       "    <tr>\n",
       "      <th>2</th>\n",
       "      <td>2</td>\n",
       "      <td>665.0</td>\n",
       "      <td>12832</td>\n",
       "      <td>5.2</td>\n",
       "    </tr>\n",
       "    <tr>\n",
       "      <th>3</th>\n",
       "      <td>3</td>\n",
       "      <td>517.0</td>\n",
       "      <td>7258</td>\n",
       "      <td>7.1</td>\n",
       "    </tr>\n",
       "    <tr>\n",
       "      <th>4</th>\n",
       "      <td>4</td>\n",
       "      <td>269.0</td>\n",
       "      <td>4248</td>\n",
       "      <td>6.3</td>\n",
       "    </tr>\n",
       "    <tr>\n",
       "      <th>5</th>\n",
       "      <td>5</td>\n",
       "      <td>150.0</td>\n",
       "      <td>3019</td>\n",
       "      <td>5.0</td>\n",
       "    </tr>\n",
       "    <tr>\n",
       "      <th>6</th>\n",
       "      <td>6</td>\n",
       "      <td>73.0</td>\n",
       "      <td>1750</td>\n",
       "      <td>4.2</td>\n",
       "    </tr>\n",
       "    <tr>\n",
       "      <th>7</th>\n",
       "      <td>7</td>\n",
       "      <td>40.0</td>\n",
       "      <td>1149</td>\n",
       "      <td>3.5</td>\n",
       "    </tr>\n",
       "    <tr>\n",
       "      <th>8</th>\n",
       "      <td>8</td>\n",
       "      <td>33.0</td>\n",
       "      <td>835</td>\n",
       "      <td>4.0</td>\n",
       "    </tr>\n",
       "    <tr>\n",
       "      <th>9</th>\n",
       "      <td>9</td>\n",
       "      <td>13.0</td>\n",
       "      <td>425</td>\n",
       "      <td>3.1</td>\n",
       "    </tr>\n",
       "    <tr>\n",
       "      <th>10</th>\n",
       "      <td>10</td>\n",
       "      <td>2.0</td>\n",
       "      <td>108</td>\n",
       "      <td>1.9</td>\n",
       "    </tr>\n",
       "  </tbody>\n",
       "</table>\n",
       "</div>"
      ],
      "text/plain": [
       "    No of Inquiries in last 6 months (excluding home & auto loans)  \\\n",
       "0                                                   0                \n",
       "1                                                   1                \n",
       "2                                                   2                \n",
       "3                                                   3                \n",
       "4                                                   4                \n",
       "5                                                   5                \n",
       "6                                                   6                \n",
       "7                                                   7                \n",
       "8                                                   8                \n",
       "9                                                   9                \n",
       "10                                                 10                \n",
       "\n",
       "    count_prospect  noof_prospect  default_rate  \n",
       "0            527.0          25069           2.1  \n",
       "1            659.0          13177           5.0  \n",
       "2            665.0          12832           5.2  \n",
       "3            517.0           7258           7.1  \n",
       "4            269.0           4248           6.3  \n",
       "5            150.0           3019           5.0  \n",
       "6             73.0           1750           4.2  \n",
       "7             40.0           1149           3.5  \n",
       "8             33.0            835           4.0  \n",
       "9             13.0            425           3.1  \n",
       "10             2.0            108           1.9  "
      ]
     },
     "execution_count": 295,
     "metadata": {},
     "output_type": "execute_result"
    }
   ],
   "source": [
    "agg_INQ6M"
   ]
  },
  {
   "cell_type": "code",
   "execution_count": 296,
   "metadata": {},
   "outputs": [
    {
     "data": {
      "image/png": "[encoded data removed]",
      "text/plain": [
       "<Figure size 432x288 with 1 Axes>"
      ]
     },
     "metadata": {
      "needs_background": "light"
     },
     "output_type": "display_data"
    }
   ],
   "source": [
    "bp = sns.barplot(x='No of Inquiries in last 6 months (excluding home & auto loans)', y='default_rate', data=agg_INQ6M)\n",
    "bp.set_xticklabels(bp.get_xticklabels(),rotation=90)\n",
    "plt.show()"
   ]
  },
  {
   "cell_type": "markdown",
   "metadata": {},
   "source": [
    "#### No of Inquiries in last 12 months (excluding home & auto loans)"
   ]
  },
  {
   "cell_type": "code",
   "execution_count": 297,
   "metadata": {
    "scrolled": true
   },
   "outputs": [
    {
     "data": {
      "text/plain": [
       "0     20593\n",
       "3      9283\n",
       "2      8075\n",
       "4      7491\n",
       "5      5234\n",
       "1      3932\n",
       "6      3767\n",
       "7      3054\n",
       "8      2355\n",
       "9      1777\n",
       "10     1508\n",
       "11     1231\n",
       "12      936\n",
       "13      789\n",
       "14      553\n",
       "15      360\n",
       "16      212\n",
       "17       97\n",
       "18       40\n",
       "19        6\n",
       "20        2\n",
       "Name: No of Inquiries in last 12 months (excluding home & auto loans), dtype: int64"
      ]
     },
     "execution_count": 297,
     "metadata": {},
     "output_type": "execute_result"
    }
   ],
   "source": [
    "credbur_df['No of Inquiries in last 12 months (excluding home & auto loans)'].value_counts(dropna=False)"
   ]
  },
  {
   "cell_type": "code",
   "execution_count": 298,
   "metadata": {},
   "outputs": [
    {
     "data": {
      "image/png": "[encoded data removed]",
      "text/plain": [
       "<Figure size 432x288 with 1 Axes>"
      ]
     },
     "metadata": {
      "needs_background": "light"
     },
     "output_type": "display_data"
    }
   ],
   "source": [
    "sns.boxplot(x='No of Inquiries in last 12 months (excluding home & auto loans)', data=credbur_df)\n",
    "plt.show()"
   ]
  },
  {
   "cell_type": "code",
   "execution_count": 299,
   "metadata": {},
   "outputs": [],
   "source": [
    "count_prospects_INQ12M = credbur_df.groupby('No of Inquiries in last 12 months (excluding home & auto loans)')['Performance Tag'].sum().reset_index(name = 'count_prospect')\n",
    "No_of_prospect_INQ12M = credbur_df.groupby('No of Inquiries in last 12 months (excluding home & auto loans)')['Performance Tag'].count().reset_index(name = 'noof_prospect')\n",
    "\n",
    "agg_INQ12M = count_prospects_INQ12M.merge(No_of_prospect_INQ12M, on = 'No of Inquiries in last 12 months (excluding home & auto loans)')\n",
    "agg_INQ12M['default_rate'] = 100*(agg_INQ12M['count_prospect']/agg_INQ12M['noof_prospect']).round(3)"
   ]
  },
  {
   "cell_type": "code",
   "execution_count": 300,
   "metadata": {
    "scrolled": true
   },
   "outputs": [
    {
     "data": {
      "text/html": [
       "<div>\n",
       "<style scoped>\n",
       "    .dataframe tbody tr th:only-of-type {\n",
       "        vertical-align: middle;\n",
       "    }\n",
       "\n",
       "    .dataframe tbody tr th {\n",
       "        vertical-align: top;\n",
       "    }\n",
       "\n",
       "    .dataframe thead th {\n",
       "        text-align: right;\n",
       "    }\n",
       "</style>\n",
       "<table border=\"1\" class=\"dataframe\">\n",
       "  <thead>\n",
       "    <tr style=\"text-align: right;\">\n",
       "      <th></th>\n",
       "      <th>No of Inquiries in last 12 months (excluding home &amp; auto loans)</th>\n",
       "      <th>count_prospect</th>\n",
       "      <th>noof_prospect</th>\n",
       "      <th>default_rate</th>\n",
       "    </tr>\n",
       "  </thead>\n",
       "  <tbody>\n",
       "    <tr>\n",
       "      <th>0</th>\n",
       "      <td>0</td>\n",
       "      <td>307.0</td>\n",
       "      <td>20581</td>\n",
       "      <td>1.5</td>\n",
       "    </tr>\n",
       "    <tr>\n",
       "      <th>1</th>\n",
       "      <td>1</td>\n",
       "      <td>155.0</td>\n",
       "      <td>3899</td>\n",
       "      <td>4.0</td>\n",
       "    </tr>\n",
       "    <tr>\n",
       "      <th>2</th>\n",
       "      <td>2</td>\n",
       "      <td>382.0</td>\n",
       "      <td>7907</td>\n",
       "      <td>4.8</td>\n",
       "    </tr>\n",
       "    <tr>\n",
       "      <th>3</th>\n",
       "      <td>3</td>\n",
       "      <td>444.0</td>\n",
       "      <td>8980</td>\n",
       "      <td>4.9</td>\n",
       "    </tr>\n",
       "    <tr>\n",
       "      <th>4</th>\n",
       "      <td>4</td>\n",
       "      <td>380.0</td>\n",
       "      <td>7113</td>\n",
       "      <td>5.3</td>\n",
       "    </tr>\n",
       "    <tr>\n",
       "      <th>5</th>\n",
       "      <td>5</td>\n",
       "      <td>362.0</td>\n",
       "      <td>4927</td>\n",
       "      <td>7.3</td>\n",
       "    </tr>\n",
       "    <tr>\n",
       "      <th>6</th>\n",
       "      <td>6</td>\n",
       "      <td>247.0</td>\n",
       "      <td>3615</td>\n",
       "      <td>6.8</td>\n",
       "    </tr>\n",
       "    <tr>\n",
       "      <th>7</th>\n",
       "      <td>7</td>\n",
       "      <td>209.0</td>\n",
       "      <td>2992</td>\n",
       "      <td>7.0</td>\n",
       "    </tr>\n",
       "    <tr>\n",
       "      <th>8</th>\n",
       "      <td>8</td>\n",
       "      <td>141.0</td>\n",
       "      <td>2345</td>\n",
       "      <td>6.0</td>\n",
       "    </tr>\n",
       "    <tr>\n",
       "      <th>9</th>\n",
       "      <td>9</td>\n",
       "      <td>71.0</td>\n",
       "      <td>1777</td>\n",
       "      <td>4.0</td>\n",
       "    </tr>\n",
       "    <tr>\n",
       "      <th>10</th>\n",
       "      <td>10</td>\n",
       "      <td>84.0</td>\n",
       "      <td>1508</td>\n",
       "      <td>5.6</td>\n",
       "    </tr>\n",
       "    <tr>\n",
       "      <th>11</th>\n",
       "      <td>11</td>\n",
       "      <td>53.0</td>\n",
       "      <td>1231</td>\n",
       "      <td>4.3</td>\n",
       "    </tr>\n",
       "    <tr>\n",
       "      <th>12</th>\n",
       "      <td>12</td>\n",
       "      <td>40.0</td>\n",
       "      <td>936</td>\n",
       "      <td>4.3</td>\n",
       "    </tr>\n",
       "    <tr>\n",
       "      <th>13</th>\n",
       "      <td>13</td>\n",
       "      <td>26.0</td>\n",
       "      <td>789</td>\n",
       "      <td>3.3</td>\n",
       "    </tr>\n",
       "    <tr>\n",
       "      <th>14</th>\n",
       "      <td>14</td>\n",
       "      <td>23.0</td>\n",
       "      <td>553</td>\n",
       "      <td>4.2</td>\n",
       "    </tr>\n",
       "    <tr>\n",
       "      <th>15</th>\n",
       "      <td>15</td>\n",
       "      <td>12.0</td>\n",
       "      <td>360</td>\n",
       "      <td>3.3</td>\n",
       "    </tr>\n",
       "    <tr>\n",
       "      <th>16</th>\n",
       "      <td>16</td>\n",
       "      <td>6.0</td>\n",
       "      <td>212</td>\n",
       "      <td>2.8</td>\n",
       "    </tr>\n",
       "    <tr>\n",
       "      <th>17</th>\n",
       "      <td>17</td>\n",
       "      <td>6.0</td>\n",
       "      <td>97</td>\n",
       "      <td>6.2</td>\n",
       "    </tr>\n",
       "    <tr>\n",
       "      <th>18</th>\n",
       "      <td>18</td>\n",
       "      <td>0.0</td>\n",
       "      <td>40</td>\n",
       "      <td>0.0</td>\n",
       "    </tr>\n",
       "    <tr>\n",
       "      <th>19</th>\n",
       "      <td>19</td>\n",
       "      <td>0.0</td>\n",
       "      <td>6</td>\n",
       "      <td>0.0</td>\n",
       "    </tr>\n",
       "    <tr>\n",
       "      <th>20</th>\n",
       "      <td>20</td>\n",
       "      <td>0.0</td>\n",
       "      <td>2</td>\n",
       "      <td>0.0</td>\n",
       "    </tr>\n",
       "  </tbody>\n",
       "</table>\n",
       "</div>"
      ],
      "text/plain": [
       "    No of Inquiries in last 12 months (excluding home & auto loans)  \\\n",
       "0                                                   0                 \n",
       "1                                                   1                 \n",
       "2                                                   2                 \n",
       "3                                                   3                 \n",
       "4                                                   4                 \n",
       "5                                                   5                 \n",
       "6                                                   6                 \n",
       "7                                                   7                 \n",
       "8                                                   8                 \n",
       "9                                                   9                 \n",
       "10                                                 10                 \n",
       "11                                                 11                 \n",
       "12                                                 12                 \n",
       "13                                                 13                 \n",
       "14                                                 14                 \n",
       "15                                                 15                 \n",
       "16                                                 16                 \n",
       "17                                                 17                 \n",
       "18                                                 18                 \n",
       "19                                                 19                 \n",
       "20                                                 20                 \n",
       "\n",
       "    count_prospect  noof_prospect  default_rate  \n",
       "0            307.0          20581           1.5  \n",
       "1            155.0           3899           4.0  \n",
       "2            382.0           7907           4.8  \n",
       "3            444.0           8980           4.9  \n",
       "4            380.0           7113           5.3  \n",
       "5            362.0           4927           7.3  \n",
       "6            247.0           3615           6.8  \n",
       "7            209.0           2992           7.0  \n",
       "8            141.0           2345           6.0  \n",
       "9             71.0           1777           4.0  \n",
       "10            84.0           1508           5.6  \n",
       "11            53.0           1231           4.3  \n",
       "12            40.0            936           4.3  \n",
       "13            26.0            789           3.3  \n",
       "14            23.0            553           4.2  \n",
       "15            12.0            360           3.3  \n",
       "16             6.0            212           2.8  \n",
       "17             6.0             97           6.2  \n",
       "18             0.0             40           0.0  \n",
       "19             0.0              6           0.0  \n",
       "20             0.0              2           0.0  "
      ]
     },
     "execution_count": 300,
     "metadata": {},
     "output_type": "execute_result"
    }
   ],
   "source": [
    "agg_INQ12M"
   ]
  },
  {
   "cell_type": "code",
   "execution_count": 301,
   "metadata": {},
   "outputs": [
    {
     "data": {
      "image/png": "[encoded data removed]",
      "text/plain": [
       "<Figure size 432x288 with 1 Axes>"
      ]
     },
     "metadata": {
      "needs_background": "light"
     },
     "output_type": "display_data"
    }
   ],
   "source": [
    "bp = sns.barplot(x='No of Inquiries in last 12 months (excluding home & auto loans)', y='default_rate', data=agg_INQ12M)\n",
    "bp.set_xticklabels(bp.get_xticklabels(),rotation=90)\n",
    "plt.show()"
   ]
  },
  {
   "cell_type": "markdown",
   "metadata": {},
   "source": [
    "#### Presence of open home loan"
   ]
  },
  {
   "cell_type": "code",
   "execution_count": 302,
   "metadata": {},
   "outputs": [
    {
     "data": {
      "text/plain": [
       " 0.0    52811\n",
       " 1.0    18212\n",
       "NaN       272\n",
       "Name: Presence of open home loan, dtype: int64"
      ]
     },
     "execution_count": 302,
     "metadata": {},
     "output_type": "execute_result"
    }
   ],
   "source": [
    "credbur_df['Presence of open home loan'].value_counts(dropna=False)"
   ]
  },
  {
   "cell_type": "code",
   "execution_count": 303,
   "metadata": {},
   "outputs": [],
   "source": [
    "count_prospects_HL = credbur_df.groupby('Presence of open home loan')['Performance Tag'].sum().reset_index(name = 'count_prospect')\n",
    "No_of_prospect_HL = credbur_df.groupby('Presence of open home loan')['Performance Tag'].count().reset_index(name = 'noof_prospect')\n",
    "\n",
    "agg_HL = count_prospects_HL.merge(No_of_prospect_HL, on = 'Presence of open home loan')\n",
    "agg_HL['default_rate'] = 100*(agg_HL['count_prospect']/agg_HL['noof_prospect']).round(3)"
   ]
  },
  {
   "cell_type": "code",
   "execution_count": 304,
   "metadata": {
    "scrolled": true
   },
   "outputs": [
    {
     "data": {
      "text/html": [
       "<div>\n",
       "<style scoped>\n",
       "    .dataframe tbody tr th:only-of-type {\n",
       "        vertical-align: middle;\n",
       "    }\n",
       "\n",
       "    .dataframe tbody tr th {\n",
       "        vertical-align: top;\n",
       "    }\n",
       "\n",
       "    .dataframe thead th {\n",
       "        text-align: right;\n",
       "    }\n",
       "</style>\n",
       "<table border=\"1\" class=\"dataframe\">\n",
       "  <thead>\n",
       "    <tr style=\"text-align: right;\">\n",
       "      <th></th>\n",
       "      <th>Presence of open home loan</th>\n",
       "      <th>count_prospect</th>\n",
       "      <th>noof_prospect</th>\n",
       "      <th>default_rate</th>\n",
       "    </tr>\n",
       "  </thead>\n",
       "  <tbody>\n",
       "    <tr>\n",
       "      <th>0</th>\n",
       "      <td>0.0</td>\n",
       "      <td>2333.0</td>\n",
       "      <td>51527</td>\n",
       "      <td>4.5</td>\n",
       "    </tr>\n",
       "    <tr>\n",
       "      <th>1</th>\n",
       "      <td>1.0</td>\n",
       "      <td>607.0</td>\n",
       "      <td>18071</td>\n",
       "      <td>3.4</td>\n",
       "    </tr>\n",
       "  </tbody>\n",
       "</table>\n",
       "</div>"
      ],
      "text/plain": [
       "   Presence of open home loan  count_prospect  noof_prospect  default_rate\n",
       "0                         0.0          2333.0          51527           4.5\n",
       "1                         1.0           607.0          18071           3.4"
      ]
     },
     "execution_count": 304,
     "metadata": {},
     "output_type": "execute_result"
    }
   ],
   "source": [
    "agg_HL"
   ]
  },
  {
   "cell_type": "code",
   "execution_count": 305,
   "metadata": {
    "scrolled": true
   },
   "outputs": [
    {
     "data": {
      "image/png": "[encoded data removed]",
      "text/plain": [
       "<Figure size 432x288 with 1 Axes>"
      ]
     },
     "metadata": {
      "needs_background": "light"
     },
     "output_type": "display_data"
    }
   ],
   "source": [
    "bp = sns.barplot(x='Presence of open home loan', y='default_rate', data=agg_HL)\n",
    "bp.set_xticklabels(bp.get_xticklabels(),rotation=90)\n",
    "plt.show()"
   ]
  },
  {
   "cell_type": "markdown",
   "metadata": {},
   "source": [
    "#### Outstanding Balance"
   ]
  },
  {
   "cell_type": "code",
   "execution_count": 306,
   "metadata": {},
   "outputs": [
    {
     "data": {
      "image/png": "[encoded data removed]",
      "text/plain": [
       "<Figure size 432x288 with 1 Axes>"
      ]
     },
     "metadata": {
      "needs_background": "light"
     },
     "output_type": "display_data"
    }
   ],
   "source": [
    "sns.boxplot(x='Outstanding Balance', data=credbur_df)\n",
    "plt.show()"
   ]
  },
  {
   "cell_type": "code",
   "execution_count": 307,
   "metadata": {},
   "outputs": [],
   "source": [
    "# bucketing the data based on the outstanding balance on the customer to study the default rate\n",
    "bins = np.arange(0,credbur_df['Outstanding Balance'].max() + 100000, 500000) \n",
    "credbur_df['Obal_bin'] = pd.cut(credbur_df['Outstanding Balance'], bins, include_lowest=True)"
   ]
  },
  {
   "cell_type": "code",
   "execution_count": 308,
   "metadata": {},
   "outputs": [],
   "source": [
    "No_of_prospect_obal = credbur_df.groupby('Obal_bin')['Performance Tag'].count().reset_index(name = 'noof_prospect')\n",
    "count_prospects_obal = credbur_df[demog_df['Performance Tag']==1].groupby('Obal_bin')['Performance Tag'].count().reset_index(name = 'count_prospect')\n",
    "\n",
    "agg_obal = No_of_prospect_obal.merge(count_prospects_obal, on='Obal_bin')\n",
    "agg_obal['default_rate'] = 100*(agg_obal['count_prospect']/agg_obal['noof_prospect']).round(3)"
   ]
  },
  {
   "cell_type": "code",
   "execution_count": 309,
   "metadata": {
    "scrolled": true
   },
   "outputs": [
    {
     "data": {
      "text/html": [
       "<div>\n",
       "<style scoped>\n",
       "    .dataframe tbody tr th:only-of-type {\n",
       "        vertical-align: middle;\n",
       "    }\n",
       "\n",
       "    .dataframe tbody tr th {\n",
       "        vertical-align: top;\n",
       "    }\n",
       "\n",
       "    .dataframe thead th {\n",
       "        text-align: right;\n",
       "    }\n",
       "</style>\n",
       "<table border=\"1\" class=\"dataframe\">\n",
       "  <thead>\n",
       "    <tr style=\"text-align: right;\">\n",
       "      <th></th>\n",
       "      <th>Obal_bin</th>\n",
       "      <th>noof_prospect</th>\n",
       "      <th>count_prospect</th>\n",
       "      <th>default_rate</th>\n",
       "    </tr>\n",
       "  </thead>\n",
       "  <tbody>\n",
       "    <tr>\n",
       "      <th>0</th>\n",
       "      <td>(-0.001, 500000.0]</td>\n",
       "      <td>25172</td>\n",
       "      <td>748</td>\n",
       "      <td>3.0</td>\n",
       "    </tr>\n",
       "    <tr>\n",
       "      <th>1</th>\n",
       "      <td>(500000.0, 1000000.0]</td>\n",
       "      <td>18064</td>\n",
       "      <td>1104</td>\n",
       "      <td>6.1</td>\n",
       "    </tr>\n",
       "    <tr>\n",
       "      <th>2</th>\n",
       "      <td>(1000000.0, 1500000.0]</td>\n",
       "      <td>6533</td>\n",
       "      <td>409</td>\n",
       "      <td>6.3</td>\n",
       "    </tr>\n",
       "    <tr>\n",
       "      <th>3</th>\n",
       "      <td>(1500000.0, 2000000.0]</td>\n",
       "      <td>1664</td>\n",
       "      <td>69</td>\n",
       "      <td>4.1</td>\n",
       "    </tr>\n",
       "    <tr>\n",
       "      <th>4</th>\n",
       "      <td>(2000000.0, 2500000.0]</td>\n",
       "      <td>93</td>\n",
       "      <td>3</td>\n",
       "      <td>3.2</td>\n",
       "    </tr>\n",
       "    <tr>\n",
       "      <th>5</th>\n",
       "      <td>(2500000.0, 3000000.0]</td>\n",
       "      <td>8207</td>\n",
       "      <td>130</td>\n",
       "      <td>1.6</td>\n",
       "    </tr>\n",
       "    <tr>\n",
       "      <th>6</th>\n",
       "      <td>(3000000.0, 3500000.0]</td>\n",
       "      <td>5180</td>\n",
       "      <td>208</td>\n",
       "      <td>4.0</td>\n",
       "    </tr>\n",
       "    <tr>\n",
       "      <th>7</th>\n",
       "      <td>(3500000.0, 4000000.0]</td>\n",
       "      <td>3199</td>\n",
       "      <td>200</td>\n",
       "      <td>6.3</td>\n",
       "    </tr>\n",
       "    <tr>\n",
       "      <th>8</th>\n",
       "      <td>(4000000.0, 4500000.0]</td>\n",
       "      <td>1261</td>\n",
       "      <td>53</td>\n",
       "      <td>4.2</td>\n",
       "    </tr>\n",
       "    <tr>\n",
       "      <th>9</th>\n",
       "      <td>(4500000.0, 5000000.0]</td>\n",
       "      <td>213</td>\n",
       "      <td>14</td>\n",
       "      <td>6.6</td>\n",
       "    </tr>\n",
       "  </tbody>\n",
       "</table>\n",
       "</div>"
      ],
      "text/plain": [
       "                 Obal_bin  noof_prospect  count_prospect  default_rate\n",
       "0      (-0.001, 500000.0]          25172             748           3.0\n",
       "1   (500000.0, 1000000.0]          18064            1104           6.1\n",
       "2  (1000000.0, 1500000.0]           6533             409           6.3\n",
       "3  (1500000.0, 2000000.0]           1664              69           4.1\n",
       "4  (2000000.0, 2500000.0]             93               3           3.2\n",
       "5  (2500000.0, 3000000.0]           8207             130           1.6\n",
       "6  (3000000.0, 3500000.0]           5180             208           4.0\n",
       "7  (3500000.0, 4000000.0]           3199             200           6.3\n",
       "8  (4000000.0, 4500000.0]           1261              53           4.2\n",
       "9  (4500000.0, 5000000.0]            213              14           6.6"
      ]
     },
     "execution_count": 309,
     "metadata": {},
     "output_type": "execute_result"
    }
   ],
   "source": [
    "agg_obal"
   ]
  },
  {
   "cell_type": "code",
   "execution_count": 310,
   "metadata": {},
   "outputs": [
    {
     "data": {
      "image/png": "[encoded data removed]",
      "text/plain": [
       "<Figure size 432x288 with 1 Axes>"
      ]
     },
     "metadata": {
      "needs_background": "light"
     },
     "output_type": "display_data"
    }
   ],
   "source": [
    "bp = sns.barplot(x='Obal_bin', y='default_rate', data=agg_obal)\n",
    "bp.set_xticklabels(bp.get_xticklabels(),rotation=90)\n",
    "plt.show()"
   ]
  },
  {
   "cell_type": "markdown",
   "metadata": {},
   "source": [
    "#### Total No of Trades"
   ]
  },
  {
   "cell_type": "code",
   "execution_count": 311,
   "metadata": {},
   "outputs": [
    {
     "data": {
      "image/png": "[encoded data removed]",
      "text/plain": [
       "<Figure size 432x288 with 1 Axes>"
      ]
     },
     "metadata": {
      "needs_background": "light"
     },
     "output_type": "display_data"
    }
   ],
   "source": [
    "sns.boxplot(x='Total No of Trades', data=credbur_df)\n",
    "plt.show()"
   ]
  },
  {
   "cell_type": "code",
   "execution_count": 312,
   "metadata": {},
   "outputs": [],
   "source": [
    "# let's club all the datapoints with Total no of trades >20 as 21, since having more than 20 trades should not change the impact\n",
    "credbur_df['Total No of Trades'][credbur_df['Total No of Trades']>20] = 21"
   ]
  },
  {
   "cell_type": "code",
   "execution_count": 313,
   "metadata": {},
   "outputs": [
    {
     "data": {
      "image/png": "[encoded data removed]",
      "text/plain": [
       "<Figure size 432x288 with 1 Axes>"
      ]
     },
     "metadata": {
      "needs_background": "light"
     },
     "output_type": "display_data"
    }
   ],
   "source": [
    "sns.boxplot(x='Total No of Trades', data=credbur_df)\n",
    "plt.show()"
   ]
  },
  {
   "cell_type": "code",
   "execution_count": 314,
   "metadata": {},
   "outputs": [],
   "source": [
    "# bucketing the data based on the outstanding balance on the customer to study the default rate\n",
    "bins = np.arange(0,credbur_df['Total No of Trades'].max() + 5, 5) \n",
    "credbur_df['Trades_bin'] = pd.cut(credbur_df['Total No of Trades'], bins, include_lowest=True)"
   ]
  },
  {
   "cell_type": "code",
   "execution_count": 315,
   "metadata": {},
   "outputs": [],
   "source": [
    "No_of_prospect_trades = credbur_df.groupby('Trades_bin')['Performance Tag'].count().reset_index(name = 'noof_prospect')\n",
    "count_prospects_trades = credbur_df[demog_df['Performance Tag']==1].groupby('Trades_bin')['Performance Tag'].count().reset_index(name = 'count_prospect')\n",
    "\n",
    "agg_trades = No_of_prospect_trades.merge(count_prospects_trades, on='Trades_bin')\n",
    "agg_trades['default_rate'] = 100*(agg_trades['count_prospect']/agg_trades['noof_prospect']).round(3)"
   ]
  },
  {
   "cell_type": "code",
   "execution_count": 316,
   "metadata": {},
   "outputs": [
    {
     "data": {
      "text/html": [
       "<div>\n",
       "<style scoped>\n",
       "    .dataframe tbody tr th:only-of-type {\n",
       "        vertical-align: middle;\n",
       "    }\n",
       "\n",
       "    .dataframe tbody tr th {\n",
       "        vertical-align: top;\n",
       "    }\n",
       "\n",
       "    .dataframe thead th {\n",
       "        text-align: right;\n",
       "    }\n",
       "</style>\n",
       "<table border=\"1\" class=\"dataframe\">\n",
       "  <thead>\n",
       "    <tr style=\"text-align: right;\">\n",
       "      <th></th>\n",
       "      <th>Trades_bin</th>\n",
       "      <th>noof_prospect</th>\n",
       "      <th>count_prospect</th>\n",
       "      <th>default_rate</th>\n",
       "    </tr>\n",
       "  </thead>\n",
       "  <tbody>\n",
       "    <tr>\n",
       "      <th>0</th>\n",
       "      <td>(-0.001, 5.0]</td>\n",
       "      <td>32499</td>\n",
       "      <td>811</td>\n",
       "      <td>2.5</td>\n",
       "    </tr>\n",
       "    <tr>\n",
       "      <th>1</th>\n",
       "      <td>(5.0, 10.0]</td>\n",
       "      <td>21463</td>\n",
       "      <td>1307</td>\n",
       "      <td>6.1</td>\n",
       "    </tr>\n",
       "    <tr>\n",
       "      <th>2</th>\n",
       "      <td>(10.0, 15.0]</td>\n",
       "      <td>6667</td>\n",
       "      <td>476</td>\n",
       "      <td>7.1</td>\n",
       "    </tr>\n",
       "    <tr>\n",
       "      <th>3</th>\n",
       "      <td>(15.0, 20.0]</td>\n",
       "      <td>2423</td>\n",
       "      <td>84</td>\n",
       "      <td>3.5</td>\n",
       "    </tr>\n",
       "    <tr>\n",
       "      <th>4</th>\n",
       "      <td>(20.0, 25.0]</td>\n",
       "      <td>6818</td>\n",
       "      <td>270</td>\n",
       "      <td>4.0</td>\n",
       "    </tr>\n",
       "  </tbody>\n",
       "</table>\n",
       "</div>"
      ],
      "text/plain": [
       "      Trades_bin  noof_prospect  count_prospect  default_rate\n",
       "0  (-0.001, 5.0]          32499             811           2.5\n",
       "1    (5.0, 10.0]          21463            1307           6.1\n",
       "2   (10.0, 15.0]           6667             476           7.1\n",
       "3   (15.0, 20.0]           2423              84           3.5\n",
       "4   (20.0, 25.0]           6818             270           4.0"
      ]
     },
     "execution_count": 316,
     "metadata": {},
     "output_type": "execute_result"
    }
   ],
   "source": [
    "agg_trades"
   ]
  },
  {
   "cell_type": "code",
   "execution_count": 317,
   "metadata": {},
   "outputs": [
    {
     "data": {
      "image/png": "[encoded data removed]",
      "text/plain": [
       "<Figure size 432x288 with 1 Axes>"
      ]
     },
     "metadata": {
      "needs_background": "light"
     },
     "output_type": "display_data"
    }
   ],
   "source": [
    "bp = sns.barplot(x='Trades_bin', y='default_rate', data=agg_trades)\n",
    "bp.set_xticklabels(bp.get_xticklabels(),rotation=90)\n",
    "plt.show()"
   ]
  },
  {
   "cell_type": "markdown",
   "metadata": {},
   "source": [
    "#### Presence of open auto loan"
   ]
  },
  {
   "cell_type": "code",
   "execution_count": 318,
   "metadata": {},
   "outputs": [
    {
     "data": {
      "text/plain": [
       "0    65262\n",
       "1     6033\n",
       "Name: Presence of open auto loan, dtype: int64"
      ]
     },
     "execution_count": 318,
     "metadata": {},
     "output_type": "execute_result"
    }
   ],
   "source": [
    "credbur_df['Presence of open auto loan'].value_counts(dropna=False)"
   ]
  },
  {
   "cell_type": "code",
   "execution_count": 319,
   "metadata": {},
   "outputs": [],
   "source": [
    "count_prospects_AL = credbur_df.groupby('Presence of open auto loan')['Performance Tag'].sum().reset_index(name = 'count_prospect')\n",
    "No_of_prospect_AL = credbur_df.groupby('Presence of open auto loan')['Performance Tag'].count().reset_index(name = 'noof_prospect')\n",
    "\n",
    "agg_AL = count_prospects_AL.merge(No_of_prospect_AL, on = 'Presence of open auto loan')\n",
    "agg_AL['default_rate'] = 100*(agg_AL['count_prospect']/agg_AL['noof_prospect']).round(3)"
   ]
  },
  {
   "cell_type": "code",
   "execution_count": 320,
   "metadata": {
    "scrolled": true
   },
   "outputs": [
    {
     "data": {
      "text/html": [
       "<div>\n",
       "<style scoped>\n",
       "    .dataframe tbody tr th:only-of-type {\n",
       "        vertical-align: middle;\n",
       "    }\n",
       "\n",
       "    .dataframe tbody tr th {\n",
       "        vertical-align: top;\n",
       "    }\n",
       "\n",
       "    .dataframe thead th {\n",
       "        text-align: right;\n",
       "    }\n",
       "</style>\n",
       "<table border=\"1\" class=\"dataframe\">\n",
       "  <thead>\n",
       "    <tr style=\"text-align: right;\">\n",
       "      <th></th>\n",
       "      <th>Presence of open auto loan</th>\n",
       "      <th>count_prospect</th>\n",
       "      <th>noof_prospect</th>\n",
       "      <th>default_rate</th>\n",
       "    </tr>\n",
       "  </thead>\n",
       "  <tbody>\n",
       "    <tr>\n",
       "      <th>0</th>\n",
       "      <td>0</td>\n",
       "      <td>2729.0</td>\n",
       "      <td>63940</td>\n",
       "      <td>4.3</td>\n",
       "    </tr>\n",
       "    <tr>\n",
       "      <th>1</th>\n",
       "      <td>1</td>\n",
       "      <td>219.0</td>\n",
       "      <td>5930</td>\n",
       "      <td>3.7</td>\n",
       "    </tr>\n",
       "  </tbody>\n",
       "</table>\n",
       "</div>"
      ],
      "text/plain": [
       "   Presence of open auto loan  count_prospect  noof_prospect  default_rate\n",
       "0                           0          2729.0          63940           4.3\n",
       "1                           1           219.0           5930           3.7"
      ]
     },
     "execution_count": 320,
     "metadata": {},
     "output_type": "execute_result"
    }
   ],
   "source": [
    "agg_AL"
   ]
  },
  {
   "cell_type": "code",
   "execution_count": 321,
   "metadata": {
    "scrolled": true
   },
   "outputs": [
    {
     "data": {
      "image/png": "[encoded data removed]",
      "text/plain": [
       "<Figure size 432x288 with 1 Axes>"
      ]
     },
     "metadata": {
      "needs_background": "light"
     },
     "output_type": "display_data"
    }
   ],
   "source": [
    "bp = sns.barplot(x='Presence of open auto loan', y='default_rate', data=agg_AL)\n",
    "bp.set_xticklabels(bp.get_xticklabels(),rotation=90)\n",
    "plt.show()"
   ]
  },
  {
   "cell_type": "markdown",
   "metadata": {},
   "source": [
    "Now, the best way of removing the NULL values of the remaining columns is using WOE, which will also avoid creating the dummy columns."
   ]
  },
  {
   "cell_type": "code",
   "execution_count": 322,
   "metadata": {},
   "outputs": [
    {
     "data": {
      "text/plain": [
       "272"
      ]
     },
     "execution_count": 322,
     "metadata": {},
     "output_type": "execute_result"
    }
   ],
   "source": [
    "# checking for how many columns are missing in the three columns with NULL values\n",
    "credbur_df['Application ID'][credbur_df['Avgas CC Utilization in last 12 months'].isnull() & credbur_df['Presence of open home loan'].isnull() & credbur_df['Outstanding Balance'].isnull()].count()"
   ]
  },
  {
   "cell_type": "markdown",
   "metadata": {},
   "source": [
    "Let's merge the two datasets together, but before that let's check if the Application ID is Unique in both the datasets."
   ]
  },
  {
   "cell_type": "code",
   "execution_count": 323,
   "metadata": {
    "scrolled": true
   },
   "outputs": [
    {
     "data": {
      "text/plain": [
       "False"
      ]
     },
     "execution_count": 323,
     "metadata": {},
     "output_type": "execute_result"
    }
   ],
   "source": [
    "demog_df['Application ID'].is_unique"
   ]
  },
  {
   "cell_type": "code",
   "execution_count": 324,
   "metadata": {},
   "outputs": [
    {
     "data": {
      "text/plain": [
       "False"
      ]
     },
     "execution_count": 324,
     "metadata": {},
     "output_type": "execute_result"
    }
   ],
   "source": [
    "credbur_df['Application ID'].is_unique"
   ]
  },
  {
   "cell_type": "code",
   "execution_count": 325,
   "metadata": {
    "scrolled": true
   },
   "outputs": [
    {
     "name": "stdout",
     "output_type": "stream",
     "text": [
      "653287861    2\n",
      "671989187    2\n",
      "765011468    2\n",
      "Name: Application ID, dtype: int64\n"
     ]
    }
   ],
   "source": [
    "# find the Application IDs which have duplicate Values\n",
    "vc1 = demog_df['Application ID'].value_counts()\n",
    "print(vc1[vc1 > 1])"
   ]
  },
  {
   "cell_type": "code",
   "execution_count": 326,
   "metadata": {
    "scrolled": true
   },
   "outputs": [
    {
     "name": "stdout",
     "output_type": "stream",
     "text": [
      "653287861    2\n",
      "671989187    2\n",
      "765011468    2\n",
      "Name: Application ID, dtype: int64\n"
     ]
    }
   ],
   "source": [
    "vc2 = credbur_df['Application ID'].value_counts()\n",
    "print (vc2[vc2 > 1])"
   ]
  },
  {
   "cell_type": "markdown",
   "metadata": {},
   "source": [
    "Now, leaving the doubtful data behind we will drop these datapoints."
   ]
  },
  {
   "cell_type": "code",
   "execution_count": 327,
   "metadata": {},
   "outputs": [],
   "source": [
    "demog_df.drop(demog_df[demog_df['Application ID'].isin([653287861, 671989187, 765011468])].index, inplace=True)\n",
    "\n",
    "credbur_df.drop(credbur_df[credbur_df['Application ID'].isin([653287861, 671989187, 765011468])].index, inplace=True)"
   ]
  },
  {
   "cell_type": "code",
   "execution_count": 328,
   "metadata": {
    "scrolled": true
   },
   "outputs": [
    {
     "data": {
      "text/html": [
       "<div>\n",
       "<style scoped>\n",
       "    .dataframe tbody tr th:only-of-type {\n",
       "        vertical-align: middle;\n",
       "    }\n",
       "\n",
       "    .dataframe tbody tr th {\n",
       "        vertical-align: top;\n",
       "    }\n",
       "\n",
       "    .dataframe thead th {\n",
       "        text-align: right;\n",
       "    }\n",
       "</style>\n",
       "<table border=\"1\" class=\"dataframe\">\n",
       "  <thead>\n",
       "    <tr style=\"text-align: right;\">\n",
       "      <th></th>\n",
       "      <th>Application ID</th>\n",
       "      <th>Age</th>\n",
       "      <th>Gender</th>\n",
       "      <th>Marital Status (at the time of application)</th>\n",
       "      <th>No of dependents</th>\n",
       "      <th>Income</th>\n",
       "      <th>Education</th>\n",
       "      <th>Profession</th>\n",
       "      <th>Type of residence</th>\n",
       "      <th>No of months in current residence</th>\n",
       "      <th>...</th>\n",
       "      <th>No of Inquiries in last 6 months (excluding home &amp; auto loans)</th>\n",
       "      <th>No of Inquiries in last 12 months (excluding home &amp; auto loans)</th>\n",
       "      <th>Presence of open home loan</th>\n",
       "      <th>Outstanding Balance</th>\n",
       "      <th>Total No of Trades</th>\n",
       "      <th>Presence of open auto loan</th>\n",
       "      <th>Performance Tag_y</th>\n",
       "      <th>CCUtil_bin</th>\n",
       "      <th>Obal_bin</th>\n",
       "      <th>Trades_bin</th>\n",
       "    </tr>\n",
       "  </thead>\n",
       "  <tbody>\n",
       "    <tr>\n",
       "      <th>0</th>\n",
       "      <td>954457215</td>\n",
       "      <td>48</td>\n",
       "      <td>F</td>\n",
       "      <td>Married</td>\n",
       "      <td>2.0</td>\n",
       "      <td>40.0</td>\n",
       "      <td>Bachelor</td>\n",
       "      <td>SAL</td>\n",
       "      <td>Rented</td>\n",
       "      <td>113</td>\n",
       "      <td>...</td>\n",
       "      <td>0</td>\n",
       "      <td>0</td>\n",
       "      <td>1.0</td>\n",
       "      <td>2999395.0</td>\n",
       "      <td>4</td>\n",
       "      <td>0</td>\n",
       "      <td>0.0</td>\n",
       "      <td>(-0.001, 20.0]</td>\n",
       "      <td>(2500000.0, 3000000.0]</td>\n",
       "      <td>(-0.001, 5.0]</td>\n",
       "    </tr>\n",
       "    <tr>\n",
       "      <th>1</th>\n",
       "      <td>432830445</td>\n",
       "      <td>31</td>\n",
       "      <td>M</td>\n",
       "      <td>Married</td>\n",
       "      <td>4.0</td>\n",
       "      <td>55.0</td>\n",
       "      <td>Professional</td>\n",
       "      <td>SE_PROF</td>\n",
       "      <td>Rented</td>\n",
       "      <td>112</td>\n",
       "      <td>...</td>\n",
       "      <td>0</td>\n",
       "      <td>0</td>\n",
       "      <td>0.0</td>\n",
       "      <td>3078.0</td>\n",
       "      <td>5</td>\n",
       "      <td>0</td>\n",
       "      <td>0.0</td>\n",
       "      <td>(-0.001, 20.0]</td>\n",
       "      <td>(-0.001, 500000.0]</td>\n",
       "      <td>(-0.001, 5.0]</td>\n",
       "    </tr>\n",
       "    <tr>\n",
       "      <th>2</th>\n",
       "      <td>941387308</td>\n",
       "      <td>32</td>\n",
       "      <td>M</td>\n",
       "      <td>Single</td>\n",
       "      <td>2.0</td>\n",
       "      <td>46.0</td>\n",
       "      <td>Bachelor</td>\n",
       "      <td>SE_PROF</td>\n",
       "      <td>Rented</td>\n",
       "      <td>104</td>\n",
       "      <td>...</td>\n",
       "      <td>0</td>\n",
       "      <td>0</td>\n",
       "      <td>1.0</td>\n",
       "      <td>3004972.0</td>\n",
       "      <td>2</td>\n",
       "      <td>0</td>\n",
       "      <td>0.0</td>\n",
       "      <td>(-0.001, 20.0]</td>\n",
       "      <td>(3000000.0, 3500000.0]</td>\n",
       "      <td>(-0.001, 5.0]</td>\n",
       "    </tr>\n",
       "    <tr>\n",
       "      <th>3</th>\n",
       "      <td>392161677</td>\n",
       "      <td>43</td>\n",
       "      <td>M</td>\n",
       "      <td>Married</td>\n",
       "      <td>1.0</td>\n",
       "      <td>53.0</td>\n",
       "      <td>Bachelor</td>\n",
       "      <td>SE</td>\n",
       "      <td>Rented</td>\n",
       "      <td>94</td>\n",
       "      <td>...</td>\n",
       "      <td>0</td>\n",
       "      <td>0</td>\n",
       "      <td>1.0</td>\n",
       "      <td>3355373.0</td>\n",
       "      <td>4</td>\n",
       "      <td>1</td>\n",
       "      <td>0.0</td>\n",
       "      <td>(-0.001, 20.0]</td>\n",
       "      <td>(3000000.0, 3500000.0]</td>\n",
       "      <td>(-0.001, 5.0]</td>\n",
       "    </tr>\n",
       "    <tr>\n",
       "      <th>4</th>\n",
       "      <td>182011211</td>\n",
       "      <td>35</td>\n",
       "      <td>F</td>\n",
       "      <td>Married</td>\n",
       "      <td>5.0</td>\n",
       "      <td>44.0</td>\n",
       "      <td>Professional</td>\n",
       "      <td>SAL</td>\n",
       "      <td>Rented</td>\n",
       "      <td>112</td>\n",
       "      <td>...</td>\n",
       "      <td>0</td>\n",
       "      <td>0</td>\n",
       "      <td>1.0</td>\n",
       "      <td>3014283.0</td>\n",
       "      <td>4</td>\n",
       "      <td>0</td>\n",
       "      <td>0.0</td>\n",
       "      <td>(-0.001, 20.0]</td>\n",
       "      <td>(3000000.0, 3500000.0]</td>\n",
       "      <td>(-0.001, 5.0]</td>\n",
       "    </tr>\n",
       "  </tbody>\n",
       "</table>\n",
       "<p>5 rows × 37 columns</p>\n",
       "</div>"
      ],
      "text/plain": [
       "   Application ID  Age Gender Marital Status (at the time of application)  \\\n",
       "0       954457215   48      F                                     Married   \n",
       "1       432830445   31      M                                     Married   \n",
       "2       941387308   32      M                                      Single   \n",
       "3       392161677   43      M                                     Married   \n",
       "4       182011211   35      F                                     Married   \n",
       "\n",
       "   No of dependents  Income     Education Profession  Type of residence  \\\n",
       "0               2.0    40.0      Bachelor         SAL            Rented   \n",
       "1               4.0    55.0  Professional     SE_PROF            Rented   \n",
       "2               2.0    46.0      Bachelor     SE_PROF            Rented   \n",
       "3               1.0    53.0      Bachelor          SE            Rented   \n",
       "4               5.0    44.0  Professional         SAL            Rented   \n",
       "\n",
       "   No of months in current residence      ...        \\\n",
       "0                                113      ...         \n",
       "1                                112      ...         \n",
       "2                                104      ...         \n",
       "3                                 94      ...         \n",
       "4                                112      ...         \n",
       "\n",
       "   No of Inquiries in last 6 months (excluding home & auto loans)  \\\n",
       "0                                                  0                \n",
       "1                                                  0                \n",
       "2                                                  0                \n",
       "3                                                  0                \n",
       "4                                                  0                \n",
       "\n",
       "   No of Inquiries in last 12 months (excluding home & auto loans)  \\\n",
       "0                                                  0                 \n",
       "1                                                  0                 \n",
       "2                                                  0                 \n",
       "3                                                  0                 \n",
       "4                                                  0                 \n",
       "\n",
       "  Presence of open home loan Outstanding Balance Total No of Trades  \\\n",
       "0                        1.0           2999395.0                  4   \n",
       "1                        0.0              3078.0                  5   \n",
       "2                        1.0           3004972.0                  2   \n",
       "3                        1.0           3355373.0                  4   \n",
       "4                        1.0           3014283.0                  4   \n",
       "\n",
       "  Presence of open auto loan  Performance Tag_y      CCUtil_bin  \\\n",
       "0                          0                0.0  (-0.001, 20.0]   \n",
       "1                          0                0.0  (-0.001, 20.0]   \n",
       "2                          0                0.0  (-0.001, 20.0]   \n",
       "3                          1                0.0  (-0.001, 20.0]   \n",
       "4                          0                0.0  (-0.001, 20.0]   \n",
       "\n",
       "                 Obal_bin     Trades_bin  \n",
       "0  (2500000.0, 3000000.0]  (-0.001, 5.0]  \n",
       "1      (-0.001, 500000.0]  (-0.001, 5.0]  \n",
       "2  (3000000.0, 3500000.0]  (-0.001, 5.0]  \n",
       "3  (3000000.0, 3500000.0]  (-0.001, 5.0]  \n",
       "4  (3000000.0, 3500000.0]  (-0.001, 5.0]  \n",
       "\n",
       "[5 rows x 37 columns]"
      ]
     },
     "execution_count": 328,
     "metadata": {},
     "output_type": "execute_result"
    }
   ],
   "source": [
    "# merging the two dataframes together\n",
    "credx_df = demog_df.merge(credbur_df, on = 'Application ID')\n",
    "\n",
    "credx_df.head()"
   ]
  },
  {
   "cell_type": "code",
   "execution_count": 329,
   "metadata": {
    "scrolled": true
   },
   "outputs": [
    {
     "data": {
      "text/plain": [
       "Application ID       1425\n",
       "Performance Tag_x       0\n",
       "Performance Tag_y       0\n",
       "dtype: int64"
      ]
     },
     "execution_count": 329,
     "metadata": {},
     "output_type": "execute_result"
    }
   ],
   "source": [
    "# checking the rows where Performance tags doesn't match\n",
    "credx_df.loc[credx_df['Performance Tag_x']!=credx_df['Performance Tag_y'], ['Application ID', 'Performance Tag_x', 'Performance Tag_y']].count()"
   ]
  },
  {
   "cell_type": "markdown",
   "metadata": {},
   "source": [
    "Clearly, the datapoints which doesn't have the dependant variable's value would be of no use for the Model building and there are 1425 such points so we will choose to get rid of these for now, while keeping them safe for the future use."
   ]
  },
  {
   "cell_type": "code",
   "execution_count": 330,
   "metadata": {},
   "outputs": [
    {
     "name": "stdout",
     "output_type": "stream",
     "text": [
      "['Application ID', 'Age', 'Gender', 'Marital Status (at the time of application)', 'No of dependents', 'Income', 'Education', 'Profession ', 'Type of residence', 'No of months in current residence', 'No of months in current company', 'Age_bin', 'Income_bin', 'Residence_bin', 'Employment_bin', 'No of times 90 DPD or worse in last 6 months', 'No of times 60 DPD or worse in last 6 months', 'No of times 30 DPD or worse in last 6 months', 'No of times 90 DPD or worse in last 12 months', 'No of times 60 DPD or worse in last 12 months', 'No of times 30 DPD or worse in last 12 months', 'Avgas CC Utilization in last 12 months', 'No of trades opened in last 6 months', 'No of trades opened in last 12 months', 'No of PL trades opened in last 6 months', 'No of PL trades opened in last 12 months', 'No of Inquiries in last 6 months (excluding home & auto loans)', 'No of Inquiries in last 12 months (excluding home & auto loans)', 'Presence of open home loan', 'Outstanding Balance', 'Total No of Trades', 'Presence of open auto loan', 'Performance Tag_y', 'CCUtil_bin', 'Obal_bin', 'Trades_bin']\n"
     ]
    }
   ],
   "source": [
    "# dropping the duplicate column \n",
    "credx_df.drop(columns=['Performance Tag_x'], inplace=True)\n",
    "print(credx_df.columns.tolist())"
   ]
  },
  {
   "cell_type": "code",
   "execution_count": 331,
   "metadata": {
    "scrolled": true
   },
   "outputs": [
    {
     "data": {
      "text/html": [
       "<div>\n",
       "<style scoped>\n",
       "    .dataframe tbody tr th:only-of-type {\n",
       "        vertical-align: middle;\n",
       "    }\n",
       "\n",
       "    .dataframe tbody tr th {\n",
       "        vertical-align: top;\n",
       "    }\n",
       "\n",
       "    .dataframe thead th {\n",
       "        text-align: right;\n",
       "    }\n",
       "</style>\n",
       "<table border=\"1\" class=\"dataframe\">\n",
       "  <thead>\n",
       "    <tr style=\"text-align: right;\">\n",
       "      <th></th>\n",
       "      <th>application_id</th>\n",
       "      <th>age</th>\n",
       "      <th>gender</th>\n",
       "      <th>marital_status</th>\n",
       "      <th>noof_dependents</th>\n",
       "      <th>income</th>\n",
       "      <th>education</th>\n",
       "      <th>profession</th>\n",
       "      <th>residence_type</th>\n",
       "      <th>noof_months_in_current_residence</th>\n",
       "      <th>...</th>\n",
       "      <th>inquiries_6months</th>\n",
       "      <th>inquiries_12months</th>\n",
       "      <th>open_homeloan</th>\n",
       "      <th>outstanding_balance</th>\n",
       "      <th>total_trades</th>\n",
       "      <th>open_autoloan</th>\n",
       "      <th>defaulted</th>\n",
       "      <th>ccutil_bin</th>\n",
       "      <th>obal_bin</th>\n",
       "      <th>trades_bin</th>\n",
       "    </tr>\n",
       "  </thead>\n",
       "  <tbody>\n",
       "    <tr>\n",
       "      <th>0</th>\n",
       "      <td>954457215</td>\n",
       "      <td>48</td>\n",
       "      <td>F</td>\n",
       "      <td>Married</td>\n",
       "      <td>2.0</td>\n",
       "      <td>40.0</td>\n",
       "      <td>Bachelor</td>\n",
       "      <td>SAL</td>\n",
       "      <td>Rented</td>\n",
       "      <td>113</td>\n",
       "      <td>...</td>\n",
       "      <td>0</td>\n",
       "      <td>0</td>\n",
       "      <td>1.0</td>\n",
       "      <td>2999395.0</td>\n",
       "      <td>4</td>\n",
       "      <td>0</td>\n",
       "      <td>0.0</td>\n",
       "      <td>(-0.001, 20.0]</td>\n",
       "      <td>(2500000.0, 3000000.0]</td>\n",
       "      <td>(-0.001, 5.0]</td>\n",
       "    </tr>\n",
       "    <tr>\n",
       "      <th>1</th>\n",
       "      <td>432830445</td>\n",
       "      <td>31</td>\n",
       "      <td>M</td>\n",
       "      <td>Married</td>\n",
       "      <td>4.0</td>\n",
       "      <td>55.0</td>\n",
       "      <td>Professional</td>\n",
       "      <td>SE_PROF</td>\n",
       "      <td>Rented</td>\n",
       "      <td>112</td>\n",
       "      <td>...</td>\n",
       "      <td>0</td>\n",
       "      <td>0</td>\n",
       "      <td>0.0</td>\n",
       "      <td>3078.0</td>\n",
       "      <td>5</td>\n",
       "      <td>0</td>\n",
       "      <td>0.0</td>\n",
       "      <td>(-0.001, 20.0]</td>\n",
       "      <td>(-0.001, 500000.0]</td>\n",
       "      <td>(-0.001, 5.0]</td>\n",
       "    </tr>\n",
       "    <tr>\n",
       "      <th>2</th>\n",
       "      <td>941387308</td>\n",
       "      <td>32</td>\n",
       "      <td>M</td>\n",
       "      <td>Single</td>\n",
       "      <td>2.0</td>\n",
       "      <td>46.0</td>\n",
       "      <td>Bachelor</td>\n",
       "      <td>SE_PROF</td>\n",
       "      <td>Rented</td>\n",
       "      <td>104</td>\n",
       "      <td>...</td>\n",
       "      <td>0</td>\n",
       "      <td>0</td>\n",
       "      <td>1.0</td>\n",
       "      <td>3004972.0</td>\n",
       "      <td>2</td>\n",
       "      <td>0</td>\n",
       "      <td>0.0</td>\n",
       "      <td>(-0.001, 20.0]</td>\n",
       "      <td>(3000000.0, 3500000.0]</td>\n",
       "      <td>(-0.001, 5.0]</td>\n",
       "    </tr>\n",
       "    <tr>\n",
       "      <th>3</th>\n",
       "      <td>392161677</td>\n",
       "      <td>43</td>\n",
       "      <td>M</td>\n",
       "      <td>Married</td>\n",
       "      <td>1.0</td>\n",
       "      <td>53.0</td>\n",
       "      <td>Bachelor</td>\n",
       "      <td>SE</td>\n",
       "      <td>Rented</td>\n",
       "      <td>94</td>\n",
       "      <td>...</td>\n",
       "      <td>0</td>\n",
       "      <td>0</td>\n",
       "      <td>1.0</td>\n",
       "      <td>3355373.0</td>\n",
       "      <td>4</td>\n",
       "      <td>1</td>\n",
       "      <td>0.0</td>\n",
       "      <td>(-0.001, 20.0]</td>\n",
       "      <td>(3000000.0, 3500000.0]</td>\n",
       "      <td>(-0.001, 5.0]</td>\n",
       "    </tr>\n",
       "    <tr>\n",
       "      <th>4</th>\n",
       "      <td>182011211</td>\n",
       "      <td>35</td>\n",
       "      <td>F</td>\n",
       "      <td>Married</td>\n",
       "      <td>5.0</td>\n",
       "      <td>44.0</td>\n",
       "      <td>Professional</td>\n",
       "      <td>SAL</td>\n",
       "      <td>Rented</td>\n",
       "      <td>112</td>\n",
       "      <td>...</td>\n",
       "      <td>0</td>\n",
       "      <td>0</td>\n",
       "      <td>1.0</td>\n",
       "      <td>3014283.0</td>\n",
       "      <td>4</td>\n",
       "      <td>0</td>\n",
       "      <td>0.0</td>\n",
       "      <td>(-0.001, 20.0]</td>\n",
       "      <td>(3000000.0, 3500000.0]</td>\n",
       "      <td>(-0.001, 5.0]</td>\n",
       "    </tr>\n",
       "  </tbody>\n",
       "</table>\n",
       "<p>5 rows × 36 columns</p>\n",
       "</div>"
      ],
      "text/plain": [
       "   application_id  age gender marital_status  noof_dependents  income  \\\n",
       "0       954457215   48      F        Married              2.0    40.0   \n",
       "1       432830445   31      M        Married              4.0    55.0   \n",
       "2       941387308   32      M         Single              2.0    46.0   \n",
       "3       392161677   43      M        Married              1.0    53.0   \n",
       "4       182011211   35      F        Married              5.0    44.0   \n",
       "\n",
       "      education profession residence_type  noof_months_in_current_residence  \\\n",
       "0      Bachelor        SAL         Rented                               113   \n",
       "1  Professional    SE_PROF         Rented                               112   \n",
       "2      Bachelor    SE_PROF         Rented                               104   \n",
       "3      Bachelor         SE         Rented                                94   \n",
       "4  Professional        SAL         Rented                               112   \n",
       "\n",
       "       ...        inquiries_6months inquiries_12months open_homeloan  \\\n",
       "0      ...                        0                  0           1.0   \n",
       "1      ...                        0                  0           0.0   \n",
       "2      ...                        0                  0           1.0   \n",
       "3      ...                        0                  0           1.0   \n",
       "4      ...                        0                  0           1.0   \n",
       "\n",
       "  outstanding_balance total_trades  open_autoloan  defaulted      ccutil_bin  \\\n",
       "0           2999395.0            4              0        0.0  (-0.001, 20.0]   \n",
       "1              3078.0            5              0        0.0  (-0.001, 20.0]   \n",
       "2           3004972.0            2              0        0.0  (-0.001, 20.0]   \n",
       "3           3355373.0            4              1        0.0  (-0.001, 20.0]   \n",
       "4           3014283.0            4              0        0.0  (-0.001, 20.0]   \n",
       "\n",
       "                 obal_bin     trades_bin  \n",
       "0  (2500000.0, 3000000.0]  (-0.001, 5.0]  \n",
       "1      (-0.001, 500000.0]  (-0.001, 5.0]  \n",
       "2  (3000000.0, 3500000.0]  (-0.001, 5.0]  \n",
       "3  (3000000.0, 3500000.0]  (-0.001, 5.0]  \n",
       "4  (3000000.0, 3500000.0]  (-0.001, 5.0]  \n",
       "\n",
       "[5 rows x 36 columns]"
      ]
     },
     "execution_count": 331,
     "metadata": {},
     "output_type": "execute_result"
    }
   ],
   "source": [
    "# renaming the columns to a better format for the ease of coding and understandability\n",
    "credx_df.columns = ['application_id', 'age', 'gender', 'marital_status', 'noof_dependents', 'income', 'education', 'profession', 'residence_type', 'noof_months_in_current_residence', 'noof_months_in_current_company', 'age_bin', 'income_bin', 'residence_bin', 'employment_bin', '90DPD_6months', '60DPD_6months', '30DPD_6months', '90DPD_12months', '60DPD_12months', '30DPD_12months', 'avg_ccutil_12months', 'trades_opened_6months', 'trades_opened_12months', 'PLtrades_opened_6months', 'PLtrades_opened_12months', 'inquiries_6months', 'inquiries_12months', 'open_homeloan', 'outstanding_balance', 'total_trades', 'open_autoloan', 'defaulted', 'ccutil_bin', 'obal_bin', 'trades_bin']\n",
    "credx_df.head()"
   ]
  },
  {
   "cell_type": "markdown",
   "metadata": {},
   "source": [
    "### Multivariate Analysis\n",
    "\n",
    "#### Profession + Residence Type"
   ]
  },
  {
   "cell_type": "code",
   "execution_count": 332,
   "metadata": {
    "scrolled": false
   },
   "outputs": [
    {
     "data": {
      "image/png": "[encoded data removed]",
      "text/plain": [
       "<Figure size 432x288 with 1 Axes>"
      ]
     },
     "metadata": {
      "needs_background": "light"
     },
     "output_type": "display_data"
    }
   ],
   "source": [
    "bp = sns.barplot(x='residence_type', y='defaulted', hue='profession', data=credx_df)\n",
    "bp.set_xticklabels(bp.get_xticklabels(),rotation=90)\n",
    "plt.show()"
   ]
  },
  {
   "cell_type": "markdown",
   "metadata": {},
   "source": [
    "#### No of dependents + Marital Status"
   ]
  },
  {
   "cell_type": "code",
   "execution_count": 333,
   "metadata": {
    "scrolled": false
   },
   "outputs": [
    {
     "data": {
      "image/png": "[encoded data removed]",
      "text/plain": [
       "<Figure size 432x288 with 1 Axes>"
      ]
     },
     "metadata": {
      "needs_background": "light"
     },
     "output_type": "display_data"
    }
   ],
   "source": [
    "bp = sns.barplot(x='noof_dependents', y='defaulted', hue='marital_status', data=credx_df)\n",
    "bp.set_xticklabels(bp.get_xticklabels(),rotation=90)\n",
    "plt.show()"
   ]
  },
  {
   "cell_type": "markdown",
   "metadata": {},
   "source": [
    "#### Income bin + Marital Status"
   ]
  },
  {
   "cell_type": "code",
   "execution_count": 334,
   "metadata": {
    "scrolled": false
   },
   "outputs": [
    {
     "data": {
      "image/png": "[encoded data removed]",
      "text/plain": [
       "<Figure size 432x288 with 1 Axes>"
      ]
     },
     "metadata": {
      "needs_background": "light"
     },
     "output_type": "display_data"
    }
   ],
   "source": [
    "bp = sns.barplot(x='income_bin', y='defaulted', hue='marital_status', data=credx_df)\n",
    "bp.set_xticklabels(bp.get_xticklabels(),rotation=90)\n",
    "plt.show()"
   ]
  },
  {
   "cell_type": "markdown",
   "metadata": {},
   "source": [
    "There doesn't seems to be much information we could fetch here relating two variables with the default rate. Let's prepare out dataset to go for the further analysis."
   ]
  },
  {
   "cell_type": "code",
   "execution_count": 335,
   "metadata": {},
   "outputs": [],
   "source": [
    "# drop the bin columns from the dataframe\n",
    "credx_df.drop(columns=['age_bin', 'income_bin', 'residence_bin', 'employment_bin', 'ccutil_bin', 'obal_bin', 'trades_bin'], inplace=True)"
   ]
  },
  {
   "cell_type": "code",
   "execution_count": 336,
   "metadata": {
    "scrolled": true
   },
   "outputs": [
    {
     "data": {
      "text/plain": [
       "application_id                         0\n",
       "age                                    0\n",
       "gender                                 0\n",
       "marital_status                         0\n",
       "noof_dependents                        0\n",
       "income                                 0\n",
       "education                            119\n",
       "profession                             0\n",
       "residence_type                         0\n",
       "noof_months_in_current_residence       0\n",
       "noof_months_in_current_company         0\n",
       "90DPD_6months                          0\n",
       "60DPD_6months                          0\n",
       "30DPD_6months                          0\n",
       "90DPD_12months                         0\n",
       "60DPD_12months                         0\n",
       "30DPD_12months                         0\n",
       "avg_ccutil_12months                 1058\n",
       "trades_opened_6months                  0\n",
       "trades_opened_12months                 0\n",
       "PLtrades_opened_6months                0\n",
       "PLtrades_opened_12months               0\n",
       "inquiries_6months                      0\n",
       "inquiries_12months                     0\n",
       "open_homeloan                        272\n",
       "outstanding_balance                  272\n",
       "total_trades                           0\n",
       "open_autoloan                          0\n",
       "defaulted                           1425\n",
       "dtype: int64"
      ]
     },
     "execution_count": 336,
     "metadata": {},
     "output_type": "execute_result"
    }
   ],
   "source": [
    "# checking the NULL values\n",
    "credx_df.isnull().sum()"
   ]
  },
  {
   "cell_type": "code",
   "execution_count": 337,
   "metadata": {
    "scrolled": true
   },
   "outputs": [
    {
     "data": {
      "text/plain": [
       "application_id                         0\n",
       "age                                    0\n",
       "gender                                 0\n",
       "marital_status                         0\n",
       "noof_dependents                        0\n",
       "income                                 0\n",
       "education                              1\n",
       "profession                             0\n",
       "residence_type                         0\n",
       "noof_months_in_current_residence       0\n",
       "noof_months_in_current_company         0\n",
       "90DPD_6months                          0\n",
       "60DPD_6months                          0\n",
       "30DPD_6months                          0\n",
       "90DPD_12months                         0\n",
       "60DPD_12months                         0\n",
       "30DPD_12months                         0\n",
       "avg_ccutil_12months                   35\n",
       "trades_opened_6months                  0\n",
       "trades_opened_12months                 0\n",
       "PLtrades_opened_6months                0\n",
       "PLtrades_opened_12months               0\n",
       "inquiries_6months                      0\n",
       "inquiries_12months                     0\n",
       "open_homeloan                          0\n",
       "outstanding_balance                    0\n",
       "total_trades                           0\n",
       "open_autoloan                          0\n",
       "defaulted                           1425\n",
       "dtype: int64"
      ]
     },
     "execution_count": 337,
     "metadata": {},
     "output_type": "execute_result"
    }
   ],
   "source": [
    "# checking the NULL values in other columns against the rejected candidates\n",
    "credx_df[credx_df['defaulted'].isnull()].isnull().sum()"
   ]
  },
  {
   "cell_type": "code",
   "execution_count": 338,
   "metadata": {
    "scrolled": true
   },
   "outputs": [],
   "source": [
    "# securing the rejected candidates' data\n",
    "credx_df[credx_df['defaulted'].isnull()].to_csv('rejects.csv', index=False)"
   ]
  },
  {
   "cell_type": "code",
   "execution_count": 339,
   "metadata": {
    "scrolled": true
   },
   "outputs": [
    {
     "data": {
      "text/html": [
       "<div>\n",
       "<style scoped>\n",
       "    .dataframe tbody tr th:only-of-type {\n",
       "        vertical-align: middle;\n",
       "    }\n",
       "\n",
       "    .dataframe tbody tr th {\n",
       "        vertical-align: top;\n",
       "    }\n",
       "\n",
       "    .dataframe thead th {\n",
       "        text-align: right;\n",
       "    }\n",
       "</style>\n",
       "<table border=\"1\" class=\"dataframe\">\n",
       "  <thead>\n",
       "    <tr style=\"text-align: right;\">\n",
       "      <th></th>\n",
       "      <th>application_id</th>\n",
       "      <th>age</th>\n",
       "      <th>gender</th>\n",
       "      <th>marital_status</th>\n",
       "      <th>noof_dependents</th>\n",
       "      <th>income</th>\n",
       "      <th>education</th>\n",
       "      <th>profession</th>\n",
       "      <th>residence_type</th>\n",
       "      <th>noof_months_in_current_residence</th>\n",
       "      <th>...</th>\n",
       "      <th>trades_opened_12months</th>\n",
       "      <th>PLtrades_opened_6months</th>\n",
       "      <th>PLtrades_opened_12months</th>\n",
       "      <th>inquiries_6months</th>\n",
       "      <th>inquiries_12months</th>\n",
       "      <th>open_homeloan</th>\n",
       "      <th>outstanding_balance</th>\n",
       "      <th>total_trades</th>\n",
       "      <th>open_autoloan</th>\n",
       "      <th>defaulted</th>\n",
       "    </tr>\n",
       "  </thead>\n",
       "  <tbody>\n",
       "    <tr>\n",
       "      <th>0</th>\n",
       "      <td>954457215</td>\n",
       "      <td>48</td>\n",
       "      <td>F</td>\n",
       "      <td>Married</td>\n",
       "      <td>2.0</td>\n",
       "      <td>40.0</td>\n",
       "      <td>Bachelor</td>\n",
       "      <td>SAL</td>\n",
       "      <td>Rented</td>\n",
       "      <td>113</td>\n",
       "      <td>...</td>\n",
       "      <td>2</td>\n",
       "      <td>0</td>\n",
       "      <td>0</td>\n",
       "      <td>0</td>\n",
       "      <td>0</td>\n",
       "      <td>1.0</td>\n",
       "      <td>2999395.0</td>\n",
       "      <td>4</td>\n",
       "      <td>0</td>\n",
       "      <td>0.0</td>\n",
       "    </tr>\n",
       "    <tr>\n",
       "      <th>1</th>\n",
       "      <td>432830445</td>\n",
       "      <td>31</td>\n",
       "      <td>M</td>\n",
       "      <td>Married</td>\n",
       "      <td>4.0</td>\n",
       "      <td>55.0</td>\n",
       "      <td>Professional</td>\n",
       "      <td>SE_PROF</td>\n",
       "      <td>Rented</td>\n",
       "      <td>112</td>\n",
       "      <td>...</td>\n",
       "      <td>2</td>\n",
       "      <td>0</td>\n",
       "      <td>0</td>\n",
       "      <td>0</td>\n",
       "      <td>0</td>\n",
       "      <td>0.0</td>\n",
       "      <td>3078.0</td>\n",
       "      <td>5</td>\n",
       "      <td>0</td>\n",
       "      <td>0.0</td>\n",
       "    </tr>\n",
       "    <tr>\n",
       "      <th>2</th>\n",
       "      <td>941387308</td>\n",
       "      <td>32</td>\n",
       "      <td>M</td>\n",
       "      <td>Single</td>\n",
       "      <td>2.0</td>\n",
       "      <td>46.0</td>\n",
       "      <td>Bachelor</td>\n",
       "      <td>SE_PROF</td>\n",
       "      <td>Rented</td>\n",
       "      <td>104</td>\n",
       "      <td>...</td>\n",
       "      <td>0</td>\n",
       "      <td>0</td>\n",
       "      <td>0</td>\n",
       "      <td>0</td>\n",
       "      <td>0</td>\n",
       "      <td>1.0</td>\n",
       "      <td>3004972.0</td>\n",
       "      <td>2</td>\n",
       "      <td>0</td>\n",
       "      <td>0.0</td>\n",
       "    </tr>\n",
       "    <tr>\n",
       "      <th>3</th>\n",
       "      <td>392161677</td>\n",
       "      <td>43</td>\n",
       "      <td>M</td>\n",
       "      <td>Married</td>\n",
       "      <td>1.0</td>\n",
       "      <td>53.0</td>\n",
       "      <td>Bachelor</td>\n",
       "      <td>SE</td>\n",
       "      <td>Rented</td>\n",
       "      <td>94</td>\n",
       "      <td>...</td>\n",
       "      <td>1</td>\n",
       "      <td>0</td>\n",
       "      <td>0</td>\n",
       "      <td>0</td>\n",
       "      <td>0</td>\n",
       "      <td>1.0</td>\n",
       "      <td>3355373.0</td>\n",
       "      <td>4</td>\n",
       "      <td>1</td>\n",
       "      <td>0.0</td>\n",
       "    </tr>\n",
       "    <tr>\n",
       "      <th>4</th>\n",
       "      <td>182011211</td>\n",
       "      <td>35</td>\n",
       "      <td>F</td>\n",
       "      <td>Married</td>\n",
       "      <td>5.0</td>\n",
       "      <td>44.0</td>\n",
       "      <td>Professional</td>\n",
       "      <td>SAL</td>\n",
       "      <td>Rented</td>\n",
       "      <td>112</td>\n",
       "      <td>...</td>\n",
       "      <td>1</td>\n",
       "      <td>0</td>\n",
       "      <td>0</td>\n",
       "      <td>0</td>\n",
       "      <td>0</td>\n",
       "      <td>1.0</td>\n",
       "      <td>3014283.0</td>\n",
       "      <td>4</td>\n",
       "      <td>0</td>\n",
       "      <td>0.0</td>\n",
       "    </tr>\n",
       "  </tbody>\n",
       "</table>\n",
       "<p>5 rows × 29 columns</p>\n",
       "</div>"
      ],
      "text/plain": [
       "   application_id  age gender marital_status  noof_dependents  income  \\\n",
       "0       954457215   48      F        Married              2.0    40.0   \n",
       "1       432830445   31      M        Married              4.0    55.0   \n",
       "2       941387308   32      M         Single              2.0    46.0   \n",
       "3       392161677   43      M        Married              1.0    53.0   \n",
       "4       182011211   35      F        Married              5.0    44.0   \n",
       "\n",
       "      education profession residence_type  noof_months_in_current_residence  \\\n",
       "0      Bachelor        SAL         Rented                               113   \n",
       "1  Professional    SE_PROF         Rented                               112   \n",
       "2      Bachelor    SE_PROF         Rented                               104   \n",
       "3      Bachelor         SE         Rented                                94   \n",
       "4  Professional        SAL         Rented                               112   \n",
       "\n",
       "     ...      trades_opened_12months  PLtrades_opened_6months  \\\n",
       "0    ...                           2                        0   \n",
       "1    ...                           2                        0   \n",
       "2    ...                           0                        0   \n",
       "3    ...                           1                        0   \n",
       "4    ...                           1                        0   \n",
       "\n",
       "   PLtrades_opened_12months  inquiries_6months  inquiries_12months  \\\n",
       "0                         0                  0                   0   \n",
       "1                         0                  0                   0   \n",
       "2                         0                  0                   0   \n",
       "3                         0                  0                   0   \n",
       "4                         0                  0                   0   \n",
       "\n",
       "   open_homeloan  outstanding_balance  total_trades  open_autoloan  defaulted  \n",
       "0            1.0            2999395.0             4              0        0.0  \n",
       "1            0.0               3078.0             5              0        0.0  \n",
       "2            1.0            3004972.0             2              0        0.0  \n",
       "3            1.0            3355373.0             4              1        0.0  \n",
       "4            1.0            3014283.0             4              0        0.0  \n",
       "\n",
       "[5 rows x 29 columns]"
      ]
     },
     "execution_count": 339,
     "metadata": {},
     "output_type": "execute_result"
    }
   ],
   "source": [
    "# dropping the rows with missing value of the dependant variable\n",
    "credx_df.drop(credx_df[credx_df['defaulted'].isnull()].index, inplace=True)\n",
    "credx_df.head()"
   ]
  },
  {
   "cell_type": "code",
   "execution_count": 340,
   "metadata": {
    "scrolled": true
   },
   "outputs": [
    {
     "data": {
      "text/plain": [
       "application_id                         0\n",
       "age                                    0\n",
       "gender                                 0\n",
       "marital_status                         0\n",
       "noof_dependents                        0\n",
       "income                                 0\n",
       "education                            118\n",
       "profession                             0\n",
       "residence_type                         0\n",
       "noof_months_in_current_residence       0\n",
       "noof_months_in_current_company         0\n",
       "90DPD_6months                          0\n",
       "60DPD_6months                          0\n",
       "30DPD_6months                          0\n",
       "90DPD_12months                         0\n",
       "60DPD_12months                         0\n",
       "30DPD_12months                         0\n",
       "avg_ccutil_12months                 1023\n",
       "trades_opened_6months                  0\n",
       "trades_opened_12months                 0\n",
       "PLtrades_opened_6months                0\n",
       "PLtrades_opened_12months               0\n",
       "inquiries_6months                      0\n",
       "inquiries_12months                     0\n",
       "open_homeloan                        272\n",
       "outstanding_balance                  272\n",
       "total_trades                           0\n",
       "open_autoloan                          0\n",
       "defaulted                              0\n",
       "dtype: int64"
      ]
     },
     "execution_count": 340,
     "metadata": {},
     "output_type": "execute_result"
    }
   ],
   "source": [
    "# checking the NULL values\n",
    "credx_df.isnull().sum()"
   ]
  },
  {
   "cell_type": "code",
   "execution_count": 341,
   "metadata": {},
   "outputs": [],
   "source": [
    "# replacing the NULL values in the categorical columns(education & open_homeloan) with dummy value 10\n",
    "credx_df['education'].fillna('10', inplace=True)\n",
    "credx_df['open_homeloan'].fillna(10, inplace=True)"
   ]
  },
  {
   "cell_type": "code",
   "execution_count": 342,
   "metadata": {
    "scrolled": true
   },
   "outputs": [],
   "source": [
    "# converting the datatype from float to int\n",
    "credx_df = credx_df.astype({'open_homeloan': int})"
   ]
  },
  {
   "cell_type": "markdown",
   "metadata": {},
   "source": [
    "So, we now only have NULL values in 4 columns, which could well be taken care of by WOE.\n",
    "\n",
    "## WOE & IV analysis"
   ]
  },
  {
   "cell_type": "code",
   "execution_count": 343,
   "metadata": {},
   "outputs": [],
   "source": [
    "# function to calculate IV and WOE\n",
    "def iv_woe_func(data, target, bins=10, show_woe=False):\n",
    "    \n",
    "    #Empty Dataframe\n",
    "    ivDF,woeDF = pd.DataFrame(), pd.DataFrame()\n",
    "    \n",
    "    #Extract Column Names\n",
    "    cols = data.columns\n",
    "    \n",
    "    #Run WOE and IV on all the independent variables\n",
    "    for ivars in cols[~cols.isin([target])]:\n",
    "        if (data[ivars].dtype.kind in 'bifc') and (len(np.unique(data[ivars]))>10):\n",
    "            binned_x, edge = pd.qcut(data[ivars], bins, retbins=True, duplicates='drop')\n",
    "            d0 = pd.DataFrame({'x': binned_x, 'x1': binned_x.map(lambda i: i.right), 'y': data[target]})\n",
    "        else:\n",
    "            d0 = pd.DataFrame({'x': data[ivars], 'x1': data[ivars], 'y': data[target]})\n",
    "        d = d0.groupby([\"x\", \"x1\"], as_index=False).agg({\"y\": [\"count\", \"sum\"]})\n",
    "        d.columns = ['Cutoff', 'Maxval', 'N', 'Events']\n",
    "        d['Events_Rate'] = np.maximum(d['Events'], 0.5) / d['Events'].sum()\n",
    "        d['Non-Events'] = d['N'] - d['Events']\n",
    "        d['Non-Events_Rate'] = np.maximum(d['Non-Events'], 0.5) / d['Non-Events'].sum()\n",
    "        d['WoE'] = np.log(d['Events_Rate']/d['Non-Events_Rate'])\n",
    "        d['IV'] = d['WoE'] * (d['Events_Rate'] - d['Non-Events_Rate'])\n",
    "        d.insert(loc=0, column='Variable', value=ivars)\n",
    "        print(\"Information value of \" + ivars + \" is \" + str(round(d['IV'].sum(),6)))\n",
    "        temp =pd.DataFrame({\"Variable\" : [ivars], \"IV\" : [d['IV'].sum()]}, columns = [\"Variable\", \"IV\"])\n",
    "        ivDF=pd.concat([ivDF,temp], axis=0)\n",
    "        woeDF=pd.concat([woeDF,d], axis=0)\n",
    "\n",
    "        #Show WOE Table\n",
    "        if show_woe == True:\n",
    "            print(d)\n",
    "    return ivDF, woeDF"
   ]
  },
  {
   "cell_type": "code",
   "execution_count": 344,
   "metadata": {
    "scrolled": true
   },
   "outputs": [
    {
     "name": "stdout",
     "output_type": "stream",
     "text": [
      "Information value of application_id is 0.00148\n",
      "         Variable                       Cutoff        Maxval     N  Events  \\\n",
      "0  application_id     (100449.999, 99488056.4]  9.948806e+07  6987   292.0   \n",
      "1  application_id    (99488056.4, 199459947.4]  1.994599e+08  6986   276.0   \n",
      "2  application_id   (199459947.4, 298561024.0]  2.985610e+08  6986   305.0   \n",
      "3  application_id   (298561024.0, 399368856.6]  3.993689e+08  6987   295.0   \n",
      "4  application_id   (399368856.6, 497955643.5]  4.979556e+08  6986   312.0   \n",
      "5  application_id   (497955643.5, 599089634.8]  5.990896e+08  6986   281.0   \n",
      "6  application_id   (599089634.8, 699936204.5]  6.999362e+08  6987   297.0   \n",
      "7  application_id   (699936204.5, 798890993.6]  7.988910e+08  6986   305.0   \n",
      "8  application_id   (798890993.6, 899547674.7]  8.995477e+08  6986   285.0   \n",
      "9  application_id  (899547674.7, 1000084142.0]  1.000084e+09  6987   299.0   \n",
      "\n",
      "   Events_Rate  Non-Events  Non-Events_Rate       WoE            IV  \n",
      "0     0.099084      6695.0         0.100049 -0.009697  9.362571e-06  \n",
      "1     0.093655      6710.0         0.100273 -0.068288  4.519922e-04  \n",
      "2     0.103495      6681.0         0.099840  0.035954  1.314117e-04  \n",
      "3     0.100102      6692.0         0.100004  0.000973  9.465233e-08  \n",
      "4     0.105870      6674.0         0.099735  0.059694  3.662149e-04  \n",
      "5     0.095351      6705.0         0.100199 -0.049589  2.403841e-04  \n",
      "6     0.100780      6690.0         0.099975  0.008028  6.469702e-06  \n",
      "7     0.103495      6681.0         0.099840  0.035954  1.314117e-04  \n",
      "8     0.096709      6701.0         0.100139 -0.034858  1.195774e-04  \n",
      "9     0.101459      6688.0         0.099945  0.015039  2.277475e-05  \n",
      "Information value of age is 0.004142\n",
      "  Variable          Cutoff Maxval     N  Events  Events_Rate  Non-Events  \\\n",
      "0      age  (17.999, 31.0]   31.0  7272   302.0     0.102477      6970.0   \n",
      "1      age    (31.0, 36.0]   36.0  7866   342.0     0.116050      7524.0   \n",
      "2      age    (36.0, 39.0]   39.0  7145   320.0     0.108585      6825.0   \n",
      "3      age    (39.0, 42.0]   42.0  7002   309.0     0.104852      6693.0   \n",
      "4      age    (42.0, 45.0]   45.0  6879   278.0     0.094333      6601.0   \n",
      "5      age    (45.0, 48.0]   48.0  6869   299.0     0.101459      6570.0   \n",
      "6      age    (48.0, 51.0]   51.0  6791   267.0     0.090601      6524.0   \n",
      "7      age    (51.0, 54.0]   54.0  6786   248.0     0.084153      6538.0   \n",
      "8      age    (54.0, 58.0]   58.0  6406   290.0     0.098405      6116.0   \n",
      "9      age    (58.0, 65.0]   65.0  6848   292.0     0.099084      6556.0   \n",
      "\n",
      "   Non-Events_Rate       WoE        IV  \n",
      "0         0.104159 -0.016278  0.000027  \n",
      "1         0.112438  0.031623  0.000114  \n",
      "2         0.101992  0.062639  0.000413  \n",
      "3         0.100019  0.047189  0.000228  \n",
      "4         0.098645 -0.044690  0.000193  \n",
      "5         0.098181  0.032840  0.000108  \n",
      "6         0.097494 -0.073329  0.000505  \n",
      "7         0.097703 -0.149292  0.002023  \n",
      "8         0.091397  0.073883  0.000518  \n",
      "9         0.097972  0.011283  0.000013  \n",
      "Information value of gender is 0.000326\n",
      "  Variable Cutoff Maxval      N  Events  Events_Rate  Non-Events  \\\n",
      "0   gender      F      F  16506   718.0     0.243638     15788.0   \n",
      "1   gender      M      M  53358  2229.0     0.756362     51129.0   \n",
      "\n",
      "   Non-Events_Rate       WoE        IV  \n",
      "0         0.235934  0.032129  0.000248  \n",
      "1         0.764066 -0.010133  0.000078  \n",
      "Information value of marital_status is 9.6e-05\n",
      "         Variable   Cutoff   Maxval      N  Events  Events_Rate  Non-Events  \\\n",
      "0  marital_status  Married  Married  59548  2502.0     0.848999     57046.0   \n",
      "1  marital_status   Single   Single  10316   445.0     0.151001      9871.0   \n",
      "\n",
      "   Non-Events_Rate       WoE        IV  \n",
      "0         0.852489 -0.004102  0.000014  \n",
      "1         0.147511  0.023383  0.000082  \n",
      "Information value of noof_dependents is 0.002647\n",
      "          Variable  Cutoff  Maxval      N  Events  Events_Rate  Non-Events  \\\n",
      "0  noof_dependents     1.0     1.0  15218   667.0     0.226332     14551.0   \n",
      "1  noof_dependents     2.0     2.0  15127   588.0     0.199525     14539.0   \n",
      "2  noof_dependents     3.0     3.0  15647   695.0     0.235833     14952.0   \n",
      "3  noof_dependents     4.0     4.0  11997   494.0     0.167628     11503.0   \n",
      "4  noof_dependents     5.0     5.0  11875   503.0     0.170682     11372.0   \n",
      "\n",
      "   Non-Events_Rate       WoE        IV  \n",
      "0         0.217448  0.040040  0.000356  \n",
      "1         0.217269 -0.085198  0.001512  \n",
      "2         0.223441  0.053977  0.000669  \n",
      "3         0.171900 -0.025162  0.000107  \n",
      "4         0.169942  0.004346  0.000003  \n",
      "Information value of income is 0.042842\n",
      "  Variable         Cutoff Maxval     N  Events  Events_Rate  Non-Events  \\\n",
      "0   income  (-0.501, 6.0]    6.0  7645   451.0     0.153037      7194.0   \n",
      "1   income    (6.0, 11.0]   11.0  6514   314.0     0.106549      6200.0   \n",
      "2   income   (11.0, 17.0]   17.0  7979   363.0     0.123176      7616.0   \n",
      "3   income   (17.0, 22.0]   22.0  6791   320.0     0.108585      6471.0   \n",
      "4   income   (22.0, 27.0]   27.0  6793   283.0     0.096030      6510.0   \n",
      "5   income   (27.0, 32.0]   32.0  6836   298.0     0.101120      6538.0   \n",
      "6   income   (32.0, 37.0]   37.0  6850   251.0     0.085171      6599.0   \n",
      "7   income   (37.0, 42.0]   42.0  6598   214.0     0.072616      6384.0   \n",
      "8   income   (42.0, 49.0]   49.0  7393   265.0     0.089922      7128.0   \n",
      "9   income   (49.0, 60.0]   60.0  6465   188.0     0.063794      6277.0   \n",
      "\n",
      "   Non-Events_Rate       WoE        IV  \n",
      "0         0.107506  0.353130  0.016078  \n",
      "1         0.092652  0.139754  0.001942  \n",
      "2         0.113813  0.079062  0.000740  \n",
      "3         0.096702  0.115900  0.001377  \n",
      "4         0.097285 -0.012982  0.000016  \n",
      "5         0.097703  0.034372  0.000117  \n",
      "6         0.098615 -0.146555  0.001970  \n",
      "7         0.095402 -0.272909  0.006218  \n",
      "8         0.106520 -0.169391  0.002812  \n",
      "9         0.093803 -0.385540  0.011570  \n",
      "Information value of education is 0.000783\n",
      "    Variable        Cutoff        Maxval      N  Events  Events_Rate  \\\n",
      "0  education            10            10    118     5.0     0.001697   \n",
      "1  education      Bachelor      Bachelor  17300   742.0     0.251781   \n",
      "2  education       Masters       Masters  23481   998.0     0.338649   \n",
      "3  education        Others        Others    119     8.0     0.002715   \n",
      "4  education           Phd           Phd   4463   183.0     0.062097   \n",
      "5  education  Professional  Professional  24383  1011.0     0.343061   \n",
      "\n",
      "   Non-Events  Non-Events_Rate       WoE            IV  \n",
      "0       113.0         0.001689  0.004715  3.763656e-08  \n",
      "1     16558.0         0.247441  0.017390  7.548299e-05  \n",
      "2     22483.0         0.335983  0.007904  2.107244e-05  \n",
      "3       111.0         0.001659  0.492577  5.200889e-04  \n",
      "4      4280.0         0.063960 -0.029557  5.505789e-05  \n",
      "5     23372.0         0.349268 -0.017933  1.113265e-04  \n",
      "Information value of profession is 0.002228\n",
      "     Variable   Cutoff   Maxval      N  Events  Events_Rate  Non-Events  \\\n",
      "0  profession      SAL      SAL  39683  1629.0     0.552766     38054.0   \n",
      "1  profession       SE       SE  13925   641.0     0.217509     13284.0   \n",
      "2  profession  SE_PROF  SE_PROF  16256   677.0     0.229725     15579.0   \n",
      "\n",
      "   Non-Events_Rate       WoE        IV  \n",
      "0         0.568675 -0.028375  0.000451  \n",
      "1         0.198515  0.091379  0.001736  \n",
      "2         0.232811 -0.013343  0.000041  \n",
      "Information value of residence_type is 0.000925\n",
      "         Variable               Cutoff               Maxval      N  Events  \\\n",
      "0  residence_type     Company provided     Company provided   1602    73.0   \n",
      "1  residence_type  Living with Parents  Living with Parents   1777    80.0   \n",
      "2  residence_type               Others               Others    198     5.0   \n",
      "3  residence_type                Owned                Owned  14003   593.0   \n",
      "4  residence_type               Rented               Rented  52284  2196.0   \n",
      "\n",
      "   Events_Rate  Non-Events  Non-Events_Rate       WoE        IV  \n",
      "0     0.024771      1529.0         0.022849  0.080756  0.000155  \n",
      "1     0.027146      1697.0         0.025360  0.068075  0.000122  \n",
      "2     0.001697       193.0         0.002884 -0.530587  0.000630  \n",
      "3     0.201222     13410.0         0.200398  0.004104  0.000003  \n",
      "4     0.745165     50088.0         0.748509 -0.004479  0.000015  \n"
     ]
    },
    {
     "name": "stdout",
     "output_type": "stream",
     "text": [
      "Information value of noof_months_in_current_residence is 0.070716\n",
      "                           Variable         Cutoff Maxval      N  Events  \\\n",
      "0  noof_months_in_current_residence  (5.999, 10.0]   10.0  35079  1160.0   \n",
      "1  noof_months_in_current_residence   (10.0, 29.0]   29.0   6922   457.0   \n",
      "2  noof_months_in_current_residence   (29.0, 50.0]   50.0   7162   403.0   \n",
      "3  noof_months_in_current_residence   (50.0, 73.0]   73.0   6937   329.0   \n",
      "4  noof_months_in_current_residence   (73.0, 98.0]   98.0   6924   328.0   \n",
      "5  noof_months_in_current_residence  (98.0, 126.0]  126.0   6840   270.0   \n",
      "\n",
      "   Events_Rate  Non-Events  Non-Events_Rate       WoE        IV  \n",
      "0     0.393621     33919.0         0.506882 -0.252890  0.028643  \n",
      "1     0.155073      6465.0         0.096612  0.473190  0.027663  \n",
      "2     0.136749      6759.0         0.101006  0.302972  0.010829  \n",
      "3     0.111639      6608.0         0.098749  0.122687  0.001581  \n",
      "4     0.111300      6596.0         0.098570  0.121460  0.001546  \n",
      "5     0.091619      6570.0         0.098181 -0.069182  0.000454  \n",
      "Information value of noof_months_in_current_company is 0.022821\n",
      "                         Variable         Cutoff Maxval     N  Events  \\\n",
      "0  noof_months_in_current_company   (2.999, 6.0]    6.0  7655   356.0   \n",
      "1  noof_months_in_current_company    (6.0, 13.0]   13.0  6847   344.0   \n",
      "2  noof_months_in_current_company   (13.0, 20.0]   20.0  6878   350.0   \n",
      "3  noof_months_in_current_company   (20.0, 27.0]   27.0  7035   297.0   \n",
      "4  noof_months_in_current_company   (27.0, 34.0]   34.0  7038   278.0   \n",
      "5  noof_months_in_current_company   (34.0, 41.0]   41.0  7215   310.0   \n",
      "6  noof_months_in_current_company   (41.0, 48.0]   48.0  7224   264.0   \n",
      "7  noof_months_in_current_company   (48.0, 54.0]   54.0  6181   204.0   \n",
      "8  noof_months_in_current_company   (54.0, 62.0]   62.0  7652   259.0   \n",
      "9  noof_months_in_current_company  (62.0, 100.0]  100.0  6139   285.0   \n",
      "\n",
      "   Events_Rate  Non-Events  Non-Events_Rate       WoE            IV  \n",
      "0     0.120801      7299.0         0.109075  0.102103  1.197203e-03  \n",
      "1     0.116729      6503.0         0.097180  0.183288  3.583060e-03  \n",
      "2     0.118765      6528.0         0.097554  0.196743  4.173139e-03  \n",
      "3     0.100780      6738.0         0.100692  0.000879  7.784291e-08  \n",
      "4     0.094333      6760.0         0.101021 -0.068492  4.580347e-04  \n",
      "5     0.105192      6905.0         0.103188  0.019237  3.855374e-05  \n",
      "6     0.089583      6960.0         0.104009 -0.149320  2.154217e-03  \n",
      "7     0.069223      5977.0         0.089320 -0.254889  5.122413e-03  \n",
      "8     0.087886      7393.0         0.110480 -0.228795  5.169442e-03  \n",
      "9     0.096709      5854.0         0.087482  0.100274  9.252297e-04  \n",
      "Information value of 90DPD_6months is 0.162659\n",
      "        Variable  Cutoff  Maxval      N  Events  Events_Rate  Non-Events  \\\n",
      "0  90DPD_6months       0       0  54662  1794.0     0.608755     52868.0   \n",
      "1  90DPD_6months       1       1  13218   970.0     0.329148     12248.0   \n",
      "2  90DPD_6months       2       2   1776   160.0     0.054293      1616.0   \n",
      "3  90DPD_6months       3       3    208    23.0     0.007805       185.0   \n",
      "\n",
      "   Non-Events_Rate       WoE        IV  \n",
      "0         0.790053 -0.260685  0.047262  \n",
      "1         0.183033  0.586843  0.085747  \n",
      "2         0.024149  0.810130  0.024420  \n",
      "3         0.002765  1.037804  0.005230  \n",
      "Information value of 60DPD_6months is 0.211274\n",
      "        Variable  Cutoff  Maxval      N  Events  Events_Rate  Non-Events  \\\n",
      "0  60DPD_6months       0       0  51868  1582.0     0.536817     50286.0   \n",
      "1  60DPD_6months       1       1  11130   783.0     0.265694     10347.0   \n",
      "2  60DPD_6months       2       2   4916   389.0     0.131999      4527.0   \n",
      "3  60DPD_6months       3       3   1469   148.0     0.050221      1321.0   \n",
      "4  60DPD_6months       4       4    411    39.0     0.013234       372.0   \n",
      "5  60DPD_6months       5       5     70     6.0     0.002036        64.0   \n",
      "\n",
      "   Non-Events_Rate       WoE        IV  \n",
      "0         0.751468 -0.336371  0.072203  \n",
      "1         0.154624  0.541346  0.060127  \n",
      "2         0.067651  0.668430  0.043012  \n",
      "3         0.019741  0.933733  0.028460  \n",
      "4         0.005559  0.867333  0.006656  \n",
      "5         0.000956  0.755542  0.000816  \n",
      "Information value of 30DPD_6months is 0.24425\n",
      "        Variable  Cutoff  Maxval      N  Events  Events_Rate  Non-Events  \\\n",
      "0  30DPD_6months       0       0  50096  1455.0     0.493722     48641.0   \n",
      "1  30DPD_6months       1       1   9500   622.0     0.211062      8878.0   \n",
      "2  30DPD_6months       2       2   5897   466.0     0.158127      5431.0   \n",
      "3  30DPD_6months       3       3   2829   245.0     0.083135      2584.0   \n",
      "4  30DPD_6months       4       4   1045   107.0     0.036308       938.0   \n",
      "5  30DPD_6months       5       5    386    43.0     0.014591       343.0   \n",
      "6  30DPD_6months       6       6     96     8.0     0.002715        88.0   \n",
      "7  30DPD_6months       7       7     15     1.0     0.000339        14.0   \n",
      "\n",
      "   Non-Events_Rate       WoE        IV  \n",
      "0         0.726886 -0.386796  0.090186  \n",
      "1         0.132672  0.464274  0.036395  \n",
      "2         0.081160  0.666972  0.051335  \n",
      "3         0.038615  0.766830  0.034140  \n",
      "4         0.014017  0.951744  0.021215  \n",
      "5         0.005126  1.046135  0.009902  \n",
      "6         0.001315  0.724770  0.001014  \n",
      "7         0.000209  0.483608  0.000063  \n",
      "Information value of 90DPD_12months is 0.215653\n",
      "         Variable  Cutoff  Maxval      N  Events  Events_Rate  Non-Events  \\\n",
      "0  90DPD_12months       0       0  50490  1510.0     0.512385     48980.0   \n",
      "1  90DPD_12months       1       1  11663   796.0     0.270105     10867.0   \n",
      "2  90DPD_12months       2       2   6159   488.0     0.165592      5671.0   \n",
      "3  90DPD_12months       3       3   1244   120.0     0.040719      1124.0   \n",
      "4  90DPD_12months       4       4    272    28.0     0.009501       244.0   \n",
      "5  90DPD_12months       5       5     36     5.0     0.001697        31.0   \n",
      "\n",
      "   Non-Events_Rate       WoE        IV  \n",
      "0         0.731952 -0.356637  0.078305  \n",
      "1         0.162395  0.508779  0.054801  \n",
      "2         0.084747  0.669860  0.054155  \n",
      "3         0.016797  0.885508  0.021184  \n",
      "4         0.003646  0.957702  0.005607  \n",
      "5         0.000463  1.298116  0.001601  \n",
      "Information value of 60DPD_12months is 0.188231\n",
      "         Variable  Cutoff  Maxval      N  Events  Events_Rate  Non-Events  \\\n",
      "0  60DPD_12months       0       0  45866  1378.0     0.467594     44488.0   \n",
      "1  60DPD_12months       1       1  12816   663.0     0.224975     12153.0   \n",
      "2  60DPD_12months       2       2   6413   482.0     0.163556      5931.0   \n",
      "3  60DPD_12months       3       3   3205   274.0     0.092976      2931.0   \n",
      "4  60DPD_12months       4       4   1048   101.0     0.034272       947.0   \n",
      "5  60DPD_12months       5       5    398    36.0     0.012216       362.0   \n",
      "6  60DPD_12months       6       6    111    13.0     0.004411        98.0   \n",
      "7  60DPD_12months       7       7      7     0.0     0.000170         7.0   \n",
      "\n",
      "   Non-Events_Rate       WoE        IV  \n",
      "0         0.664824 -0.351921  0.069409  \n",
      "1         0.181613  0.214109  0.009284  \n",
      "2         0.088632  0.612661  0.045903  \n",
      "3         0.043801  0.752695  0.037014  \n",
      "4         0.014152  0.884487  0.017796  \n",
      "5         0.005410  0.814540  0.005544  \n",
      "6         0.001465  1.102647  0.003249  \n",
      "7         0.000105  0.483608  0.000031  \n",
      "Information value of 30DPD_12months is 0.21861\n",
      "         Variable  Cutoff  Maxval      N  Events  Events_Rate  Non-Events  \\\n",
      "0  30DPD_12months       0       0  44855  1316.0     0.446556     43539.0   \n",
      "1  30DPD_12months       1       1  11474   518.0     0.175772     10956.0   \n",
      "2  30DPD_12months       2       2   6116   451.0     0.153037      5665.0   \n",
      "3  30DPD_12months       3       3   4135   349.0     0.118426      3786.0   \n",
      "4  30DPD_12months       4       4   1924   173.0     0.058704      1751.0   \n",
      "5  30DPD_12months       5       5    853    89.0     0.030200       764.0   \n",
      "6  30DPD_12months       6       6    376    38.0     0.012894       338.0   \n",
      "7  30DPD_12months       7       7    107    11.0     0.003733        96.0   \n",
      "8  30DPD_12months       8       8     23     2.0     0.000679        21.0   \n",
      "9  30DPD_12months       9       9      1     0.0     0.000170         1.0   \n",
      "\n",
      "   Non-Events_Rate       WoE        IV  \n",
      "0         0.650642 -0.376395  0.076817  \n",
      "1         0.163725  0.070998  0.000855  \n",
      "2         0.084657  0.592071  0.040486  \n",
      "3         0.056578  0.738672  0.045685  \n",
      "4         0.026167  0.808015  0.026290  \n",
      "5         0.011417  0.972734  0.018271  \n",
      "6         0.005051  0.937206  0.007351  \n",
      "7         0.001435  0.956212  0.002197  \n",
      "8         0.000314  0.771290  0.000281  \n",
      "9         0.000015  2.429518  0.000376  \n",
      "Information value of avg_ccutil_12months is 0.321858\n"
     ]
    },
    {
     "name": "stdout",
     "output_type": "stream",
     "text": [
      "              Variable         Cutoff Maxval     N  Events  Events_Rate  \\\n",
      "0  avg_ccutil_12months  (-0.001, 5.0]    5.0  8021   145.0     0.050017   \n",
      "1  avg_ccutil_12months     (5.0, 7.0]    7.0  6358   126.0     0.043463   \n",
      "2  avg_ccutil_12months     (7.0, 9.0]    9.0  6967   145.0     0.050017   \n",
      "3  avg_ccutil_12months    (9.0, 12.0]   12.0  8677   203.0     0.070024   \n",
      "4  avg_ccutil_12months   (12.0, 15.0]   15.0  5528   156.0     0.053812   \n",
      "5  avg_ccutil_12months   (15.0, 22.0]   22.0  5939   256.0     0.088306   \n",
      "6  avg_ccutil_12months   (22.0, 38.0]   38.0  6994   474.0     0.163505   \n",
      "7  avg_ccutil_12months   (38.0, 52.0]   52.0  6710   486.0     0.167644   \n",
      "8  avg_ccutil_12months   (52.0, 72.0]   72.0  6846   504.0     0.173853   \n",
      "9  avg_ccutil_12months  (72.0, 113.0]  113.0  6801   404.0     0.139358   \n",
      "\n",
      "   Non-Events  Non-Events_Rate       WoE        IV  \n",
      "0      7876.0         0.119438 -0.870432  0.060426  \n",
      "1      6232.0         0.094507 -0.776761  0.039649  \n",
      "2      6822.0         0.103455 -0.726765  0.038836  \n",
      "3      8474.0         0.128507 -0.607142  0.035507  \n",
      "4      5372.0         0.081466 -0.414690  0.011468  \n",
      "5      5683.0         0.086182  0.024353  0.000052  \n",
      "6      6520.0         0.098875  0.502987  0.032508  \n",
      "7      6224.0         0.094386  0.574450  0.042083  \n",
      "8      6342.0         0.096175  0.592037  0.045988  \n",
      "9      6397.0         0.097009  0.362240  0.015340  \n",
      "Information value of trades_opened_6months is 0.187286\n",
      "                Variable         Cutoff Maxval      N  Events  Events_Rate  \\\n",
      "0  trades_opened_6months  (-0.001, 1.0]    1.0  32314   806.0     0.273498   \n",
      "1  trades_opened_6months     (1.0, 2.0]    2.0  12115   638.0     0.216491   \n",
      "2  trades_opened_6months     (2.0, 3.0]    3.0   9402   599.0     0.203258   \n",
      "3  trades_opened_6months     (3.0, 4.0]    4.0   6297   436.0     0.147947   \n",
      "4  trades_opened_6months     (4.0, 5.0]    5.0   3665   212.0     0.071938   \n",
      "5  trades_opened_6months    (5.0, 12.0]   12.0   6071   256.0     0.086868   \n",
      "\n",
      "   Non-Events  Non-Events_Rate       WoE            IV  \n",
      "0     31508.0         0.470852 -0.543248  1.072118e-01  \n",
      "1     11477.0         0.171511  0.232903  1.047608e-02  \n",
      "2      8803.0         0.131551  0.435079  3.119801e-02  \n",
      "3      5861.0         0.087586  0.524232  3.164315e-02  \n",
      "4      3453.0         0.051601  0.332253  6.756804e-03  \n",
      "5      5815.0         0.086899 -0.000353  1.084355e-08  \n",
      "Information value of trades_opened_12months is 0.293562\n",
      "                 Variable         Cutoff Maxval      N  Events  Events_Rate  \\\n",
      "0  trades_opened_12months  (-0.001, 1.0]    1.0  16332   289.0     0.098066   \n",
      "1  trades_opened_12months     (1.0, 2.0]    2.0   9322   178.0     0.060400   \n",
      "2  trades_opened_12months     (2.0, 3.0]    3.0   4678   198.0     0.067187   \n",
      "3  trades_opened_12months     (3.0, 4.0]    4.0   4850   208.0     0.070580   \n",
      "4  trades_opened_12months     (4.0, 6.0]    6.0   8753   499.0     0.169325   \n",
      "5  trades_opened_12months     (6.0, 8.0]    8.0   7889   573.0     0.194435   \n",
      "6  trades_opened_12months    (8.0, 10.0]   10.0   6192   413.0     0.140143   \n",
      "7  trades_opened_12months   (10.0, 13.0]   13.0   5255   325.0     0.110282   \n",
      "8  trades_opened_12months   (13.0, 28.0]   28.0   6593   264.0     0.089583   \n",
      "\n",
      "   Non-Events  Non-Events_Rate       WoE            IV  \n",
      "0     16043.0         0.239745 -0.893936  1.266519e-01  \n",
      "1      9144.0         0.136647 -0.816404  6.224796e-02  \n",
      "2      4480.0         0.066949  0.003554  8.471491e-07  \n",
      "3      4642.0         0.069370  0.017303  2.094912e-05  \n",
      "4      8254.0         0.123347  0.316818  1.456664e-02  \n",
      "5      7316.0         0.109329  0.575732  4.899799e-02  \n",
      "6      5779.0         0.086361  0.484127  2.603722e-02  \n",
      "7      4930.0         0.073673  0.403396  1.476765e-02  \n",
      "8      6329.0         0.094580 -0.054283  2.712648e-04  \n",
      "Information value of PLtrades_opened_6months is 0.22422\n",
      "                  Variable  Cutoff  Maxval      N  Events  Events_Rate  \\\n",
      "0  PLtrades_opened_6months       0       0  31078   699.0     0.237190   \n",
      "1  PLtrades_opened_6months       1       1  13545   691.0     0.234476   \n",
      "2  PLtrades_opened_6months       2       2  12565   803.0     0.272480   \n",
      "3  PLtrades_opened_6months       3       3   7949   501.0     0.170003   \n",
      "4  PLtrades_opened_6months       4       4   3341   197.0     0.066848   \n",
      "5  PLtrades_opened_6months       5       5   1090    48.0     0.016288   \n",
      "6  PLtrades_opened_6months       6       6    296     8.0     0.002715   \n",
      "\n",
      "   Non-Events  Non-Events_Rate       WoE        IV  \n",
      "0     30379.0         0.453980 -0.649191  0.140738  \n",
      "1     12854.0         0.192089  0.199395  0.008452  \n",
      "2     11762.0         0.175770  0.438391  0.042397  \n",
      "3      7448.0         0.111302  0.423571  0.024864  \n",
      "4      3144.0         0.046984  0.352618  0.007004  \n",
      "5      1042.0         0.015572  0.044969  0.000032  \n",
      "6       288.0         0.004304 -0.460854  0.000732  \n",
      "Information value of PLtrades_opened_12months is 0.258546\n",
      "                   Variable         Cutoff Maxval      N  Events  Events_Rate  \\\n",
      "0  PLtrades_opened_12months  (-0.001, 1.0]    1.0  32463   704.0     0.238887   \n",
      "1  PLtrades_opened_12months     (1.0, 2.0]    2.0   6830   366.0     0.124194   \n",
      "2  PLtrades_opened_12months     (2.0, 3.0]    3.0   8130   507.0     0.172039   \n",
      "3  PLtrades_opened_12months     (3.0, 4.0]    4.0   7902   535.0     0.181541   \n",
      "4  PLtrades_opened_12months     (4.0, 5.0]    5.0   6189   391.0     0.132677   \n",
      "5  PLtrades_opened_12months     (5.0, 6.0]    6.0   4023   243.0     0.082457   \n",
      "6  PLtrades_opened_12months    (6.0, 12.0]   12.0   4327   201.0     0.068205   \n",
      "\n",
      "   Non-Events  Non-Events_Rate       WoE        IV  \n",
      "0     31759.0         0.474603 -0.686488  0.161816  \n",
      "1      6464.0         0.096597  0.251295  0.006935  \n",
      "2      7623.0         0.113917  0.412251  0.023961  \n",
      "3      7367.0         0.110092  0.500166  0.035736  \n",
      "4      5798.0         0.086645  0.426105  0.019615  \n",
      "5      3780.0         0.056488  0.378247  0.009823  \n",
      "6      4126.0         0.061658  0.100907  0.000661  \n",
      "Information value of inquiries_6months is 0.11337\n",
      "            Variable         Cutoff Maxval      N  Events  Events_Rate  \\\n",
      "0  inquiries_6months  (-0.001, 1.0]    1.0  38243  1185.0     0.402104   \n",
      "1  inquiries_6months     (1.0, 2.0]    2.0  12830   665.0     0.225653   \n",
      "2  inquiries_6months     (2.0, 3.0]    3.0   7257   517.0     0.175433   \n",
      "3  inquiries_6months     (3.0, 5.0]    5.0   7267   419.0     0.142178   \n",
      "4  inquiries_6months    (5.0, 10.0]   10.0   4267   161.0     0.054632   \n",
      "\n",
      "   Non-Events  Non-Events_Rate       WoE        IV  \n",
      "0     37058.0         0.553791 -0.320076  0.048551  \n",
      "1     12165.0         0.181792  0.216134  0.009480  \n",
      "2      6740.0         0.100722  0.554893  0.041457  \n",
      "3      6848.0         0.102336  0.328824  0.013101  \n",
      "4      4106.0         0.061360 -0.116135  0.000781  \n",
      "Information value of inquiries_12months is 0.245249\n",
      "             Variable         Cutoff Maxval      N  Events  Events_Rate  \\\n",
      "0  inquiries_12months  (-0.001, 1.0]    1.0  24479   462.0     0.156770   \n",
      "1  inquiries_12months     (1.0, 2.0]    2.0   7906   382.0     0.129623   \n",
      "2  inquiries_12months     (2.0, 3.0]    3.0   8978   443.0     0.150322   \n",
      "3  inquiries_12months     (3.0, 4.0]    4.0   7113   380.0     0.128945   \n",
      "4  inquiries_12months     (4.0, 5.0]    5.0   4926   362.0     0.122837   \n",
      "5  inquiries_12months     (5.0, 6.0]    6.0   3614   247.0     0.083814   \n",
      "6  inquiries_12months     (6.0, 9.0]    9.0   7114   421.0     0.142857   \n",
      "7  inquiries_12months    (9.0, 20.0]   20.0   5734   250.0     0.084832   \n",
      "\n",
      "   Non-Events  Non-Events_Rate       WoE        IV  \n",
      "0     24017.0         0.358907 -0.828287  0.167428  \n",
      "1      7524.0         0.112438  0.142233  0.002444  \n",
      "2      8535.0         0.127546  0.164304  0.003742  \n",
      "3      6733.0         0.100617  0.248061  0.007027  \n",
      "4      4564.0         0.068204  0.588355  0.032144  \n",
      "5      3367.0         0.050316  0.510276  0.017093  \n",
      "6      6693.0         0.100019  0.356481  0.015271  \n",
      "7      5484.0         0.081952  0.034536  0.000099  \n",
      "Information value of open_homeloan is 0.017627\n",
      "        Variable  Cutoff  Maxval      N  Events  Events_Rate  Non-Events  \\\n",
      "0  open_homeloan       0       0  51521  2332.0     0.791313     49189.0   \n",
      "1  open_homeloan       1       1  18071   607.0     0.205972     17464.0   \n",
      "2  open_homeloan      10      10    272     8.0     0.002715       264.0   \n",
      "\n",
      "   Non-Events_Rate       WoE        IV  \n",
      "0         0.735075  0.073722  0.004146  \n",
      "1         0.260980 -0.236703  0.013021  \n",
      "2         0.003945 -0.373842  0.000460  \n"
     ]
    },
    {
     "name": "stdout",
     "output_type": "stream",
     "text": [
      "Information value of outstanding_balance is 0.246663\n",
      "              Variable                  Cutoff     Maxval     N  Events  \\\n",
      "0  outstanding_balance        (-0.001, 6847.1]     6847.1  6960   139.0   \n",
      "1  outstanding_balance       (6847.1, 25529.6]    25529.6  6959   120.0   \n",
      "2  outstanding_balance     (25529.6, 386849.3]   386849.3  6959   258.0   \n",
      "3  outstanding_balance    (386849.3, 585455.8]   585455.8  6959   374.0   \n",
      "4  outstanding_balance    (585455.8, 774242.0]   774242.0  6959   451.0   \n",
      "5  outstanding_balance    (774242.0, 972469.4]   972469.4  6959   443.0   \n",
      "6  outstanding_balance   (972469.4, 1357433.7]  1357433.7  6959   431.0   \n",
      "7  outstanding_balance  (1357433.7, 2961006.6]  2961006.6  6959   203.0   \n",
      "8  outstanding_balance  (2961006.6, 3282399.5]  3282399.5  6959   131.0   \n",
      "9  outstanding_balance  (3282399.5, 5218801.0]  5218801.0  6960   389.0   \n",
      "\n",
      "   Events_Rate  Non-Events  Non-Events_Rate       WoE        IV  \n",
      "0     0.047295      6821.0         0.102336 -0.771857  0.042484  \n",
      "1     0.040830      6839.0         0.102606 -0.921474  0.056925  \n",
      "2     0.087785      6701.0         0.100536 -0.135622  0.001729  \n",
      "3     0.127254      6585.0         0.098795  0.253137  0.007204  \n",
      "4     0.153454      6508.0         0.097640  0.452111  0.025234  \n",
      "5     0.150732      6516.0         0.097760  0.432984  0.022936  \n",
      "6     0.146649      6528.0         0.097940  0.403683  0.019663  \n",
      "7     0.069071      6756.0         0.101361 -0.383550  0.012385  \n",
      "8     0.044573      6828.0         0.102441 -0.832159  0.048155  \n",
      "9     0.132358      6571.0         0.098585  0.294589  0.009949  \n",
      "Information value of total_trades is 0.232262\n",
      "       Variable         Cutoff Maxval      N  Events  Events_Rate  Non-Events  \\\n",
      "0  total_trades  (-0.001, 2.0]    2.0  10679   192.0     0.065151     10487.0   \n",
      "1  total_trades     (2.0, 3.0]    3.0   8614   184.0     0.062436      8430.0   \n",
      "2  total_trades     (3.0, 4.0]    4.0   7490   205.0     0.069562      7285.0   \n",
      "3  total_trades     (4.0, 5.0]    5.0   5714   230.0     0.078045      5484.0   \n",
      "4  total_trades     (5.0, 6.0]    6.0   4966   237.0     0.080421      4729.0   \n",
      "5  total_trades     (6.0, 7.0]    7.0   4827   270.0     0.091619      4557.0   \n",
      "6  total_trades     (7.0, 9.0]    9.0   8439   578.0     0.196132      7861.0   \n",
      "7  total_trades    (9.0, 11.0]   11.0   5730   384.0     0.130302      5346.0   \n",
      "8  total_trades   (11.0, 20.0]   20.0   6587   397.0     0.134713      6190.0   \n",
      "9  total_trades   (20.0, 21.0]   21.0   6818   270.0     0.091619      6548.0   \n",
      "\n",
      "   Non-Events_Rate       WoE        IV  \n",
      "0         0.156717 -0.877731  0.080370  \n",
      "1         0.125977 -0.701951  0.044602  \n",
      "2         0.108866 -0.447897  0.017604  \n",
      "3         0.081952 -0.048845  0.000191  \n",
      "4         0.070670  0.129256  0.001260  \n",
      "5         0.068099  0.296668  0.006977  \n",
      "6         0.117474  0.512570  0.040318  \n",
      "7         0.079890  0.489204  0.024662  \n",
      "8         0.092503  0.375911  0.015867  \n",
      "9         0.097853 -0.065828  0.000410  \n",
      "Information value of open_autoloan is 0.001655\n",
      "        Variable  Cutoff  Maxval      N  Events  Events_Rate  Non-Events  \\\n",
      "0  open_autoloan       0       0  63935  2728.0     0.925687     61207.0   \n",
      "1  open_autoloan       1       1   5929   219.0     0.074313      5710.0   \n",
      "\n",
      "   Non-Events_Rate       WoE        IV  \n",
      "0          0.91467  0.011973  0.000132  \n",
      "1          0.08533 -0.138237  0.001523  \n"
     ]
    }
   ],
   "source": [
    "# deriving the WOE and IV values for our dataset\n",
    "credx_iv, credx_woe = iv_woe_func(data=credx_df, target='defaulted', bins=10, show_woe=True)"
   ]
  },
  {
   "cell_type": "markdown",
   "metadata": {},
   "source": [
    "Therefore, we now have WOE values for the NULLs in two of the variables; also for the remaining two continous variables(avg_ccutil_12months & outstanding_balance) with NULL values, let's calculate the WOEs."
   ]
  },
  {
   "cell_type": "code",
   "execution_count": 345,
   "metadata": {},
   "outputs": [
    {
     "name": "stdout",
     "output_type": "stream",
     "text": [
      "defaulted    0.111429\n",
      "dtype: float64\n"
     ]
    }
   ],
   "source": [
    "# calculating WOE for avg_ccutil_12months column's NULL values\n",
    "n = credx_df['avg_ccutil_12months'].isnull().sum()\n",
    "events = credx_df.loc[credx_df['avg_ccutil_12months'].isnull(), ['defaulted']].sum()\n",
    "non_events = n - events\n",
    "total_events = credx_df['defaulted'].sum()\n",
    "total_non_events = credx_df.loc[credx_df['defaulted']==0, ['defaulted']].count()\n",
    "event_rate = np.maximum(events, 0.5) / total_events\n",
    "non_events_rate = np.maximum(non_events, 0.5) / total_non_events\n",
    "woe = np.log(event_rate/non_events_rate)\n",
    "\n",
    "print(woe)"
   ]
  },
  {
   "cell_type": "code",
   "execution_count": 346,
   "metadata": {
    "scrolled": true
   },
   "outputs": [
    {
     "name": "stdout",
     "output_type": "stream",
     "text": [
      "defaulted   -0.373842\n",
      "dtype: float64\n"
     ]
    }
   ],
   "source": [
    "# calculating WOE for outstanding_balance column's NULL values\n",
    "n = credx_df['outstanding_balance'].isnull().sum()\n",
    "events = credx_df.loc[credx_df['outstanding_balance'].isnull(), ['defaulted']].sum()\n",
    "non_events = n - events\n",
    "total_events = credx_df['defaulted'].sum()\n",
    "total_non_events = credx_df.loc[credx_df['defaulted']==0, ['defaulted']].count()\n",
    "event_rate = np.maximum(events, 0.5) / total_events\n",
    "non_events_rate = np.maximum(non_events, 0.5) / total_non_events\n",
    "woe = np.log(event_rate/non_events_rate)\n",
    "\n",
    "print(woe)"
   ]
  },
  {
   "cell_type": "code",
   "execution_count": 347,
   "metadata": {
    "scrolled": true
   },
   "outputs": [
    {
     "data": {
      "text/html": [
       "<div>\n",
       "<style scoped>\n",
       "    .dataframe tbody tr th:only-of-type {\n",
       "        vertical-align: middle;\n",
       "    }\n",
       "\n",
       "    .dataframe tbody tr th {\n",
       "        vertical-align: top;\n",
       "    }\n",
       "\n",
       "    .dataframe thead th {\n",
       "        text-align: right;\n",
       "    }\n",
       "</style>\n",
       "<table border=\"1\" class=\"dataframe\">\n",
       "  <thead>\n",
       "    <tr style=\"text-align: right;\">\n",
       "      <th></th>\n",
       "      <th>Variable</th>\n",
       "      <th>IV</th>\n",
       "    </tr>\n",
       "  </thead>\n",
       "  <tbody>\n",
       "    <tr>\n",
       "      <th>0</th>\n",
       "      <td>marital_status</td>\n",
       "      <td>0.000096</td>\n",
       "    </tr>\n",
       "    <tr>\n",
       "      <th>0</th>\n",
       "      <td>gender</td>\n",
       "      <td>0.000326</td>\n",
       "    </tr>\n",
       "    <tr>\n",
       "      <th>0</th>\n",
       "      <td>education</td>\n",
       "      <td>0.000783</td>\n",
       "    </tr>\n",
       "    <tr>\n",
       "      <th>0</th>\n",
       "      <td>residence_type</td>\n",
       "      <td>0.000925</td>\n",
       "    </tr>\n",
       "    <tr>\n",
       "      <th>0</th>\n",
       "      <td>application_id</td>\n",
       "      <td>0.001480</td>\n",
       "    </tr>\n",
       "    <tr>\n",
       "      <th>0</th>\n",
       "      <td>open_autoloan</td>\n",
       "      <td>0.001655</td>\n",
       "    </tr>\n",
       "    <tr>\n",
       "      <th>0</th>\n",
       "      <td>profession</td>\n",
       "      <td>0.002228</td>\n",
       "    </tr>\n",
       "    <tr>\n",
       "      <th>0</th>\n",
       "      <td>noof_dependents</td>\n",
       "      <td>0.002647</td>\n",
       "    </tr>\n",
       "    <tr>\n",
       "      <th>0</th>\n",
       "      <td>age</td>\n",
       "      <td>0.004142</td>\n",
       "    </tr>\n",
       "    <tr>\n",
       "      <th>0</th>\n",
       "      <td>open_homeloan</td>\n",
       "      <td>0.017627</td>\n",
       "    </tr>\n",
       "    <tr>\n",
       "      <th>0</th>\n",
       "      <td>noof_months_in_current_company</td>\n",
       "      <td>0.022821</td>\n",
       "    </tr>\n",
       "    <tr>\n",
       "      <th>0</th>\n",
       "      <td>income</td>\n",
       "      <td>0.042842</td>\n",
       "    </tr>\n",
       "    <tr>\n",
       "      <th>0</th>\n",
       "      <td>noof_months_in_current_residence</td>\n",
       "      <td>0.070716</td>\n",
       "    </tr>\n",
       "    <tr>\n",
       "      <th>0</th>\n",
       "      <td>inquiries_6months</td>\n",
       "      <td>0.113370</td>\n",
       "    </tr>\n",
       "    <tr>\n",
       "      <th>0</th>\n",
       "      <td>90DPD_6months</td>\n",
       "      <td>0.162659</td>\n",
       "    </tr>\n",
       "    <tr>\n",
       "      <th>0</th>\n",
       "      <td>trades_opened_6months</td>\n",
       "      <td>0.187286</td>\n",
       "    </tr>\n",
       "    <tr>\n",
       "      <th>0</th>\n",
       "      <td>60DPD_12months</td>\n",
       "      <td>0.188231</td>\n",
       "    </tr>\n",
       "    <tr>\n",
       "      <th>0</th>\n",
       "      <td>60DPD_6months</td>\n",
       "      <td>0.211274</td>\n",
       "    </tr>\n",
       "    <tr>\n",
       "      <th>0</th>\n",
       "      <td>90DPD_12months</td>\n",
       "      <td>0.215653</td>\n",
       "    </tr>\n",
       "    <tr>\n",
       "      <th>0</th>\n",
       "      <td>30DPD_12months</td>\n",
       "      <td>0.218610</td>\n",
       "    </tr>\n",
       "    <tr>\n",
       "      <th>0</th>\n",
       "      <td>PLtrades_opened_6months</td>\n",
       "      <td>0.224220</td>\n",
       "    </tr>\n",
       "    <tr>\n",
       "      <th>0</th>\n",
       "      <td>total_trades</td>\n",
       "      <td>0.232262</td>\n",
       "    </tr>\n",
       "    <tr>\n",
       "      <th>0</th>\n",
       "      <td>30DPD_6months</td>\n",
       "      <td>0.244250</td>\n",
       "    </tr>\n",
       "    <tr>\n",
       "      <th>0</th>\n",
       "      <td>inquiries_12months</td>\n",
       "      <td>0.245249</td>\n",
       "    </tr>\n",
       "    <tr>\n",
       "      <th>0</th>\n",
       "      <td>outstanding_balance</td>\n",
       "      <td>0.246663</td>\n",
       "    </tr>\n",
       "    <tr>\n",
       "      <th>0</th>\n",
       "      <td>PLtrades_opened_12months</td>\n",
       "      <td>0.258546</td>\n",
       "    </tr>\n",
       "    <tr>\n",
       "      <th>0</th>\n",
       "      <td>trades_opened_12months</td>\n",
       "      <td>0.293562</td>\n",
       "    </tr>\n",
       "    <tr>\n",
       "      <th>0</th>\n",
       "      <td>avg_ccutil_12months</td>\n",
       "      <td>0.321858</td>\n",
       "    </tr>\n",
       "  </tbody>\n",
       "</table>\n",
       "</div>"
      ],
      "text/plain": [
       "                           Variable        IV\n",
       "0                    marital_status  0.000096\n",
       "0                            gender  0.000326\n",
       "0                         education  0.000783\n",
       "0                    residence_type  0.000925\n",
       "0                    application_id  0.001480\n",
       "0                     open_autoloan  0.001655\n",
       "0                        profession  0.002228\n",
       "0                   noof_dependents  0.002647\n",
       "0                               age  0.004142\n",
       "0                     open_homeloan  0.017627\n",
       "0    noof_months_in_current_company  0.022821\n",
       "0                            income  0.042842\n",
       "0  noof_months_in_current_residence  0.070716\n",
       "0                 inquiries_6months  0.113370\n",
       "0                     90DPD_6months  0.162659\n",
       "0             trades_opened_6months  0.187286\n",
       "0                    60DPD_12months  0.188231\n",
       "0                     60DPD_6months  0.211274\n",
       "0                    90DPD_12months  0.215653\n",
       "0                    30DPD_12months  0.218610\n",
       "0           PLtrades_opened_6months  0.224220\n",
       "0                      total_trades  0.232262\n",
       "0                     30DPD_6months  0.244250\n",
       "0                inquiries_12months  0.245249\n",
       "0               outstanding_balance  0.246663\n",
       "0          PLtrades_opened_12months  0.258546\n",
       "0            trades_opened_12months  0.293562\n",
       "0               avg_ccutil_12months  0.321858"
      ]
     },
     "execution_count": 347,
     "metadata": {},
     "output_type": "execute_result"
    }
   ],
   "source": [
    "credx_iv.sort_values('IV')"
   ]
  },
  {
   "cell_type": "markdown",
   "metadata": {},
   "source": [
    "As we can see from above IV table, following is the predictive power description for each column.\n",
    "\n",
    "| Predictive Power | Variable Names |\n",
    "| --------------   | -------------- |\n",
    "| **Useless for Prediction**      | *marital_status, gender, education, residence_type, application_id, open_autoloan, profession, noof_dependents, age, open_homeloan*   |\n",
    "| **Weak Predictors**   | *noof_months_in_current_company, income, noof_months_in_current_residence*  |\n",
    "| **Medium Predictors**   | *inquiries_6months, 90DPD_6months, trades_opened_6months, 60DPD_12months, 60DPD_6months, 90DPD_12months, 30DPD_12months, PLtrades_opened_6months, total_trades, outstanding_balance, 30DPD_6months, inquiries_12months, PLtrades_opened_12months, trades_opened_12months*  |\n",
    "| **Strong Predictors**   | *avg_ccutil_12months*  |\n",
    "\n",
    "That is, 13 out of the 28 independent variables are too low in terms of their predictive power, one(`application_id`) out of which is very obvious though."
   ]
  },
  {
   "cell_type": "code",
   "execution_count": 348,
   "metadata": {
    "scrolled": true
   },
   "outputs": [
    {
     "data": {
      "text/html": [
       "<div>\n",
       "<style scoped>\n",
       "    .dataframe tbody tr th:only-of-type {\n",
       "        vertical-align: middle;\n",
       "    }\n",
       "\n",
       "    .dataframe tbody tr th {\n",
       "        vertical-align: top;\n",
       "    }\n",
       "\n",
       "    .dataframe thead th {\n",
       "        text-align: right;\n",
       "    }\n",
       "</style>\n",
       "<table border=\"1\" class=\"dataframe\">\n",
       "  <thead>\n",
       "    <tr style=\"text-align: right;\">\n",
       "      <th></th>\n",
       "      <th>Variable</th>\n",
       "      <th>Cutoff</th>\n",
       "      <th>Maxval</th>\n",
       "      <th>N</th>\n",
       "      <th>Events</th>\n",
       "      <th>Events_Rate</th>\n",
       "      <th>Non-Events</th>\n",
       "      <th>Non-Events_Rate</th>\n",
       "      <th>WoE</th>\n",
       "      <th>IV</th>\n",
       "    </tr>\n",
       "  </thead>\n",
       "  <tbody>\n",
       "    <tr>\n",
       "      <th>0</th>\n",
       "      <td>application_id</td>\n",
       "      <td>(100449.999, 99488056.4]</td>\n",
       "      <td>9.94881e+07</td>\n",
       "      <td>6987</td>\n",
       "      <td>292.0</td>\n",
       "      <td>0.099084</td>\n",
       "      <td>6695.0</td>\n",
       "      <td>0.100049</td>\n",
       "      <td>-0.009697</td>\n",
       "      <td>9.362571e-06</td>\n",
       "    </tr>\n",
       "    <tr>\n",
       "      <th>1</th>\n",
       "      <td>application_id</td>\n",
       "      <td>(99488056.4, 199459947.4]</td>\n",
       "      <td>1.9946e+08</td>\n",
       "      <td>6986</td>\n",
       "      <td>276.0</td>\n",
       "      <td>0.093655</td>\n",
       "      <td>6710.0</td>\n",
       "      <td>0.100273</td>\n",
       "      <td>-0.068288</td>\n",
       "      <td>4.519922e-04</td>\n",
       "    </tr>\n",
       "    <tr>\n",
       "      <th>2</th>\n",
       "      <td>application_id</td>\n",
       "      <td>(199459947.4, 298561024.0]</td>\n",
       "      <td>2.98561e+08</td>\n",
       "      <td>6986</td>\n",
       "      <td>305.0</td>\n",
       "      <td>0.103495</td>\n",
       "      <td>6681.0</td>\n",
       "      <td>0.099840</td>\n",
       "      <td>0.035954</td>\n",
       "      <td>1.314117e-04</td>\n",
       "    </tr>\n",
       "    <tr>\n",
       "      <th>3</th>\n",
       "      <td>application_id</td>\n",
       "      <td>(298561024.0, 399368856.6]</td>\n",
       "      <td>3.99369e+08</td>\n",
       "      <td>6987</td>\n",
       "      <td>295.0</td>\n",
       "      <td>0.100102</td>\n",
       "      <td>6692.0</td>\n",
       "      <td>0.100004</td>\n",
       "      <td>0.000973</td>\n",
       "      <td>9.465233e-08</td>\n",
       "    </tr>\n",
       "    <tr>\n",
       "      <th>4</th>\n",
       "      <td>application_id</td>\n",
       "      <td>(399368856.6, 497955643.5]</td>\n",
       "      <td>4.97956e+08</td>\n",
       "      <td>6986</td>\n",
       "      <td>312.0</td>\n",
       "      <td>0.105870</td>\n",
       "      <td>6674.0</td>\n",
       "      <td>0.099735</td>\n",
       "      <td>0.059694</td>\n",
       "      <td>3.662149e-04</td>\n",
       "    </tr>\n",
       "  </tbody>\n",
       "</table>\n",
       "</div>"
      ],
      "text/plain": [
       "         Variable                      Cutoff       Maxval     N  Events  \\\n",
       "0  application_id    (100449.999, 99488056.4]  9.94881e+07  6987   292.0   \n",
       "1  application_id   (99488056.4, 199459947.4]   1.9946e+08  6986   276.0   \n",
       "2  application_id  (199459947.4, 298561024.0]  2.98561e+08  6986   305.0   \n",
       "3  application_id  (298561024.0, 399368856.6]  3.99369e+08  6987   295.0   \n",
       "4  application_id  (399368856.6, 497955643.5]  4.97956e+08  6986   312.0   \n",
       "\n",
       "   Events_Rate  Non-Events  Non-Events_Rate       WoE            IV  \n",
       "0     0.099084      6695.0         0.100049 -0.009697  9.362571e-06  \n",
       "1     0.093655      6710.0         0.100273 -0.068288  4.519922e-04  \n",
       "2     0.103495      6681.0         0.099840  0.035954  1.314117e-04  \n",
       "3     0.100102      6692.0         0.100004  0.000973  9.465233e-08  \n",
       "4     0.105870      6674.0         0.099735  0.059694  3.662149e-04  "
      ]
     },
     "execution_count": 348,
     "metadata": {},
     "output_type": "execute_result"
    }
   ],
   "source": [
    "credx_woe.head()"
   ]
  },
  {
   "cell_type": "markdown",
   "metadata": {},
   "source": [
    "Now, looking above on the Predictive power of the variables from the IV table, let's list the variables whose IV value is below 0.1"
   ]
  },
  {
   "cell_type": "code",
   "execution_count": 349,
   "metadata": {},
   "outputs": [
    {
     "data": {
      "text/plain": [
       "array(['application_id', 'age', 'gender', 'marital_status',\n",
       "       'noof_dependents', 'income', 'education', 'profession',\n",
       "       'residence_type', 'noof_months_in_current_residence',\n",
       "       'noof_months_in_current_company', 'open_homeloan', 'open_autoloan'],\n",
       "      dtype='<U32')"
      ]
     },
     "execution_count": 349,
     "metadata": {},
     "output_type": "execute_result"
    }
   ],
   "source": [
    "# fetching the variables with low predictive power\n",
    "bad_preds = credx_iv.loc[credx_iv['IV']<0.1, ['Variable']].values.tolist()\n",
    "bad_preds = np.concatenate(bad_preds, axis=0)\n",
    "bad_preds"
   ]
  },
  {
   "cell_type": "code",
   "execution_count": 350,
   "metadata": {},
   "outputs": [
    {
     "data": {
      "text/plain": [
       "Index(['30DPD_12months', '30DPD_6months', '60DPD_12months', '60DPD_6months',\n",
       "       '90DPD_12months', '90DPD_6months', 'PLtrades_opened_12months',\n",
       "       'PLtrades_opened_6months', 'age', 'application_id',\n",
       "       'avg_ccutil_12months', 'education', 'gender', 'income',\n",
       "       'inquiries_12months', 'inquiries_6months', 'marital_status',\n",
       "       'noof_dependents', 'noof_months_in_current_company',\n",
       "       'noof_months_in_current_residence', 'open_autoloan', 'open_homeloan',\n",
       "       'outstanding_balance', 'profession', 'residence_type', 'total_trades',\n",
       "       'trades_opened_12months', 'trades_opened_6months'],\n",
       "      dtype='object')"
      ]
     },
     "execution_count": 350,
     "metadata": {},
     "output_type": "execute_result"
    }
   ],
   "source": [
    "# fetching the list of variables to be transformed\n",
    "trans_var_list = credx_df.columns.difference(['defaulted'])\n",
    "\n",
    "trans_var_list"
   ]
  },
  {
   "cell_type": "code",
   "execution_count": 351,
   "metadata": {},
   "outputs": [],
   "source": [
    "# creating an empty dataframe for woe values imputed\n",
    "credx_woe_df = pd.DataFrame()\n",
    "\n",
    "# imputing the woe values with the resultant dataframe into a new dataframe\n",
    "for var in trans_var_list:\n",
    "    small_credx_df = credx_woe[credx_woe['Variable'] == var]\n",
    "    trans_dict = dict(zip(small_credx_df.Maxval,small_credx_df.WoE))\n",
    "    replace_cmd = ''\n",
    "    replace_cmd1 = ''\n",
    "    for i in sorted(trans_dict.items()):\n",
    "        replace_cmd = replace_cmd + str(i[1]) + str(' if x <= ') + str(i[0]) + ' else '\n",
    "        replace_cmd1 = replace_cmd1 + str(i[1]) + str(' if x == \"') + str(i[0]) + '\" else '\n",
    "    replace_cmd = replace_cmd + '0'\n",
    "    replace_cmd1 = replace_cmd1 + '0'\n",
    "    if replace_cmd != '0':\n",
    "        try:\n",
    "            credx_woe_df[var] = credx_df[var].apply(lambda x: eval(replace_cmd))\n",
    "        except:\n",
    "            credx_woe_df[var] = credx_df[var].apply(lambda x: eval(replace_cmd1))"
   ]
  },
  {
   "cell_type": "code",
   "execution_count": 352,
   "metadata": {
    "scrolled": true
   },
   "outputs": [
    {
     "data": {
      "text/html": [
       "<div>\n",
       "<style scoped>\n",
       "    .dataframe tbody tr th:only-of-type {\n",
       "        vertical-align: middle;\n",
       "    }\n",
       "\n",
       "    .dataframe tbody tr th {\n",
       "        vertical-align: top;\n",
       "    }\n",
       "\n",
       "    .dataframe thead th {\n",
       "        text-align: right;\n",
       "    }\n",
       "</style>\n",
       "<table border=\"1\" class=\"dataframe\">\n",
       "  <thead>\n",
       "    <tr style=\"text-align: right;\">\n",
       "      <th></th>\n",
       "      <th>30DPD_12months</th>\n",
       "      <th>30DPD_6months</th>\n",
       "      <th>60DPD_12months</th>\n",
       "      <th>60DPD_6months</th>\n",
       "      <th>90DPD_12months</th>\n",
       "      <th>90DPD_6months</th>\n",
       "      <th>PLtrades_opened_12months</th>\n",
       "      <th>PLtrades_opened_6months</th>\n",
       "      <th>age</th>\n",
       "      <th>application_id</th>\n",
       "      <th>...</th>\n",
       "      <th>noof_months_in_current_company</th>\n",
       "      <th>noof_months_in_current_residence</th>\n",
       "      <th>open_autoloan</th>\n",
       "      <th>open_homeloan</th>\n",
       "      <th>outstanding_balance</th>\n",
       "      <th>profession</th>\n",
       "      <th>residence_type</th>\n",
       "      <th>total_trades</th>\n",
       "      <th>trades_opened_12months</th>\n",
       "      <th>trades_opened_6months</th>\n",
       "    </tr>\n",
       "  </thead>\n",
       "  <tbody>\n",
       "    <tr>\n",
       "      <th>0</th>\n",
       "      <td>-0.376395</td>\n",
       "      <td>-0.386796</td>\n",
       "      <td>-0.351921</td>\n",
       "      <td>-0.336371</td>\n",
       "      <td>-0.356637</td>\n",
       "      <td>-0.260685</td>\n",
       "      <td>-0.686488</td>\n",
       "      <td>-0.649191</td>\n",
       "      <td>0.032840</td>\n",
       "      <td>0.015039</td>\n",
       "      <td>...</td>\n",
       "      <td>-0.228795</td>\n",
       "      <td>-0.069182</td>\n",
       "      <td>0.011973</td>\n",
       "      <td>-0.236703</td>\n",
       "      <td>-0.832159</td>\n",
       "      <td>-0.028375</td>\n",
       "      <td>-0.004479</td>\n",
       "      <td>-0.447897</td>\n",
       "      <td>-0.816404</td>\n",
       "      <td>-0.543248</td>\n",
       "    </tr>\n",
       "    <tr>\n",
       "      <th>1</th>\n",
       "      <td>-0.376395</td>\n",
       "      <td>-0.386796</td>\n",
       "      <td>-0.351921</td>\n",
       "      <td>-0.336371</td>\n",
       "      <td>-0.356637</td>\n",
       "      <td>-0.260685</td>\n",
       "      <td>-0.686488</td>\n",
       "      <td>-0.649191</td>\n",
       "      <td>-0.016278</td>\n",
       "      <td>0.059694</td>\n",
       "      <td>...</td>\n",
       "      <td>-0.149320</td>\n",
       "      <td>-0.069182</td>\n",
       "      <td>0.011973</td>\n",
       "      <td>0.073722</td>\n",
       "      <td>-0.771857</td>\n",
       "      <td>-0.013343</td>\n",
       "      <td>-0.004479</td>\n",
       "      <td>-0.048845</td>\n",
       "      <td>-0.816404</td>\n",
       "      <td>-0.543248</td>\n",
       "    </tr>\n",
       "    <tr>\n",
       "      <th>2</th>\n",
       "      <td>-0.376395</td>\n",
       "      <td>-0.386796</td>\n",
       "      <td>-0.351921</td>\n",
       "      <td>-0.336371</td>\n",
       "      <td>-0.356637</td>\n",
       "      <td>-0.260685</td>\n",
       "      <td>-0.686488</td>\n",
       "      <td>-0.649191</td>\n",
       "      <td>0.031623</td>\n",
       "      <td>0.015039</td>\n",
       "      <td>...</td>\n",
       "      <td>-0.254889</td>\n",
       "      <td>-0.069182</td>\n",
       "      <td>0.011973</td>\n",
       "      <td>-0.236703</td>\n",
       "      <td>-0.832159</td>\n",
       "      <td>-0.013343</td>\n",
       "      <td>-0.004479</td>\n",
       "      <td>-0.877731</td>\n",
       "      <td>-0.893936</td>\n",
       "      <td>-0.543248</td>\n",
       "    </tr>\n",
       "    <tr>\n",
       "      <th>3</th>\n",
       "      <td>-0.376395</td>\n",
       "      <td>-0.386796</td>\n",
       "      <td>-0.351921</td>\n",
       "      <td>-0.336371</td>\n",
       "      <td>-0.356637</td>\n",
       "      <td>-0.260685</td>\n",
       "      <td>-0.686488</td>\n",
       "      <td>-0.649191</td>\n",
       "      <td>-0.044690</td>\n",
       "      <td>0.000973</td>\n",
       "      <td>...</td>\n",
       "      <td>-0.254889</td>\n",
       "      <td>0.121460</td>\n",
       "      <td>-0.138237</td>\n",
       "      <td>-0.236703</td>\n",
       "      <td>0.294589</td>\n",
       "      <td>0.091379</td>\n",
       "      <td>-0.004479</td>\n",
       "      <td>-0.447897</td>\n",
       "      <td>-0.893936</td>\n",
       "      <td>-0.543248</td>\n",
       "    </tr>\n",
       "    <tr>\n",
       "      <th>4</th>\n",
       "      <td>-0.376395</td>\n",
       "      <td>-0.386796</td>\n",
       "      <td>-0.351921</td>\n",
       "      <td>-0.336371</td>\n",
       "      <td>-0.356637</td>\n",
       "      <td>-0.260685</td>\n",
       "      <td>-0.686488</td>\n",
       "      <td>-0.649191</td>\n",
       "      <td>0.031623</td>\n",
       "      <td>-0.068288</td>\n",
       "      <td>...</td>\n",
       "      <td>-0.149320</td>\n",
       "      <td>-0.069182</td>\n",
       "      <td>0.011973</td>\n",
       "      <td>-0.236703</td>\n",
       "      <td>-0.832159</td>\n",
       "      <td>-0.028375</td>\n",
       "      <td>-0.004479</td>\n",
       "      <td>-0.447897</td>\n",
       "      <td>-0.893936</td>\n",
       "      <td>-0.543248</td>\n",
       "    </tr>\n",
       "  </tbody>\n",
       "</table>\n",
       "<p>5 rows × 28 columns</p>\n",
       "</div>"
      ],
      "text/plain": [
       "   30DPD_12months  30DPD_6months  60DPD_12months  60DPD_6months  \\\n",
       "0       -0.376395      -0.386796       -0.351921      -0.336371   \n",
       "1       -0.376395      -0.386796       -0.351921      -0.336371   \n",
       "2       -0.376395      -0.386796       -0.351921      -0.336371   \n",
       "3       -0.376395      -0.386796       -0.351921      -0.336371   \n",
       "4       -0.376395      -0.386796       -0.351921      -0.336371   \n",
       "\n",
       "   90DPD_12months  90DPD_6months  PLtrades_opened_12months  \\\n",
       "0       -0.356637      -0.260685                 -0.686488   \n",
       "1       -0.356637      -0.260685                 -0.686488   \n",
       "2       -0.356637      -0.260685                 -0.686488   \n",
       "3       -0.356637      -0.260685                 -0.686488   \n",
       "4       -0.356637      -0.260685                 -0.686488   \n",
       "\n",
       "   PLtrades_opened_6months       age  application_id          ...            \\\n",
       "0                -0.649191  0.032840        0.015039          ...             \n",
       "1                -0.649191 -0.016278        0.059694          ...             \n",
       "2                -0.649191  0.031623        0.015039          ...             \n",
       "3                -0.649191 -0.044690        0.000973          ...             \n",
       "4                -0.649191  0.031623       -0.068288          ...             \n",
       "\n",
       "   noof_months_in_current_company  noof_months_in_current_residence  \\\n",
       "0                       -0.228795                         -0.069182   \n",
       "1                       -0.149320                         -0.069182   \n",
       "2                       -0.254889                         -0.069182   \n",
       "3                       -0.254889                          0.121460   \n",
       "4                       -0.149320                         -0.069182   \n",
       "\n",
       "   open_autoloan  open_homeloan  outstanding_balance  profession  \\\n",
       "0       0.011973      -0.236703            -0.832159   -0.028375   \n",
       "1       0.011973       0.073722            -0.771857   -0.013343   \n",
       "2       0.011973      -0.236703            -0.832159   -0.013343   \n",
       "3      -0.138237      -0.236703             0.294589    0.091379   \n",
       "4       0.011973      -0.236703            -0.832159   -0.028375   \n",
       "\n",
       "   residence_type  total_trades  trades_opened_12months  trades_opened_6months  \n",
       "0       -0.004479     -0.447897               -0.816404              -0.543248  \n",
       "1       -0.004479     -0.048845               -0.816404              -0.543248  \n",
       "2       -0.004479     -0.877731               -0.893936              -0.543248  \n",
       "3       -0.004479     -0.447897               -0.893936              -0.543248  \n",
       "4       -0.004479     -0.447897               -0.893936              -0.543248  \n",
       "\n",
       "[5 rows x 28 columns]"
      ]
     },
     "execution_count": 352,
     "metadata": {},
     "output_type": "execute_result"
    }
   ],
   "source": [
    "# checking the resultant dataframe\n",
    "credx_woe_df.head()"
   ]
  },
  {
   "cell_type": "code",
   "execution_count": 353,
   "metadata": {
    "scrolled": true
   },
   "outputs": [
    {
     "data": {
      "text/plain": [
       "30DPD_12months                      69864\n",
       "30DPD_6months                       69864\n",
       "60DPD_12months                      69864\n",
       "60DPD_6months                       69864\n",
       "90DPD_12months                      69864\n",
       "90DPD_6months                       69864\n",
       "PLtrades_opened_12months            69864\n",
       "PLtrades_opened_6months             69864\n",
       "age                                 69864\n",
       "application_id                      69864\n",
       "avg_ccutil_12months                 68841\n",
       "education                           69864\n",
       "gender                              69864\n",
       "income                              69864\n",
       "inquiries_12months                  69864\n",
       "inquiries_6months                   69864\n",
       "marital_status                      69864\n",
       "noof_dependents                     69864\n",
       "noof_months_in_current_company      69864\n",
       "noof_months_in_current_residence    69864\n",
       "open_autoloan                       69864\n",
       "open_homeloan                       69864\n",
       "outstanding_balance                 69592\n",
       "profession                          69864\n",
       "residence_type                      69864\n",
       "total_trades                        69864\n",
       "trades_opened_12months              69864\n",
       "trades_opened_6months               69864\n",
       "dtype: int64"
      ]
     },
     "execution_count": 353,
     "metadata": {},
     "output_type": "execute_result"
    }
   ],
   "source": [
    "# checking the non-zero values in the woe dataframe\n",
    "credx_woe_df.astype(bool).sum(axis=0)"
   ]
  },
  {
   "cell_type": "markdown",
   "metadata": {},
   "source": [
    "And as expecteded, we can clearly see that all our NULL values in the two columns are intact and converted to zeros. Let's impute them with their respective woe values."
   ]
  },
  {
   "cell_type": "code",
   "execution_count": 354,
   "metadata": {
    "scrolled": true
   },
   "outputs": [],
   "source": [
    "# imputing the zeros(actually NULLs) in avg_ccutil_12months and outstanding_balance with their woe values\n",
    "credx_woe_df.loc[credx_woe_df['avg_ccutil_12months']==0, ['avg_ccutil_12months']] = 0.111429\n",
    "credx_woe_df.loc[credx_woe_df['outstanding_balance']==0, ['outstanding_balance']] = -0.373842"
   ]
  },
  {
   "cell_type": "code",
   "execution_count": 355,
   "metadata": {
    "scrolled": true
   },
   "outputs": [
    {
     "data": {
      "text/plain": [
       "30DPD_12months                      69864\n",
       "30DPD_6months                       69864\n",
       "60DPD_12months                      69864\n",
       "60DPD_6months                       69864\n",
       "90DPD_12months                      69864\n",
       "90DPD_6months                       69864\n",
       "PLtrades_opened_12months            69864\n",
       "PLtrades_opened_6months             69864\n",
       "age                                 69864\n",
       "application_id                      69864\n",
       "avg_ccutil_12months                 69864\n",
       "education                           69864\n",
       "gender                              69864\n",
       "income                              69864\n",
       "inquiries_12months                  69864\n",
       "inquiries_6months                   69864\n",
       "marital_status                      69864\n",
       "noof_dependents                     69864\n",
       "noof_months_in_current_company      69864\n",
       "noof_months_in_current_residence    69864\n",
       "open_autoloan                       69864\n",
       "open_homeloan                       69864\n",
       "outstanding_balance                 69864\n",
       "profession                          69864\n",
       "residence_type                      69864\n",
       "total_trades                        69864\n",
       "trades_opened_12months              69864\n",
       "trades_opened_6months               69864\n",
       "dtype: int64"
      ]
     },
     "execution_count": 355,
     "metadata": {},
     "output_type": "execute_result"
    }
   ],
   "source": [
    "# checking the non-zero values in the woe dataframe\n",
    "credx_woe_df.astype(bool).sum(axis=0)"
   ]
  },
  {
   "cell_type": "code",
   "execution_count": 356,
   "metadata": {},
   "outputs": [],
   "source": [
    "# removing the application_id column from the dataset\n",
    "credx_woe_df.drop(['application_id'], axis=1, inplace=True)"
   ]
  },
  {
   "cell_type": "markdown",
   "metadata": {},
   "source": [
    "## Model Building\n",
    "\n",
    "\n",
    "### Using Demographic Data Only\n",
    "\n",
    "Let's start with the Demographic data, we will try to create a model form the Demographic data only to get an idea on the predictive power of the demographic data."
   ]
  },
  {
   "cell_type": "code",
   "execution_count": 357,
   "metadata": {
    "scrolled": true
   },
   "outputs": [
    {
     "data": {
      "text/html": [
       "<div>\n",
       "<style scoped>\n",
       "    .dataframe tbody tr th:only-of-type {\n",
       "        vertical-align: middle;\n",
       "    }\n",
       "\n",
       "    .dataframe tbody tr th {\n",
       "        vertical-align: top;\n",
       "    }\n",
       "\n",
       "    .dataframe thead th {\n",
       "        text-align: right;\n",
       "    }\n",
       "</style>\n",
       "<table border=\"1\" class=\"dataframe\">\n",
       "  <thead>\n",
       "    <tr style=\"text-align: right;\">\n",
       "      <th></th>\n",
       "      <th>age</th>\n",
       "      <th>education</th>\n",
       "      <th>gender</th>\n",
       "      <th>income</th>\n",
       "      <th>marital_status</th>\n",
       "      <th>noof_dependents</th>\n",
       "      <th>noof_months_in_current_company</th>\n",
       "      <th>noof_months_in_current_residence</th>\n",
       "      <th>profession</th>\n",
       "      <th>residence_type</th>\n",
       "    </tr>\n",
       "  </thead>\n",
       "  <tbody>\n",
       "    <tr>\n",
       "      <th>0</th>\n",
       "      <td>0.032840</td>\n",
       "      <td>0.017390</td>\n",
       "      <td>0.032129</td>\n",
       "      <td>-0.272909</td>\n",
       "      <td>-0.004102</td>\n",
       "      <td>-0.085198</td>\n",
       "      <td>-0.228795</td>\n",
       "      <td>-0.069182</td>\n",
       "      <td>-0.028375</td>\n",
       "      <td>-0.004479</td>\n",
       "    </tr>\n",
       "    <tr>\n",
       "      <th>1</th>\n",
       "      <td>-0.016278</td>\n",
       "      <td>-0.017933</td>\n",
       "      <td>-0.010133</td>\n",
       "      <td>-0.385540</td>\n",
       "      <td>-0.004102</td>\n",
       "      <td>-0.025162</td>\n",
       "      <td>-0.149320</td>\n",
       "      <td>-0.069182</td>\n",
       "      <td>-0.013343</td>\n",
       "      <td>-0.004479</td>\n",
       "    </tr>\n",
       "    <tr>\n",
       "      <th>2</th>\n",
       "      <td>0.031623</td>\n",
       "      <td>0.017390</td>\n",
       "      <td>-0.010133</td>\n",
       "      <td>-0.169391</td>\n",
       "      <td>0.023383</td>\n",
       "      <td>-0.085198</td>\n",
       "      <td>-0.254889</td>\n",
       "      <td>-0.069182</td>\n",
       "      <td>-0.013343</td>\n",
       "      <td>-0.004479</td>\n",
       "    </tr>\n",
       "    <tr>\n",
       "      <th>3</th>\n",
       "      <td>-0.044690</td>\n",
       "      <td>0.017390</td>\n",
       "      <td>-0.010133</td>\n",
       "      <td>-0.385540</td>\n",
       "      <td>-0.004102</td>\n",
       "      <td>0.040040</td>\n",
       "      <td>-0.254889</td>\n",
       "      <td>0.121460</td>\n",
       "      <td>0.091379</td>\n",
       "      <td>-0.004479</td>\n",
       "    </tr>\n",
       "    <tr>\n",
       "      <th>4</th>\n",
       "      <td>0.031623</td>\n",
       "      <td>-0.017933</td>\n",
       "      <td>0.032129</td>\n",
       "      <td>-0.169391</td>\n",
       "      <td>-0.004102</td>\n",
       "      <td>0.004346</td>\n",
       "      <td>-0.149320</td>\n",
       "      <td>-0.069182</td>\n",
       "      <td>-0.028375</td>\n",
       "      <td>-0.004479</td>\n",
       "    </tr>\n",
       "  </tbody>\n",
       "</table>\n",
       "</div>"
      ],
      "text/plain": [
       "        age  education    gender    income  marital_status  noof_dependents  \\\n",
       "0  0.032840   0.017390  0.032129 -0.272909       -0.004102        -0.085198   \n",
       "1 -0.016278  -0.017933 -0.010133 -0.385540       -0.004102        -0.025162   \n",
       "2  0.031623   0.017390 -0.010133 -0.169391        0.023383        -0.085198   \n",
       "3 -0.044690   0.017390 -0.010133 -0.385540       -0.004102         0.040040   \n",
       "4  0.031623  -0.017933  0.032129 -0.169391       -0.004102         0.004346   \n",
       "\n",
       "   noof_months_in_current_company  noof_months_in_current_residence  \\\n",
       "0                       -0.228795                         -0.069182   \n",
       "1                       -0.149320                         -0.069182   \n",
       "2                       -0.254889                         -0.069182   \n",
       "3                       -0.254889                          0.121460   \n",
       "4                       -0.149320                         -0.069182   \n",
       "\n",
       "   profession  residence_type  \n",
       "0   -0.028375       -0.004479  \n",
       "1   -0.013343       -0.004479  \n",
       "2   -0.013343       -0.004479  \n",
       "3    0.091379       -0.004479  \n",
       "4   -0.028375       -0.004479  "
      ]
     },
     "execution_count": 357,
     "metadata": {},
     "output_type": "execute_result"
    }
   ],
   "source": [
    "# fetching the demographc data from the combined woe dataframe\n",
    "demog_woe_df = credx_woe_df[['age', 'education', 'gender', 'income', 'marital_status', 'noof_dependents', 'noof_months_in_current_company', 'noof_months_in_current_residence', 'profession', 'residence_type']]\n",
    "\n",
    "demog_woe_df.head()"
   ]
  },
  {
   "cell_type": "markdown",
   "metadata": {},
   "source": [
    "#### Test-Train Split"
   ]
  },
  {
   "cell_type": "code",
   "execution_count": 358,
   "metadata": {
    "scrolled": true
   },
   "outputs": [],
   "source": [
    "# Import library to split the dataset\n",
    "from sklearn.model_selection import train_test_split\n",
    "\n",
    "demog_train, demog_test, default_train, default_test = train_test_split(demog_woe_df, credx_df['defaulted'], train_size=0.7, test_size=0.3, random_state=100)"
   ]
  },
  {
   "cell_type": "markdown",
   "metadata": {},
   "source": [
    "#### Logistic Regression"
   ]
  },
  {
   "cell_type": "code",
   "execution_count": 359,
   "metadata": {},
   "outputs": [],
   "source": [
    "# Importing from the sklearn library\n",
    "from sklearn.linear_model import LogisticRegression\n",
    "from sklearn import metrics\n",
    "import statsmodels.api as sm"
   ]
  },
  {
   "cell_type": "code",
   "execution_count": 360,
   "metadata": {},
   "outputs": [
    {
     "data": {
      "text/plain": [
       "LogisticRegression(C=1.0, class_weight='balanced', dual=False,\n",
       "          fit_intercept=True, intercept_scaling=1, max_iter=100,\n",
       "          multi_class='warn', n_jobs=None, penalty='l2', random_state=None,\n",
       "          solver='warn', tol=0.0001, verbose=0, warm_start=False)"
      ]
     },
     "execution_count": 360,
     "metadata": {},
     "output_type": "execute_result"
    }
   ],
   "source": [
    "# Fitting the model\n",
    "logitreg = LogisticRegression(class_weight='balanced')\n",
    "logitreg.fit(demog_train, default_train)"
   ]
  },
  {
   "cell_type": "code",
   "execution_count": 361,
   "metadata": {
    "scrolled": true
   },
   "outputs": [
    {
     "data": {
      "text/html": [
       "<table class=\"simpletable\">\n",
       "<caption>Generalized Linear Model Regression Results</caption>\n",
       "<tr>\n",
       "  <th>Dep. Variable:</th>      <td>defaulted</td>    <th>  No. Observations:  </th>  <td> 48904</td>  \n",
       "</tr>\n",
       "<tr>\n",
       "  <th>Model:</th>                 <td>GLM</td>       <th>  Df Residuals:      </th>  <td> 48893</td>  \n",
       "</tr>\n",
       "<tr>\n",
       "  <th>Model Family:</th>       <td>Binomial</td>     <th>  Df Model:          </th>  <td>    10</td>  \n",
       "</tr>\n",
       "<tr>\n",
       "  <th>Link Function:</th>        <td>logit</td>      <th>  Scale:             </th> <td>  1.0000</td> \n",
       "</tr>\n",
       "<tr>\n",
       "  <th>Method:</th>               <td>IRLS</td>       <th>  Log-Likelihood:    </th> <td> -8433.7</td> \n",
       "</tr>\n",
       "<tr>\n",
       "  <th>Date:</th>           <td>Sat, 21 Dec 2019</td> <th>  Deviance:          </th> <td>  16867.</td> \n",
       "</tr>\n",
       "<tr>\n",
       "  <th>Time:</th>               <td>14:40:51</td>     <th>  Pearson chi2:      </th> <td>4.90e+04</td> \n",
       "</tr>\n",
       "<tr>\n",
       "  <th>No. Iterations:</th>         <td>6</td>        <th>  Covariance Type:   </th> <td>nonrobust</td>\n",
       "</tr>\n",
       "</table>\n",
       "<table class=\"simpletable\">\n",
       "<tr>\n",
       "                  <td></td>                    <th>coef</th>     <th>std err</th>      <th>z</th>      <th>P>|z|</th>  <th>[0.025</th>    <th>0.975]</th>  \n",
       "</tr>\n",
       "<tr>\n",
       "  <th>const</th>                            <td>   -3.1216</td> <td>    0.023</td> <td> -136.784</td> <td> 0.000</td> <td>   -3.166</td> <td>   -3.077</td>\n",
       "</tr>\n",
       "<tr>\n",
       "  <th>age</th>                              <td>    0.8233</td> <td>    0.358</td> <td>    2.298</td> <td> 0.022</td> <td>    0.121</td> <td>    1.525</td>\n",
       "</tr>\n",
       "<tr>\n",
       "  <th>education</th>                        <td>    0.6663</td> <td>    0.765</td> <td>    0.871</td> <td> 0.384</td> <td>   -0.833</td> <td>    2.166</td>\n",
       "</tr>\n",
       "<tr>\n",
       "  <th>gender</th>                           <td>    1.1840</td> <td>    1.243</td> <td>    0.953</td> <td> 0.341</td> <td>   -1.252</td> <td>    3.620</td>\n",
       "</tr>\n",
       "<tr>\n",
       "  <th>income</th>                           <td>    0.8199</td> <td>    0.110</td> <td>    7.427</td> <td> 0.000</td> <td>    0.604</td> <td>    1.036</td>\n",
       "</tr>\n",
       "<tr>\n",
       "  <th>marital_status</th>                   <td>   -0.2807</td> <td>    2.305</td> <td>   -0.122</td> <td> 0.903</td> <td>   -4.798</td> <td>    4.237</td>\n",
       "</tr>\n",
       "<tr>\n",
       "  <th>noof_dependents</th>                  <td>    0.5857</td> <td>    0.440</td> <td>    1.332</td> <td> 0.183</td> <td>   -0.276</td> <td>    1.448</td>\n",
       "</tr>\n",
       "<tr>\n",
       "  <th>noof_months_in_current_company</th>   <td>    0.8963</td> <td>    0.151</td> <td>    5.925</td> <td> 0.000</td> <td>    0.600</td> <td>    1.193</td>\n",
       "</tr>\n",
       "<tr>\n",
       "  <th>noof_months_in_current_residence</th> <td>    0.8580</td> <td>    0.084</td> <td>   10.247</td> <td> 0.000</td> <td>    0.694</td> <td>    1.022</td>\n",
       "</tr>\n",
       "<tr>\n",
       "  <th>profession</th>                       <td>    0.7848</td> <td>    0.473</td> <td>    1.661</td> <td> 0.097</td> <td>   -0.141</td> <td>    1.711</td>\n",
       "</tr>\n",
       "<tr>\n",
       "  <th>residence_type</th>                   <td>    0.2629</td> <td>    0.727</td> <td>    0.362</td> <td> 0.718</td> <td>   -1.162</td> <td>    1.688</td>\n",
       "</tr>\n",
       "</table>"
      ],
      "text/plain": [
       "<class 'statsmodels.iolib.summary.Summary'>\n",
       "\"\"\"\n",
       "                 Generalized Linear Model Regression Results                  \n",
       "==============================================================================\n",
       "Dep. Variable:              defaulted   No. Observations:                48904\n",
       "Model:                            GLM   Df Residuals:                    48893\n",
       "Model Family:                Binomial   Df Model:                           10\n",
       "Link Function:                  logit   Scale:                          1.0000\n",
       "Method:                          IRLS   Log-Likelihood:                -8433.7\n",
       "Date:                Sat, 21 Dec 2019   Deviance:                       16867.\n",
       "Time:                        14:40:51   Pearson chi2:                 4.90e+04\n",
       "No. Iterations:                     6   Covariance Type:             nonrobust\n",
       "====================================================================================================\n",
       "                                       coef    std err          z      P>|z|      [0.025      0.975]\n",
       "----------------------------------------------------------------------------------------------------\n",
       "const                               -3.1216      0.023   -136.784      0.000      -3.166      -3.077\n",
       "age                                  0.8233      0.358      2.298      0.022       0.121       1.525\n",
       "education                            0.6663      0.765      0.871      0.384      -0.833       2.166\n",
       "gender                               1.1840      1.243      0.953      0.341      -1.252       3.620\n",
       "income                               0.8199      0.110      7.427      0.000       0.604       1.036\n",
       "marital_status                      -0.2807      2.305     -0.122      0.903      -4.798       4.237\n",
       "noof_dependents                      0.5857      0.440      1.332      0.183      -0.276       1.448\n",
       "noof_months_in_current_company       0.8963      0.151      5.925      0.000       0.600       1.193\n",
       "noof_months_in_current_residence     0.8580      0.084     10.247      0.000       0.694       1.022\n",
       "profession                           0.7848      0.473      1.661      0.097      -0.141       1.711\n",
       "residence_type                       0.2629      0.727      0.362      0.718      -1.162       1.688\n",
       "====================================================================================================\n",
       "\"\"\""
      ]
     },
     "execution_count": 361,
     "metadata": {},
     "output_type": "execute_result"
    }
   ],
   "source": [
    "# Logistic regression model\n",
    "logitmod1 = sm.GLM(default_train,(sm.add_constant(demog_train)), family = sm.families.Binomial())\n",
    "logitmod1.fit().summary()"
   ]
  },
  {
   "cell_type": "markdown",
   "metadata": {},
   "source": [
    "let's remove the columns with very high P values `marital_status` and `residence_type`"
   ]
  },
  {
   "cell_type": "code",
   "execution_count": 362,
   "metadata": {},
   "outputs": [],
   "source": [
    "# removing variables with high P values\n",
    "demog_train.drop(['marital_status', 'residence_type'], axis=1, inplace=True)"
   ]
  },
  {
   "cell_type": "code",
   "execution_count": 363,
   "metadata": {
    "scrolled": true
   },
   "outputs": [
    {
     "data": {
      "text/html": [
       "<table class=\"simpletable\">\n",
       "<caption>Generalized Linear Model Regression Results</caption>\n",
       "<tr>\n",
       "  <th>Dep. Variable:</th>      <td>defaulted</td>    <th>  No. Observations:  </th>  <td> 48904</td>  \n",
       "</tr>\n",
       "<tr>\n",
       "  <th>Model:</th>                 <td>GLM</td>       <th>  Df Residuals:      </th>  <td> 48895</td>  \n",
       "</tr>\n",
       "<tr>\n",
       "  <th>Model Family:</th>       <td>Binomial</td>     <th>  Df Model:          </th>  <td>     8</td>  \n",
       "</tr>\n",
       "<tr>\n",
       "  <th>Link Function:</th>        <td>logit</td>      <th>  Scale:             </th> <td>  1.0000</td> \n",
       "</tr>\n",
       "<tr>\n",
       "  <th>Method:</th>               <td>IRLS</td>       <th>  Log-Likelihood:    </th> <td> -8433.8</td> \n",
       "</tr>\n",
       "<tr>\n",
       "  <th>Date:</th>           <td>Sat, 21 Dec 2019</td> <th>  Deviance:          </th> <td>  16868.</td> \n",
       "</tr>\n",
       "<tr>\n",
       "  <th>Time:</th>               <td>14:40:57</td>     <th>  Pearson chi2:      </th> <td>4.90e+04</td> \n",
       "</tr>\n",
       "<tr>\n",
       "  <th>No. Iterations:</th>         <td>6</td>        <th>  Covariance Type:   </th> <td>nonrobust</td>\n",
       "</tr>\n",
       "</table>\n",
       "<table class=\"simpletable\">\n",
       "<tr>\n",
       "                  <td></td>                    <th>coef</th>     <th>std err</th>      <th>z</th>      <th>P>|z|</th>  <th>[0.025</th>    <th>0.975]</th>  \n",
       "</tr>\n",
       "<tr>\n",
       "  <th>const</th>                            <td>   -3.1216</td> <td>    0.023</td> <td> -136.789</td> <td> 0.000</td> <td>   -3.166</td> <td>   -3.077</td>\n",
       "</tr>\n",
       "<tr>\n",
       "  <th>age</th>                              <td>    0.8205</td> <td>    0.358</td> <td>    2.293</td> <td> 0.022</td> <td>    0.119</td> <td>    1.522</td>\n",
       "</tr>\n",
       "<tr>\n",
       "  <th>education</th>                        <td>    0.6685</td> <td>    0.765</td> <td>    0.874</td> <td> 0.382</td> <td>   -0.831</td> <td>    2.168</td>\n",
       "</tr>\n",
       "<tr>\n",
       "  <th>gender</th>                           <td>    1.1830</td> <td>    1.243</td> <td>    0.952</td> <td> 0.341</td> <td>   -1.253</td> <td>    3.619</td>\n",
       "</tr>\n",
       "<tr>\n",
       "  <th>income</th>                           <td>    0.8202</td> <td>    0.110</td> <td>    7.432</td> <td> 0.000</td> <td>    0.604</td> <td>    1.036</td>\n",
       "</tr>\n",
       "<tr>\n",
       "  <th>noof_dependents</th>                  <td>    0.5864</td> <td>    0.440</td> <td>    1.333</td> <td> 0.182</td> <td>   -0.275</td> <td>    1.448</td>\n",
       "</tr>\n",
       "<tr>\n",
       "  <th>noof_months_in_current_company</th>   <td>    0.8965</td> <td>    0.151</td> <td>    5.927</td> <td> 0.000</td> <td>    0.600</td> <td>    1.193</td>\n",
       "</tr>\n",
       "<tr>\n",
       "  <th>noof_months_in_current_residence</th> <td>    0.8580</td> <td>    0.084</td> <td>   10.248</td> <td> 0.000</td> <td>    0.694</td> <td>    1.022</td>\n",
       "</tr>\n",
       "<tr>\n",
       "  <th>profession</th>                       <td>    0.7774</td> <td>    0.472</td> <td>    1.647</td> <td> 0.100</td> <td>   -0.148</td> <td>    1.703</td>\n",
       "</tr>\n",
       "</table>"
      ],
      "text/plain": [
       "<class 'statsmodels.iolib.summary.Summary'>\n",
       "\"\"\"\n",
       "                 Generalized Linear Model Regression Results                  \n",
       "==============================================================================\n",
       "Dep. Variable:              defaulted   No. Observations:                48904\n",
       "Model:                            GLM   Df Residuals:                    48895\n",
       "Model Family:                Binomial   Df Model:                            8\n",
       "Link Function:                  logit   Scale:                          1.0000\n",
       "Method:                          IRLS   Log-Likelihood:                -8433.8\n",
       "Date:                Sat, 21 Dec 2019   Deviance:                       16868.\n",
       "Time:                        14:40:57   Pearson chi2:                 4.90e+04\n",
       "No. Iterations:                     6   Covariance Type:             nonrobust\n",
       "====================================================================================================\n",
       "                                       coef    std err          z      P>|z|      [0.025      0.975]\n",
       "----------------------------------------------------------------------------------------------------\n",
       "const                               -3.1216      0.023   -136.789      0.000      -3.166      -3.077\n",
       "age                                  0.8205      0.358      2.293      0.022       0.119       1.522\n",
       "education                            0.6685      0.765      0.874      0.382      -0.831       2.168\n",
       "gender                               1.1830      1.243      0.952      0.341      -1.253       3.619\n",
       "income                               0.8202      0.110      7.432      0.000       0.604       1.036\n",
       "noof_dependents                      0.5864      0.440      1.333      0.182      -0.275       1.448\n",
       "noof_months_in_current_company       0.8965      0.151      5.927      0.000       0.600       1.193\n",
       "noof_months_in_current_residence     0.8580      0.084     10.248      0.000       0.694       1.022\n",
       "profession                           0.7774      0.472      1.647      0.100      -0.148       1.703\n",
       "====================================================================================================\n",
       "\"\"\""
      ]
     },
     "execution_count": 363,
     "metadata": {},
     "output_type": "execute_result"
    }
   ],
   "source": [
    "logitmod2 = sm.GLM(default_train,(sm.add_constant(demog_train)), family = sm.families.Binomial())\n",
    "logitmod2.fit().summary()"
   ]
  },
  {
   "cell_type": "markdown",
   "metadata": {},
   "source": [
    "#### PCA"
   ]
  },
  {
   "cell_type": "code",
   "execution_count": 364,
   "metadata": {},
   "outputs": [],
   "source": [
    "# adding further required libraries\n",
    "from sklearn.pipeline import Pipeline\n",
    "from sklearn.decomposition import PCA\n",
    "from sklearn.metrics import confusion_matrix\n",
    "from imblearn.metrics import sensitivity_specificity_support\n",
    "from sklearn.metrics import roc_auc_score, accuracy_score\n",
    "from sklearn.metrics import classification_report\n",
    "from sklearn.model_selection import StratifiedKFold, KFold\n",
    "from sklearn.model_selection import GridSearchCV\n",
    "from sklearn.ensemble import RandomForestClassifier"
   ]
  },
  {
   "cell_type": "code",
   "execution_count": 365,
   "metadata": {},
   "outputs": [],
   "source": [
    "pca = PCA()\n",
    "pca.fit(demog_train)\n",
    "demog_pca = pca.fit_transform(demog_train)"
   ]
  },
  {
   "cell_type": "code",
   "execution_count": 366,
   "metadata": {},
   "outputs": [
    {
     "name": "stdout",
     "output_type": "stream",
     "text": [
      "0     47.70\n",
      "1     76.79\n",
      "2     92.94\n",
      "3     95.90\n",
      "4     97.77\n",
      "5     99.28\n",
      "6     99.77\n",
      "7    100.00\n",
      "dtype: float64\n"
     ]
    }
   ],
   "source": [
    "print(pd.Series(np.round(pca.explained_variance_ratio_.cumsum(), 4)*100))"
   ]
  },
  {
   "cell_type": "code",
   "execution_count": 367,
   "metadata": {},
   "outputs": [
    {
     "data": {
      "text/plain": [
       "[<matplotlib.lines.Line2D at 0xd04e7994e0>]"
      ]
     },
     "execution_count": 367,
     "metadata": {},
     "output_type": "execute_result"
    },
    {
     "data": {
      "image/png": "[encoded data removed]",
      "text/plain": [
       "<Figure size 630x360 with 1 Axes>"
      ]
     },
     "metadata": {
      "needs_background": "light"
     },
     "output_type": "display_data"
    }
   ],
   "source": [
    "# plot feature variance\n",
    "features = range(pca.n_components_)\n",
    "cumulative_variance = np.round(np.cumsum(pca.explained_variance_ratio_)*100, decimals=4)\n",
    "plt.figure(figsize=(175/20,100/20))\n",
    "plt.plot(cumulative_variance)"
   ]
  },
  {
   "cell_type": "markdown",
   "metadata": {},
   "source": [
    "As it is quite visible that over `95%` variance can be captured by 4 variables."
   ]
  },
  {
   "cell_type": "code",
   "execution_count": 368,
   "metadata": {},
   "outputs": [],
   "source": [
    "# create pipeline\n",
    "PCA_VAR = 4\n",
    "steps = [(\"pca\", PCA(n_components=PCA_VAR)),\n",
    "         (\"logistic\", LogisticRegression(class_weight='balanced'))\n",
    "        ]\n",
    "pipeline = Pipeline(steps)"
   ]
  },
  {
   "cell_type": "code",
   "execution_count": 369,
   "metadata": {},
   "outputs": [
    {
     "data": {
      "text/plain": [
       "0.5923237362996892"
      ]
     },
     "execution_count": 369,
     "metadata": {},
     "output_type": "execute_result"
    }
   ],
   "source": [
    "# fit model\n",
    "pipeline.fit(demog_train, default_train)\n",
    "\n",
    "# check score on train data\n",
    "pipeline.score(demog_train, default_train)"
   ]
  },
  {
   "cell_type": "markdown",
   "metadata": {},
   "source": [
    "This is clearly an extremely bad score for a model, let's check how it performs on the test data."
   ]
  },
  {
   "cell_type": "code",
   "execution_count": 370,
   "metadata": {},
   "outputs": [],
   "source": [
    "# removing bad columns from the training data\n",
    "demog_test.drop(['marital_status', 'residence_type'], axis=1, inplace=True)"
   ]
  },
  {
   "cell_type": "code",
   "execution_count": 371,
   "metadata": {},
   "outputs": [
    {
     "name": "stdout",
     "output_type": "stream",
     "text": [
      "[[12012  8065]\n",
      " [  388   495]]\n",
      "Sensitivity:  0.56\n",
      "Specificity:  0.6\n",
      "AUC:      0.61\n"
     ]
    }
   ],
   "source": [
    "# predicting default on test data\n",
    "default_pred = pipeline.predict(demog_test)\n",
    "\n",
    "# create confusion matrix\n",
    "cm = confusion_matrix(default_test, default_pred)\n",
    "print(cm)\n",
    "\n",
    "# checking sensitivity and specificity\n",
    "sensitivity, specificity, _ = sensitivity_specificity_support(default_test, default_pred, average='binary')\n",
    "print(\"Sensitivity:  \", round(sensitivity, 2), \"\\n\", \"Specificity:  \", round(specificity, 2), sep='')\n",
    "\n",
    "# checking the area under curve(AUC)\n",
    "default_pred_prob = pipeline.predict_proba(demog_test)[:, 1]\n",
    "print(\"AUC:     \", round(roc_auc_score(default_test, default_pred_prob),2))"
   ]
  },
  {
   "cell_type": "markdown",
   "metadata": {},
   "source": [
    "As expected, the model is equally bad on the test data as well. Let's see how a Random Forest performs on the dataset.\n",
    "\n",
    "#### Random Forest Classifier"
   ]
  },
  {
   "cell_type": "code",
   "execution_count": 372,
   "metadata": {},
   "outputs": [
    {
     "data": {
      "text/plain": [
       "RandomForestClassifier(bootstrap=True, class_weight=None, criterion='gini',\n",
       "            max_depth=None, max_features='auto', max_leaf_nodes=None,\n",
       "            min_impurity_decrease=0.0, min_impurity_split=None,\n",
       "            min_samples_leaf=1, min_samples_split=2,\n",
       "            min_weight_fraction_leaf=0.0, n_estimators=10, n_jobs=None,\n",
       "            oob_score=False, random_state=None, verbose=0,\n",
       "            warm_start=False)"
      ]
     },
     "execution_count": 372,
     "metadata": {},
     "output_type": "execute_result"
    }
   ],
   "source": [
    "# Running the random forest with default parameters.\n",
    "rfc = RandomForestClassifier()\n",
    "\n",
    "# fit the model\n",
    "rfc.fit(demog_train, default_train)"
   ]
  },
  {
   "cell_type": "code",
   "execution_count": 373,
   "metadata": {},
   "outputs": [
    {
     "name": "stdout",
     "output_type": "stream",
     "text": [
      "              precision    recall  f1-score   support\n",
      "\n",
      "         0.0       0.96      0.99      0.98     20077\n",
      "         1.0       0.09      0.01      0.02       883\n",
      "\n",
      "   micro avg       0.95      0.95      0.95     20960\n",
      "   macro avg       0.52      0.50      0.50     20960\n",
      "weighted avg       0.92      0.95      0.94     20960\n",
      "\n",
      "[[19971   106]\n",
      " [  873    10]]\n",
      "0.9532919847328244\n"
     ]
    }
   ],
   "source": [
    "# predict churn on test data\n",
    "default_pred = rfc.predict(demog_test)\n",
    "\n",
    "# checking report of the default model\n",
    "print(classification_report(default_test,default_pred))\n",
    "\n",
    "# printing confusion matrix\n",
    "print(confusion_matrix(default_test,default_pred))\n",
    "\n",
    "# accuracy score\n",
    "print(accuracy_score(default_test,default_pred))"
   ]
  },
  {
   "cell_type": "code",
   "execution_count": 374,
   "metadata": {
    "scrolled": true
   },
   "outputs": [
    {
     "name": "stdout",
     "output_type": "stream",
     "text": [
      "AUC:      0.5\n"
     ]
    }
   ],
   "source": [
    "# area under the curve\n",
    "print(\"AUC:     \", round(roc_auc_score(default_test, default_pred),2))"
   ]
  },
  {
   "cell_type": "code",
   "execution_count": 384,
   "metadata": {},
   "outputs": [
    {
     "name": "stdout",
     "output_type": "stream",
     "text": [
      "Sensitivity:  0.01\n",
      "Specificity:  0.99\n"
     ]
    }
   ],
   "source": [
    "sensitivity, specificity, _ = sensitivity_specificity_support(default_test, default_pred, average='binary')\n",
    "print(\"Sensitivity:  \", round(sensitivity, 2), \"\\n\", \"Specificity:  \", round(specificity, 2), sep='')"
   ]
  },
  {
   "cell_type": "markdown",
   "metadata": {},
   "source": [
    "As this is very clear now from the above result, while `accuracy score is 95% but out of 883 defaulters only 10 were predicted correctly`. On the other hand, AUC score is as bad as it was for Logistic Regression model. \n",
    "\n",
    "**Based on the above models' output and the EDA insights and IV values, we can very confidently conclude that the application data is very bad in terms of predictive power.**\n",
    "\n",
    "To start with the combined dataset, let's first do some **feature elimination using the results from IV table and get rid of the useless predictors.**"
   ]
  },
  {
   "cell_type": "code",
   "execution_count": 375,
   "metadata": {
    "scrolled": true
   },
   "outputs": [],
   "source": [
    "# fetching final dataframe after removing the variables with below 0.1 IV values\n",
    "pd.concat([credx_woe_df[credx_woe_df.columns.difference(bad_preds)], pd.DataFrame(credx_df['defaulted'])], axis=1).to_csv('credx_final.csv', index=False)"
   ]
  },
  {
   "cell_type": "code",
   "execution_count": 376,
   "metadata": {},
   "outputs": [],
   "source": [
    "# exporting the woe values for further use \n",
    "credx_woe.to_csv('credx_woe.csv', index=False)"
   ]
  },
  {
   "cell_type": "code",
   "execution_count": 383,
   "metadata": {
    "scrolled": true
   },
   "outputs": [],
   "source": [
    "# exporting the raw data for the financial analysis\n",
    "credx_df.loc[:, ['90DPD_12months', '60DPD_12months', '30DPD_12months', 'outstanding_balance', 'defaulted']].to_csv('credx_finance.csv', index=False)"
   ]
  },
  {
   "cell_type": "markdown",
   "metadata": {},
   "source": [
    "Now that we have the final dataset to do our modeling on, let's start with our modelling excercise in next workbook."
   ]
  },
  {
   "cell_type": "code",
   "execution_count": null,
   "metadata": {},
   "outputs": [],
   "source": []
  }
 ],
 "metadata": {
  "kernelspec": {
   "display_name": "Python 3",
   "language": "python",
   "name": "python3"
  },
  "language_info": {
   "codemirror_mode": {
    "name": "ipython",
    "version": 3
   },
   "file_extension": ".py",
   "mimetype": "text/x-python",
   "name": "python",
   "nbconvert_exporter": "python",
   "pygments_lexer": "ipython3",
   "version": "3.7.1"
  }
 },
 "nbformat": 4,
 "nbformat_minor": 2
}
